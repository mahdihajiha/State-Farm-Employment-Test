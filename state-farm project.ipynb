{
 "cells": [
  {
   "cell_type": "code",
   "execution_count": 1,
   "metadata": {},
   "outputs": [],
   "source": [
    "#We need to load pandas:\n",
    "import matplotlib.pyplot as plt\n",
    "%matplotlib inline\n",
    "import pandas as pd\n",
    "import numpy as np\n",
    "pd.options.mode.chained_assignment = None  # default='warn'\n",
    "from scipy import stats\n",
    "import seaborn as sns\n",
    "from collections import Counter\n",
    "import statistics\n",
    "from sklearn.impute import SimpleImputer\n",
    "from statsmodels.graphics.gofplots import qqplot\n",
    "from sklearn.preprocessing import StandardScaler"
   ]
  },
  {
   "cell_type": "markdown",
   "metadata": {},
   "source": [
    "## Explanatory data analysis\n",
    "\n",
    "First we read the data. You must change the path to the file path in your machine:"
   ]
  },
  {
   "cell_type": "code",
   "execution_count": 2,
   "metadata": {},
   "outputs": [],
   "source": [
    "train_data = pd.read_csv('C:/Users/mhajiha/Desktop/State Farm/exercise_40_train.csv'\n",
    "                         ,index_col=None )"
   ]
  },
  {
   "cell_type": "markdown",
   "metadata": {},
   "source": [
    "look at the first 10 rows:"
   ]
  },
  {
   "cell_type": "code",
   "execution_count": 3,
   "metadata": {},
   "outputs": [
    {
     "data": {
      "text/html": [
       "<div>\n",
       "<style scoped>\n",
       "    .dataframe tbody tr th:only-of-type {\n",
       "        vertical-align: middle;\n",
       "    }\n",
       "\n",
       "    .dataframe tbody tr th {\n",
       "        vertical-align: top;\n",
       "    }\n",
       "\n",
       "    .dataframe thead th {\n",
       "        text-align: right;\n",
       "    }\n",
       "</style>\n",
       "<table border=\"1\" class=\"dataframe\">\n",
       "  <thead>\n",
       "    <tr style=\"text-align: right;\">\n",
       "      <th></th>\n",
       "      <th>y</th>\n",
       "      <th>x1</th>\n",
       "      <th>x2</th>\n",
       "      <th>x3</th>\n",
       "      <th>x4</th>\n",
       "      <th>x5</th>\n",
       "      <th>x6</th>\n",
       "      <th>x7</th>\n",
       "      <th>x8</th>\n",
       "      <th>x9</th>\n",
       "      <th>...</th>\n",
       "      <th>x91</th>\n",
       "      <th>x92</th>\n",
       "      <th>x93</th>\n",
       "      <th>x94</th>\n",
       "      <th>x95</th>\n",
       "      <th>x96</th>\n",
       "      <th>x97</th>\n",
       "      <th>x98</th>\n",
       "      <th>x99</th>\n",
       "      <th>x100</th>\n",
       "    </tr>\n",
       "  </thead>\n",
       "  <tbody>\n",
       "    <tr>\n",
       "      <th>0</th>\n",
       "      <td>0</td>\n",
       "      <td>0.165254</td>\n",
       "      <td>18.060003</td>\n",
       "      <td>Wed</td>\n",
       "      <td>1.077380</td>\n",
       "      <td>-1.339233</td>\n",
       "      <td>-1.584341</td>\n",
       "      <td>0.0062%</td>\n",
       "      <td>0.220784</td>\n",
       "      <td>1.816481</td>\n",
       "      <td>...</td>\n",
       "      <td>-0.397427</td>\n",
       "      <td>0.909479</td>\n",
       "      <td>no</td>\n",
       "      <td>5.492487</td>\n",
       "      <td>NaN</td>\n",
       "      <td>10.255579</td>\n",
       "      <td>7.627730</td>\n",
       "      <td>0</td>\n",
       "      <td>yes</td>\n",
       "      <td>104.251338</td>\n",
       "    </tr>\n",
       "    <tr>\n",
       "      <th>1</th>\n",
       "      <td>1</td>\n",
       "      <td>2.441471</td>\n",
       "      <td>18.416307</td>\n",
       "      <td>Friday</td>\n",
       "      <td>1.482586</td>\n",
       "      <td>0.920817</td>\n",
       "      <td>-0.759931</td>\n",
       "      <td>0.0064%</td>\n",
       "      <td>1.192441</td>\n",
       "      <td>3.513950</td>\n",
       "      <td>...</td>\n",
       "      <td>0.656651</td>\n",
       "      <td>9.093466</td>\n",
       "      <td>no</td>\n",
       "      <td>3.346429</td>\n",
       "      <td>4.321172</td>\n",
       "      <td>NaN</td>\n",
       "      <td>10.505284</td>\n",
       "      <td>1</td>\n",
       "      <td>yes</td>\n",
       "      <td>101.230645</td>\n",
       "    </tr>\n",
       "    <tr>\n",
       "      <th>2</th>\n",
       "      <td>1</td>\n",
       "      <td>4.427278</td>\n",
       "      <td>19.188092</td>\n",
       "      <td>Thursday</td>\n",
       "      <td>0.145652</td>\n",
       "      <td>0.366093</td>\n",
       "      <td>0.709962</td>\n",
       "      <td>-8e-04%</td>\n",
       "      <td>0.952323</td>\n",
       "      <td>0.782974</td>\n",
       "      <td>...</td>\n",
       "      <td>2.059615</td>\n",
       "      <td>0.305170</td>\n",
       "      <td>no</td>\n",
       "      <td>4.456565</td>\n",
       "      <td>NaN</td>\n",
       "      <td>8.754572</td>\n",
       "      <td>7.810979</td>\n",
       "      <td>0</td>\n",
       "      <td>yes</td>\n",
       "      <td>109.345215</td>\n",
       "    </tr>\n",
       "    <tr>\n",
       "      <th>3</th>\n",
       "      <td>0</td>\n",
       "      <td>3.925235</td>\n",
       "      <td>19.901257</td>\n",
       "      <td>Tuesday</td>\n",
       "      <td>1.763602</td>\n",
       "      <td>-0.251926</td>\n",
       "      <td>-0.827461</td>\n",
       "      <td>-0.0057%</td>\n",
       "      <td>-0.520756</td>\n",
       "      <td>1.825586</td>\n",
       "      <td>...</td>\n",
       "      <td>0.899392</td>\n",
       "      <td>5.971782</td>\n",
       "      <td>no</td>\n",
       "      <td>4.100022</td>\n",
       "      <td>1.151085</td>\n",
       "      <td>NaN</td>\n",
       "      <td>9.178325</td>\n",
       "      <td>1</td>\n",
       "      <td>yes</td>\n",
       "      <td>103.021970</td>\n",
       "    </tr>\n",
       "    <tr>\n",
       "      <th>4</th>\n",
       "      <td>0</td>\n",
       "      <td>2.868802</td>\n",
       "      <td>22.202473</td>\n",
       "      <td>Sunday</td>\n",
       "      <td>3.405119</td>\n",
       "      <td>0.083162</td>\n",
       "      <td>1.381504</td>\n",
       "      <td>0.0109%</td>\n",
       "      <td>-0.732739</td>\n",
       "      <td>2.151990</td>\n",
       "      <td>...</td>\n",
       "      <td>3.003595</td>\n",
       "      <td>1.046096</td>\n",
       "      <td>yes</td>\n",
       "      <td>3.234033</td>\n",
       "      <td>2.074927</td>\n",
       "      <td>9.987006</td>\n",
       "      <td>11.702664</td>\n",
       "      <td>0</td>\n",
       "      <td>yes</td>\n",
       "      <td>92.925935</td>\n",
       "    </tr>\n",
       "    <tr>\n",
       "      <th>5</th>\n",
       "      <td>0</td>\n",
       "      <td>1.926053</td>\n",
       "      <td>19.524376</td>\n",
       "      <td>Saturday</td>\n",
       "      <td>3.702574</td>\n",
       "      <td>2.300792</td>\n",
       "      <td>-0.331106</td>\n",
       "      <td>0.0079%</td>\n",
       "      <td>3.085443</td>\n",
       "      <td>0.472701</td>\n",
       "      <td>...</td>\n",
       "      <td>-0.689223</td>\n",
       "      <td>5.253010</td>\n",
       "      <td>no</td>\n",
       "      <td>NaN</td>\n",
       "      <td>NaN</td>\n",
       "      <td>9.882197</td>\n",
       "      <td>5.632881</td>\n",
       "      <td>0</td>\n",
       "      <td>NaN</td>\n",
       "      <td>97.129172</td>\n",
       "    </tr>\n",
       "    <tr>\n",
       "      <th>6</th>\n",
       "      <td>0</td>\n",
       "      <td>0.094162</td>\n",
       "      <td>18.894755</td>\n",
       "      <td>Thursday</td>\n",
       "      <td>2.027918</td>\n",
       "      <td>1.580408</td>\n",
       "      <td>1.190932</td>\n",
       "      <td>0.0174%</td>\n",
       "      <td>-0.331730</td>\n",
       "      <td>2.178622</td>\n",
       "      <td>...</td>\n",
       "      <td>1.095847</td>\n",
       "      <td>NaN</td>\n",
       "      <td>no</td>\n",
       "      <td>5.132039</td>\n",
       "      <td>0.973211</td>\n",
       "      <td>9.076239</td>\n",
       "      <td>9.197448</td>\n",
       "      <td>0</td>\n",
       "      <td>yes</td>\n",
       "      <td>89.613323</td>\n",
       "    </tr>\n",
       "    <tr>\n",
       "      <th>7</th>\n",
       "      <td>0</td>\n",
       "      <td>0.921300</td>\n",
       "      <td>19.160713</td>\n",
       "      <td>Sat</td>\n",
       "      <td>-1.274067</td>\n",
       "      <td>-0.867023</td>\n",
       "      <td>-2.036134</td>\n",
       "      <td>-0.0106%</td>\n",
       "      <td>2.830838</td>\n",
       "      <td>1.206701</td>\n",
       "      <td>...</td>\n",
       "      <td>-0.512785</td>\n",
       "      <td>1.986687</td>\n",
       "      <td>no</td>\n",
       "      <td>3.625493</td>\n",
       "      <td>-0.113036</td>\n",
       "      <td>12.495594</td>\n",
       "      <td>6.927711</td>\n",
       "      <td>0</td>\n",
       "      <td>yes</td>\n",
       "      <td>102.151914</td>\n",
       "    </tr>\n",
       "    <tr>\n",
       "      <th>8</th>\n",
       "      <td>0</td>\n",
       "      <td>0.589354</td>\n",
       "      <td>21.627989</td>\n",
       "      <td>Wednesday</td>\n",
       "      <td>1.672593</td>\n",
       "      <td>0.158446</td>\n",
       "      <td>2.073026</td>\n",
       "      <td>0.0032%</td>\n",
       "      <td>-0.908026</td>\n",
       "      <td>-0.064304</td>\n",
       "      <td>...</td>\n",
       "      <td>NaN</td>\n",
       "      <td>5.221553</td>\n",
       "      <td>no</td>\n",
       "      <td>4.270353</td>\n",
       "      <td>1.072603</td>\n",
       "      <td>9.789410</td>\n",
       "      <td>7.349307</td>\n",
       "      <td>0</td>\n",
       "      <td>yes</td>\n",
       "      <td>96.251348</td>\n",
       "    </tr>\n",
       "    <tr>\n",
       "      <th>9</th>\n",
       "      <td>0</td>\n",
       "      <td>1.016857</td>\n",
       "      <td>21.440000</td>\n",
       "      <td>Tuesday</td>\n",
       "      <td>-2.619848</td>\n",
       "      <td>0.637245</td>\n",
       "      <td>1.357868</td>\n",
       "      <td>0.0091%</td>\n",
       "      <td>1.471836</td>\n",
       "      <td>0.811922</td>\n",
       "      <td>...</td>\n",
       "      <td>NaN</td>\n",
       "      <td>7.427018</td>\n",
       "      <td>no</td>\n",
       "      <td>2.794465</td>\n",
       "      <td>0.219889</td>\n",
       "      <td>10.211048</td>\n",
       "      <td>10.970247</td>\n",
       "      <td>0</td>\n",
       "      <td>NaN</td>\n",
       "      <td>97.814997</td>\n",
       "    </tr>\n",
       "  </tbody>\n",
       "</table>\n",
       "<p>10 rows × 101 columns</p>\n",
       "</div>"
      ],
      "text/plain": [
       "   y        x1         x2         x3        x4        x5        x6        x7  \\\n",
       "0  0  0.165254  18.060003        Wed  1.077380 -1.339233 -1.584341   0.0062%   \n",
       "1  1  2.441471  18.416307     Friday  1.482586  0.920817 -0.759931   0.0064%   \n",
       "2  1  4.427278  19.188092   Thursday  0.145652  0.366093  0.709962   -8e-04%   \n",
       "3  0  3.925235  19.901257    Tuesday  1.763602 -0.251926 -0.827461  -0.0057%   \n",
       "4  0  2.868802  22.202473     Sunday  3.405119  0.083162  1.381504   0.0109%   \n",
       "5  0  1.926053  19.524376   Saturday  3.702574  2.300792 -0.331106   0.0079%   \n",
       "6  0  0.094162  18.894755   Thursday  2.027918  1.580408  1.190932   0.0174%   \n",
       "7  0  0.921300  19.160713        Sat -1.274067 -0.867023 -2.036134  -0.0106%   \n",
       "8  0  0.589354  21.627989  Wednesday  1.672593  0.158446  2.073026   0.0032%   \n",
       "9  0  1.016857  21.440000    Tuesday -2.619848  0.637245  1.357868   0.0091%   \n",
       "\n",
       "         x8        x9  ...       x91       x92  x93       x94       x95  \\\n",
       "0  0.220784  1.816481  ... -0.397427  0.909479   no  5.492487       NaN   \n",
       "1  1.192441  3.513950  ...  0.656651  9.093466   no  3.346429  4.321172   \n",
       "2  0.952323  0.782974  ...  2.059615  0.305170   no  4.456565       NaN   \n",
       "3 -0.520756  1.825586  ...  0.899392  5.971782   no  4.100022  1.151085   \n",
       "4 -0.732739  2.151990  ...  3.003595  1.046096  yes  3.234033  2.074927   \n",
       "5  3.085443  0.472701  ... -0.689223  5.253010   no       NaN       NaN   \n",
       "6 -0.331730  2.178622  ...  1.095847       NaN   no  5.132039  0.973211   \n",
       "7  2.830838  1.206701  ... -0.512785  1.986687   no  3.625493 -0.113036   \n",
       "8 -0.908026 -0.064304  ...       NaN  5.221553   no  4.270353  1.072603   \n",
       "9  1.471836  0.811922  ...       NaN  7.427018   no  2.794465  0.219889   \n",
       "\n",
       "         x96        x97  x98  x99        x100  \n",
       "0  10.255579   7.627730    0  yes  104.251338  \n",
       "1        NaN  10.505284    1  yes  101.230645  \n",
       "2   8.754572   7.810979    0  yes  109.345215  \n",
       "3        NaN   9.178325    1  yes  103.021970  \n",
       "4   9.987006  11.702664    0  yes   92.925935  \n",
       "5   9.882197   5.632881    0  NaN   97.129172  \n",
       "6   9.076239   9.197448    0  yes   89.613323  \n",
       "7  12.495594   6.927711    0  yes  102.151914  \n",
       "8   9.789410   7.349307    0  yes   96.251348  \n",
       "9  10.211048  10.970247    0  NaN   97.814997  \n",
       "\n",
       "[10 rows x 101 columns]"
      ]
     },
     "execution_count": 3,
     "metadata": {},
     "output_type": "execute_result"
    }
   ],
   "source": [
    "train_data.head(10)"
   ]
  },
  {
   "cell_type": "markdown",
   "metadata": {},
   "source": [
    "Then we see how many rows and features are on this data:"
   ]
  },
  {
   "cell_type": "code",
   "execution_count": 4,
   "metadata": {},
   "outputs": [
    {
     "data": {
      "text/plain": [
       "(40000, 101)"
      ]
     },
     "execution_count": 4,
     "metadata": {},
     "output_type": "execute_result"
    }
   ],
   "source": [
    "train_data.shape    "
   ]
  },
  {
   "cell_type": "markdown",
   "metadata": {},
   "source": [
    "The data has 40000 instances and 100 features. See the distribution of our target variable y:"
   ]
  },
  {
   "cell_type": "code",
   "execution_count": 5,
   "metadata": {},
   "outputs": [
    {
     "data": {
      "text/plain": [
       "0    34197\n",
       "1     5803\n",
       "Name: y, dtype: int64"
      ]
     },
     "execution_count": 5,
     "metadata": {},
     "output_type": "execute_result"
    }
   ],
   "source": [
    "train_data['y'].value_counts()"
   ]
  },
  {
   "cell_type": "code",
   "execution_count": 6,
   "metadata": {},
   "outputs": [
    {
     "data": {
      "text/plain": [
       "<matplotlib.axes._subplots.AxesSubplot at 0x1e80076e5b0>"
      ]
     },
     "execution_count": 6,
     "metadata": {},
     "output_type": "execute_result"
    },
    {
     "data": {
      "image/png": "[encoded data removed]",
      "text/plain": [
       "<Figure size 432x288 with 1 Axes>"
      ]
     },
     "metadata": {
      "needs_background": "light"
     },
     "output_type": "display_data"
    }
   ],
   "source": [
    "sns.countplot(train_data['y'])"
   ]
  },
  {
   "cell_type": "markdown",
   "metadata": {},
   "source": [
    "The distribution of responses is highly unbalanced: 5803 ones to 34197 zeros. The will make it for any algorithm problems to find useful signals to classify the observations. For example if the model predicts all responses as zero, the is still a high accuracy. One way to deal with this problem is to optimize recall instead of accuracy. For an imbalanced class dataset F1 score is a more appropriate metric. It is the harmonic mean of precision and recall.\n",
    "Recall is the proportion of 1s in the responses that are that are predicted as 1 by the model. Precision is the propoertions of truly 1-predicted responses that are perdicted as 1. Another way to deal with this problem is to downsample the majority group. \n",
    "In this case, taking a random sample without replacement is adequate. An informed undersampling is done by discrading some observations. Selecting observations to discard is tricky. a clustering algorithm i.g. k-NN can be implemented to get a downsampled dataset so that it contains observations of every natural group of data within the majority class. By this procedure, all the underlying information in the sample will be retained. Otherwise, downsampling may select all of one type of observation, and valuable information is lost. \n",
    "\n",
    "During the resampling, different ratios can be tried, as each class does not have to contain the same number of observations.\n",
    "Here I consider a 0.5 - 0.5 ratio to make the distribution of classes balanced. Here I seperate x columns (predictors) and y column (response):"
   ]
  },
  {
   "cell_type": "code",
   "execution_count": 7,
   "metadata": {},
   "outputs": [
    {
     "data": {
      "text/plain": [
       "<matplotlib.axes._subplots.AxesSubplot at 0x1e800eb9ac0>"
      ]
     },
     "execution_count": 7,
     "metadata": {},
     "output_type": "execute_result"
    },
    {
     "data": {
      "image/png": "[encoded data removed]",
      "text/plain": [
       "<Figure size 432x288 with 1 Axes>"
      ]
     },
     "metadata": {
      "needs_background": "light"
     },
     "output_type": "display_data"
    }
   ],
   "source": [
    "x_train = train_data.iloc[:, 1:]\n",
    "y_train = train_data.iloc[:, 0]\n",
    "\n",
    "from sklearn.utils import resample\n",
    "\n",
    "'''\n",
    "Here I seperate the minority observations from the majority:\n",
    "'''\n",
    "majority = train_data[(y_train==0)] \n",
    "minority = train_data[(y_train==1)] \n",
    "# downsample sample majority class\n",
    "majority_downsampled = resample(majority, \n",
    "                                replace=True,    # sample with replacement\n",
    "                                n_samples= 5803, # to match majority class\n",
    "                                random_state=123)  # reproducible results\n",
    "# Combine minority class with downsampled minority class\n",
    "balanced_train_data = pd.concat([majority_downsampled, minority])\n",
    "\n",
    "sns.countplot(balanced_train_data['y'])\n"
   ]
  },
  {
   "cell_type": "markdown",
   "metadata": {},
   "source": [
    "Now we have a balanced data-set. Let's proceed. \n",
    "\n",
    "## Feature Engineering\n",
    "The first step in a machine learning pipeline project is feature engineering. It includes removing or adding feuateus, combining feautures, imputing missing data, sacaling the data and clipping the outliers. \n",
    "\n",
    "So the first step in feature engineering is removing feaures that do not have a high correlation with observations. \n",
    "\n",
    "\n",
    "We could invoke the corr() function. Remember that negative correlation is still a correlation but here, we should look for values closer to -1 or +1:"
   ]
  },
  {
   "cell_type": "code",
   "execution_count": 8,
   "metadata": {},
   "outputs": [
    {
     "data": {
      "text/html": [
       "<div>\n",
       "<style scoped>\n",
       "    .dataframe tbody tr th:only-of-type {\n",
       "        vertical-align: middle;\n",
       "    }\n",
       "\n",
       "    .dataframe tbody tr th {\n",
       "        vertical-align: top;\n",
       "    }\n",
       "\n",
       "    .dataframe thead th {\n",
       "        text-align: right;\n",
       "    }\n",
       "</style>\n",
       "<table border=\"1\" class=\"dataframe\">\n",
       "  <thead>\n",
       "    <tr style=\"text-align: right;\">\n",
       "      <th></th>\n",
       "      <th>y</th>\n",
       "      <th>x1</th>\n",
       "      <th>x2</th>\n",
       "      <th>x4</th>\n",
       "      <th>x5</th>\n",
       "      <th>x6</th>\n",
       "      <th>x8</th>\n",
       "      <th>x9</th>\n",
       "      <th>x10</th>\n",
       "      <th>x11</th>\n",
       "      <th>...</th>\n",
       "      <th>x89</th>\n",
       "      <th>x90</th>\n",
       "      <th>x91</th>\n",
       "      <th>x92</th>\n",
       "      <th>x94</th>\n",
       "      <th>x95</th>\n",
       "      <th>x96</th>\n",
       "      <th>x97</th>\n",
       "      <th>x98</th>\n",
       "      <th>x100</th>\n",
       "    </tr>\n",
       "  </thead>\n",
       "  <tbody>\n",
       "    <tr>\n",
       "      <th>y</th>\n",
       "      <td>1.000000</td>\n",
       "      <td>0.019280</td>\n",
       "      <td>0.007855</td>\n",
       "      <td>-0.001404</td>\n",
       "      <td>-0.043479</td>\n",
       "      <td>0.012600</td>\n",
       "      <td>-0.026730</td>\n",
       "      <td>0.002890</td>\n",
       "      <td>-0.002493</td>\n",
       "      <td>0.035934</td>\n",
       "      <td>...</td>\n",
       "      <td>-0.068173</td>\n",
       "      <td>0.018307</td>\n",
       "      <td>0.016345</td>\n",
       "      <td>0.012884</td>\n",
       "      <td>-0.000958</td>\n",
       "      <td>0.069910</td>\n",
       "      <td>-0.068985</td>\n",
       "      <td>0.015648</td>\n",
       "      <td>-0.016373</td>\n",
       "      <td>0.009127</td>\n",
       "    </tr>\n",
       "    <tr>\n",
       "      <th>x1</th>\n",
       "      <td>0.019280</td>\n",
       "      <td>1.000000</td>\n",
       "      <td>0.004029</td>\n",
       "      <td>-0.003843</td>\n",
       "      <td>0.004969</td>\n",
       "      <td>0.004857</td>\n",
       "      <td>-0.011906</td>\n",
       "      <td>0.007684</td>\n",
       "      <td>0.011509</td>\n",
       "      <td>-0.006231</td>\n",
       "      <td>...</td>\n",
       "      <td>-0.005603</td>\n",
       "      <td>0.011361</td>\n",
       "      <td>0.004331</td>\n",
       "      <td>-0.004012</td>\n",
       "      <td>-0.007542</td>\n",
       "      <td>-0.014053</td>\n",
       "      <td>0.001497</td>\n",
       "      <td>-0.004373</td>\n",
       "      <td>-0.001601</td>\n",
       "      <td>0.008573</td>\n",
       "    </tr>\n",
       "    <tr>\n",
       "      <th>x2</th>\n",
       "      <td>0.007855</td>\n",
       "      <td>0.004029</td>\n",
       "      <td>1.000000</td>\n",
       "      <td>0.055605</td>\n",
       "      <td>-0.174202</td>\n",
       "      <td>0.187758</td>\n",
       "      <td>0.002772</td>\n",
       "      <td>-0.300699</td>\n",
       "      <td>0.013087</td>\n",
       "      <td>-0.009442</td>\n",
       "      <td>...</td>\n",
       "      <td>-0.003186</td>\n",
       "      <td>-0.546107</td>\n",
       "      <td>0.149219</td>\n",
       "      <td>0.003832</td>\n",
       "      <td>-0.081097</td>\n",
       "      <td>-0.003073</td>\n",
       "      <td>0.009692</td>\n",
       "      <td>-0.024721</td>\n",
       "      <td>0.003967</td>\n",
       "      <td>-0.303892</td>\n",
       "    </tr>\n",
       "    <tr>\n",
       "      <th>x4</th>\n",
       "      <td>-0.001404</td>\n",
       "      <td>-0.003843</td>\n",
       "      <td>0.055605</td>\n",
       "      <td>1.000000</td>\n",
       "      <td>-0.024001</td>\n",
       "      <td>-0.066840</td>\n",
       "      <td>0.010606</td>\n",
       "      <td>-0.125802</td>\n",
       "      <td>0.009138</td>\n",
       "      <td>0.002283</td>\n",
       "      <td>...</td>\n",
       "      <td>-0.016887</td>\n",
       "      <td>-0.010532</td>\n",
       "      <td>0.155305</td>\n",
       "      <td>-0.004372</td>\n",
       "      <td>0.194729</td>\n",
       "      <td>-0.001258</td>\n",
       "      <td>0.000607</td>\n",
       "      <td>-0.119679</td>\n",
       "      <td>0.002800</td>\n",
       "      <td>-0.045505</td>\n",
       "    </tr>\n",
       "    <tr>\n",
       "      <th>x5</th>\n",
       "      <td>-0.043479</td>\n",
       "      <td>0.004969</td>\n",
       "      <td>-0.174202</td>\n",
       "      <td>-0.024001</td>\n",
       "      <td>1.000000</td>\n",
       "      <td>-0.184250</td>\n",
       "      <td>-0.003329</td>\n",
       "      <td>-0.101708</td>\n",
       "      <td>-0.010418</td>\n",
       "      <td>-0.017400</td>\n",
       "      <td>...</td>\n",
       "      <td>0.029634</td>\n",
       "      <td>0.002045</td>\n",
       "      <td>-0.202818</td>\n",
       "      <td>-0.011054</td>\n",
       "      <td>0.204574</td>\n",
       "      <td>0.030489</td>\n",
       "      <td>-0.028784</td>\n",
       "      <td>-0.171612</td>\n",
       "      <td>-0.004961</td>\n",
       "      <td>0.123951</td>\n",
       "    </tr>\n",
       "    <tr>\n",
       "      <th>...</th>\n",
       "      <td>...</td>\n",
       "      <td>...</td>\n",
       "      <td>...</td>\n",
       "      <td>...</td>\n",
       "      <td>...</td>\n",
       "      <td>...</td>\n",
       "      <td>...</td>\n",
       "      <td>...</td>\n",
       "      <td>...</td>\n",
       "      <td>...</td>\n",
       "      <td>...</td>\n",
       "      <td>...</td>\n",
       "      <td>...</td>\n",
       "      <td>...</td>\n",
       "      <td>...</td>\n",
       "      <td>...</td>\n",
       "      <td>...</td>\n",
       "      <td>...</td>\n",
       "      <td>...</td>\n",
       "      <td>...</td>\n",
       "      <td>...</td>\n",
       "    </tr>\n",
       "    <tr>\n",
       "      <th>x95</th>\n",
       "      <td>0.069910</td>\n",
       "      <td>-0.014053</td>\n",
       "      <td>-0.003073</td>\n",
       "      <td>-0.001258</td>\n",
       "      <td>0.030489</td>\n",
       "      <td>-0.006795</td>\n",
       "      <td>-0.122009</td>\n",
       "      <td>-0.007931</td>\n",
       "      <td>0.003130</td>\n",
       "      <td>-0.014462</td>\n",
       "      <td>...</td>\n",
       "      <td>0.350691</td>\n",
       "      <td>0.003802</td>\n",
       "      <td>-0.004719</td>\n",
       "      <td>0.000240</td>\n",
       "      <td>-0.007460</td>\n",
       "      <td>1.000000</td>\n",
       "      <td>-0.218310</td>\n",
       "      <td>0.000031</td>\n",
       "      <td>-0.021359</td>\n",
       "      <td>-0.008277</td>\n",
       "    </tr>\n",
       "    <tr>\n",
       "      <th>x96</th>\n",
       "      <td>-0.068985</td>\n",
       "      <td>0.001497</td>\n",
       "      <td>0.009692</td>\n",
       "      <td>0.000607</td>\n",
       "      <td>-0.028784</td>\n",
       "      <td>0.007586</td>\n",
       "      <td>0.147221</td>\n",
       "      <td>0.002320</td>\n",
       "      <td>-0.054518</td>\n",
       "      <td>0.134846</td>\n",
       "      <td>...</td>\n",
       "      <td>-0.099119</td>\n",
       "      <td>-0.028863</td>\n",
       "      <td>0.013460</td>\n",
       "      <td>0.006142</td>\n",
       "      <td>-0.022043</td>\n",
       "      <td>-0.218310</td>\n",
       "      <td>1.000000</td>\n",
       "      <td>-0.007084</td>\n",
       "      <td>0.006726</td>\n",
       "      <td>0.016965</td>\n",
       "    </tr>\n",
       "    <tr>\n",
       "      <th>x97</th>\n",
       "      <td>0.015648</td>\n",
       "      <td>-0.004373</td>\n",
       "      <td>-0.024721</td>\n",
       "      <td>-0.119679</td>\n",
       "      <td>-0.171612</td>\n",
       "      <td>0.044415</td>\n",
       "      <td>-0.011893</td>\n",
       "      <td>0.255252</td>\n",
       "      <td>0.008341</td>\n",
       "      <td>0.011194</td>\n",
       "      <td>...</td>\n",
       "      <td>-0.001260</td>\n",
       "      <td>0.007789</td>\n",
       "      <td>0.102765</td>\n",
       "      <td>0.001835</td>\n",
       "      <td>0.077902</td>\n",
       "      <td>0.000031</td>\n",
       "      <td>-0.007084</td>\n",
       "      <td>1.000000</td>\n",
       "      <td>-0.005615</td>\n",
       "      <td>-0.107396</td>\n",
       "    </tr>\n",
       "    <tr>\n",
       "      <th>x98</th>\n",
       "      <td>-0.016373</td>\n",
       "      <td>-0.001601</td>\n",
       "      <td>0.003967</td>\n",
       "      <td>0.002800</td>\n",
       "      <td>-0.004961</td>\n",
       "      <td>0.007359</td>\n",
       "      <td>-0.003964</td>\n",
       "      <td>-0.020412</td>\n",
       "      <td>-0.005110</td>\n",
       "      <td>-0.010071</td>\n",
       "      <td>...</td>\n",
       "      <td>-0.009141</td>\n",
       "      <td>0.014132</td>\n",
       "      <td>0.005882</td>\n",
       "      <td>-0.028917</td>\n",
       "      <td>-0.011893</td>\n",
       "      <td>-0.021359</td>\n",
       "      <td>0.006726</td>\n",
       "      <td>-0.005615</td>\n",
       "      <td>1.000000</td>\n",
       "      <td>0.002414</td>\n",
       "    </tr>\n",
       "    <tr>\n",
       "      <th>x100</th>\n",
       "      <td>0.009127</td>\n",
       "      <td>0.008573</td>\n",
       "      <td>-0.303892</td>\n",
       "      <td>-0.045505</td>\n",
       "      <td>0.123951</td>\n",
       "      <td>-0.215905</td>\n",
       "      <td>0.009833</td>\n",
       "      <td>0.329848</td>\n",
       "      <td>-0.010980</td>\n",
       "      <td>0.017017</td>\n",
       "      <td>...</td>\n",
       "      <td>0.003574</td>\n",
       "      <td>-0.002707</td>\n",
       "      <td>0.015588</td>\n",
       "      <td>-0.009361</td>\n",
       "      <td>0.372031</td>\n",
       "      <td>-0.008277</td>\n",
       "      <td>0.016965</td>\n",
       "      <td>-0.107396</td>\n",
       "      <td>0.002414</td>\n",
       "      <td>1.000000</td>\n",
       "    </tr>\n",
       "  </tbody>\n",
       "</table>\n",
       "<p>89 rows × 89 columns</p>\n",
       "</div>"
      ],
      "text/plain": [
       "             y        x1        x2        x4        x5        x6        x8  \\\n",
       "y     1.000000  0.019280  0.007855 -0.001404 -0.043479  0.012600 -0.026730   \n",
       "x1    0.019280  1.000000  0.004029 -0.003843  0.004969  0.004857 -0.011906   \n",
       "x2    0.007855  0.004029  1.000000  0.055605 -0.174202  0.187758  0.002772   \n",
       "x4   -0.001404 -0.003843  0.055605  1.000000 -0.024001 -0.066840  0.010606   \n",
       "x5   -0.043479  0.004969 -0.174202 -0.024001  1.000000 -0.184250 -0.003329   \n",
       "...        ...       ...       ...       ...       ...       ...       ...   \n",
       "x95   0.069910 -0.014053 -0.003073 -0.001258  0.030489 -0.006795 -0.122009   \n",
       "x96  -0.068985  0.001497  0.009692  0.000607 -0.028784  0.007586  0.147221   \n",
       "x97   0.015648 -0.004373 -0.024721 -0.119679 -0.171612  0.044415 -0.011893   \n",
       "x98  -0.016373 -0.001601  0.003967  0.002800 -0.004961  0.007359 -0.003964   \n",
       "x100  0.009127  0.008573 -0.303892 -0.045505  0.123951 -0.215905  0.009833   \n",
       "\n",
       "            x9       x10       x11  ...       x89       x90       x91  \\\n",
       "y     0.002890 -0.002493  0.035934  ... -0.068173  0.018307  0.016345   \n",
       "x1    0.007684  0.011509 -0.006231  ... -0.005603  0.011361  0.004331   \n",
       "x2   -0.300699  0.013087 -0.009442  ... -0.003186 -0.546107  0.149219   \n",
       "x4   -0.125802  0.009138  0.002283  ... -0.016887 -0.010532  0.155305   \n",
       "x5   -0.101708 -0.010418 -0.017400  ...  0.029634  0.002045 -0.202818   \n",
       "...        ...       ...       ...  ...       ...       ...       ...   \n",
       "x95  -0.007931  0.003130 -0.014462  ...  0.350691  0.003802 -0.004719   \n",
       "x96   0.002320 -0.054518  0.134846  ... -0.099119 -0.028863  0.013460   \n",
       "x97   0.255252  0.008341  0.011194  ... -0.001260  0.007789  0.102765   \n",
       "x98  -0.020412 -0.005110 -0.010071  ... -0.009141  0.014132  0.005882   \n",
       "x100  0.329848 -0.010980  0.017017  ...  0.003574 -0.002707  0.015588   \n",
       "\n",
       "           x92       x94       x95       x96       x97       x98      x100  \n",
       "y     0.012884 -0.000958  0.069910 -0.068985  0.015648 -0.016373  0.009127  \n",
       "x1   -0.004012 -0.007542 -0.014053  0.001497 -0.004373 -0.001601  0.008573  \n",
       "x2    0.003832 -0.081097 -0.003073  0.009692 -0.024721  0.003967 -0.303892  \n",
       "x4   -0.004372  0.194729 -0.001258  0.000607 -0.119679  0.002800 -0.045505  \n",
       "x5   -0.011054  0.204574  0.030489 -0.028784 -0.171612 -0.004961  0.123951  \n",
       "...        ...       ...       ...       ...       ...       ...       ...  \n",
       "x95   0.000240 -0.007460  1.000000 -0.218310  0.000031 -0.021359 -0.008277  \n",
       "x96   0.006142 -0.022043 -0.218310  1.000000 -0.007084  0.006726  0.016965  \n",
       "x97   0.001835  0.077902  0.000031 -0.007084  1.000000 -0.005615 -0.107396  \n",
       "x98  -0.028917 -0.011893 -0.021359  0.006726 -0.005615  1.000000  0.002414  \n",
       "x100 -0.009361  0.372031 -0.008277  0.016965 -0.107396  0.002414  1.000000  \n",
       "\n",
       "[89 rows x 89 columns]"
      ]
     },
     "execution_count": 8,
     "metadata": {},
     "output_type": "execute_result"
    }
   ],
   "source": [
    "balanced_train_data.corr()"
   ]
  },
  {
   "cell_type": "markdown",
   "metadata": {},
   "source": [
    "### Segragingt continous and categorical variables for special treatment:\n",
    "Becuase there are 89*89 elements (feautes with missing values are automatically put aside in the correlation matrix, there is not much we can duduce by observation. Furthermore, The judgement may be subjective.\n",
    "We need to resort to an automatic approach that filters out the variables that make difference in response. \n",
    "\n",
    "\n",
    "In this regard, let's first seperate the continuous and categorical features. To do that, let's see how many distinc values are in every feauture: "
   ]
  },
  {
   "cell_type": "code",
   "execution_count": 9,
   "metadata": {},
   "outputs": [
    {
     "name": "stdout",
     "output_type": "stream",
     "text": [
      "y 2\n",
      "x3 14\n",
      "x24 2\n",
      "x31 2\n",
      "x33 51\n",
      "x39 1\n",
      "x59 2\n",
      "x60 12\n",
      "x65 5\n",
      "x77 7\n",
      "x79 2\n",
      "x93 2\n",
      "x98 2\n",
      "x99 1\n"
     ]
    }
   ],
   "source": [
    "for i,feature in enumerate(balanced_train_data.columns):\n",
    "    if  balanced_train_data.iloc[:,i].nunique() < 500 :\n",
    "        print(feature, balanced_train_data.iloc[:,i].nunique())"
   ]
  },
  {
   "cell_type": "markdown",
   "metadata": {},
   "source": [
    "Some features have only 1 value, let's eliminate them in place."
   ]
  },
  {
   "cell_type": "code",
   "execution_count": 10,
   "metadata": {},
   "outputs": [],
   "source": [
    "cat_feat = ['x39', 'x99']\n",
    "balanced_train_data.drop(cat_feat, axis=1, inplace=True)"
   ]
  },
  {
   "cell_type": "markdown",
   "metadata": {},
   "source": [
    "Now let's make a list of categorical features and seperate them. We need to treat them differently. Looking closely to data reveals that we have some features relating to U.S. states than count to at most 51 unique values. Features that have beyond this number of unique values are continous. Let's make the threshold equal to 500 so that to be safe if later on, other regions are added."
   ]
  },
  {
   "cell_type": "code",
   "execution_count": 11,
   "metadata": {},
   "outputs": [],
   "source": [
    "continuous_feat = []\n",
    "categorical_feat = []\n",
    "for i,feature in enumerate(balanced_train_data.columns):\n",
    "    if balanced_train_data.iloc[:,i].nunique() > 500:\n",
    "        continuous_feat.append(balanced_train_data.columns[i])\n",
    "    else:\n",
    "        categorical_feat.append(balanced_train_data.columns[i])"
   ]
  },
  {
   "cell_type": "markdown",
   "metadata": {},
   "source": [
    "To adhere to the naming convention and to make statements shorter, let's name the train data as simply \"df\"."
   ]
  },
  {
   "cell_type": "code",
   "execution_count": 12,
   "metadata": {},
   "outputs": [],
   "source": [
    "df = balanced_train_data.copy()  # copy by value not reference"
   ]
  },
  {
   "cell_type": "markdown",
   "metadata": {},
   "source": [
    "Let's see the data types for the continuous features if they are not float64:"
   ]
  },
  {
   "cell_type": "code",
   "execution_count": 13,
   "metadata": {},
   "outputs": [
    {
     "name": "stdout",
     "output_type": "stream",
     "text": [
      "x7 object\n",
      "x19 object\n"
     ]
    }
   ],
   "source": [
    "for i in continuous_feat:\n",
    "    if  df[i].dtypes != \"float64\" : #most data type in this dataset are float64\n",
    "       print(i, df[i] .dtypes)"
   ]
  },
  {
   "cell_type": "markdown",
   "metadata": {},
   "source": [
    "Variables'x7' and 'x19' are non-numeric. Let's see them more closely:"
   ]
  },
  {
   "cell_type": "code",
   "execution_count": 14,
   "metadata": {},
   "outputs": [
    {
     "data": {
      "text/html": [
       "<div>\n",
       "<style scoped>\n",
       "    .dataframe tbody tr th:only-of-type {\n",
       "        vertical-align: middle;\n",
       "    }\n",
       "\n",
       "    .dataframe tbody tr th {\n",
       "        vertical-align: top;\n",
       "    }\n",
       "\n",
       "    .dataframe thead th {\n",
       "        text-align: right;\n",
       "    }\n",
       "</style>\n",
       "<table border=\"1\" class=\"dataframe\">\n",
       "  <thead>\n",
       "    <tr style=\"text-align: right;\">\n",
       "      <th></th>\n",
       "      <th>x7</th>\n",
       "      <th>x19</th>\n",
       "    </tr>\n",
       "  </thead>\n",
       "  <tbody>\n",
       "    <tr>\n",
       "      <th>18377</th>\n",
       "      <td>0.0023%</td>\n",
       "      <td>$-528.388126457053</td>\n",
       "    </tr>\n",
       "    <tr>\n",
       "      <th>32825</th>\n",
       "      <td>0.008%</td>\n",
       "      <td>$-629.966938922734</td>\n",
       "    </tr>\n",
       "    <tr>\n",
       "      <th>20747</th>\n",
       "      <td>-0.0099%</td>\n",
       "      <td>$-286.31196243064</td>\n",
       "    </tr>\n",
       "    <tr>\n",
       "      <th>17979</th>\n",
       "      <td>-0.0032%</td>\n",
       "      <td>$-1396.45736014961</td>\n",
       "    </tr>\n",
       "    <tr>\n",
       "      <th>9086</th>\n",
       "      <td>0.0047%</td>\n",
       "      <td>$-107.202473458502</td>\n",
       "    </tr>\n",
       "  </tbody>\n",
       "</table>\n",
       "</div>"
      ],
      "text/plain": [
       "             x7                 x19\n",
       "18377   0.0023%  $-528.388126457053\n",
       "32825    0.008%  $-629.966938922734\n",
       "20747  -0.0099%   $-286.31196243064\n",
       "17979  -0.0032%  $-1396.45736014961\n",
       "9086    0.0047%  $-107.202473458502"
      ]
     },
     "execution_count": 14,
     "metadata": {},
     "output_type": "execute_result"
    }
   ],
   "source": [
    "df[['x7', 'x19']].head(5)"
   ]
  },
  {
   "cell_type": "markdown",
   "metadata": {},
   "source": [
    "Some continous features are str format. Let's make all continiuous features as float64.\n",
    "variable 'x7' has a % sign and variable 'x19' has a $ sign. These two variables do not have NA values. Let's strip these values off of those signs and convert them to float. The indcies for these variables are not sequesntial. So I first make a list and then convert the values to float. Then copy the list back to the dataframe."
   ]
  },
  {
   "cell_type": "code",
   "execution_count": 15,
   "metadata": {},
   "outputs": [],
   "source": [
    "assert  df['x7'].isnull().sum() == 0  #make sure there is no null values\n",
    "assert df['x19'].isnull().sum() == 0"
   ]
  },
  {
   "cell_type": "code",
   "execution_count": 16,
   "metadata": {},
   "outputs": [],
   "source": [
    "x7 = list(df['x7'])\n",
    "x19 = list(df['x19'])\n",
    "x7 = [float(x7[i].replace('%',''))   for i in range(len(df))]\n",
    "x19 = [float(x19[i].replace('$',''))   for i in range(len(df))]\n",
    "df['x7'] = x7\n",
    "df['x19'] = x19"
   ]
  },
  {
   "cell_type": "markdown",
   "metadata": {},
   "source": [
    "### Missing values\n",
    "Let's see how many nan values are in each feature:"
   ]
  },
  {
   "cell_type": "code",
   "execution_count": 17,
   "metadata": {},
   "outputs": [
    {
     "name": "stdout",
     "output_type": "stream",
     "text": [
      "x5 729\n",
      "x11 1485\n",
      "x14 2926\n",
      "x16 3733\n",
      "x22 707\n",
      "x24 1069\n",
      "x26 719\n",
      "x30 9404\n",
      "x33 2073\n",
      "x38 713\n",
      "x41 2789\n",
      "x42 2711\n",
      "x44 9936\n",
      "x45 2315\n",
      "x49 3689\n",
      "x52 4675\n",
      "x54 3614\n",
      "x55 5107\n",
      "x57 9455\n",
      "x61 2109\n",
      "x63 692\n",
      "x64 1449\n",
      "x67 721\n",
      "x68 712\n",
      "x74 3727\n",
      "x75 1549\n",
      "x76 1475\n",
      "x77 2634\n",
      "x78 3345\n",
      "x79 728\n",
      "x80 1493\n",
      "x83 689\n",
      "x85 2800\n",
      "x86 667\n",
      "x88 672\n",
      "x89 3316\n",
      "x91 1533\n",
      "x92 716\n",
      "x94 673\n",
      "x95 3667\n",
      "x96 2068\n"
     ]
    }
   ],
   "source": [
    "num_na = []\n",
    "for feature in df.columns:\n",
    "    num_na.append(df[feature].isnull().sum())\n",
    "    if df[feature].isnull().sum() > 0:\n",
    "        print(feature,df[feature].isnull().sum())"
   ]
  },
  {
   "cell_type": "markdown",
   "metadata": {},
   "source": [
    "As you can see, meany of the features have na values. There are several strategies to fill missing values. \n",
    "For example, we can fill them by mean or median of non na values, but first we need to figure out if na values are are missing systematically. If they are missing systematically, then being missing can be a regraded as a feature. There are four kinds of missing vairbales:\n",
    "    \n",
    "\n",
    "**1-Missing at completely at random:** Being a missing value is like rolling a die. We may eliminate the missing variables or impute them.  \n",
    "\n",
    "**2-Missing at random:** Being missing depends on the other existing predictors of the same response. The probability being missing depends only on other, fully recorded variables. We may only eliminate them when the regression controls\n",
    "for all the variables that affect the probability of missingness. This missing-at-random assumption is casual.\n",
    "\n",
    "**3-Missingness that depends on unobserved predictors:** Missingness is no longer “at random” if it depends on information that has not been recorded and this information also predicts the missing values. If missingness is not at random, it must be explicitly modeled, or else we must accept some bias in our inferences.\n",
    "\n",
    "**4-Missingness that depends on the missing value itself:** Finally, a particularly difficult situation arises when the probability of missingness depends  on the (potentially missing) variable itself. This is called censoring. For example, people with higher earnings are less likely to reveal them. Including more predictors in the missing-data brings it closer to missing at random.\n",
    "\n",
    "\n",
    "Generally it is very hard to disntinguish what category a missing values belongs to. One simplistic approach is imputing the missing values for continuous features with the mean value and imputing the missing values for categorical features with the mode of that feature. \n",
    "\n",
    "More sophisticated approach is to use linear regression or stochastic linear regression to regress the  missing data based on other predictors. \n",
    "\n",
    "Another approach is to find the similar data points and impute the missing data with the value the most similar data-point holds for that feature. Similarity can be regraded as Euclidean distance in the hyperplane of the variables space.\n",
    "\n",
    "In this data-set, the nature of the other predictors is unknown, so we don't know how to regress the missing vlaues of a feature by other features. Let's take the simplistic approach at impute by mean. "
   ]
  },
  {
   "cell_type": "code",
   "execution_count": 18,
   "metadata": {},
   "outputs": [
    {
     "name": "stdout",
     "output_type": "stream",
     "text": [
      "The hypothesis that feature x16 is missing systematically is rejected by p-value = 1.95e-36\n",
      "The hypothesis that feature x89 is missing systematically is rejected by p-value = 1.75e-07\n",
      "The hypothesis that feature x96 is missing systematically is rejected by p-value = 1.19e-09\n"
     ]
    }
   ],
   "source": [
    "indicator_df = pd.DataFrame()\n",
    "for feature in df.columns:\n",
    "    my_imputer = SimpleImputer(strategy = 'most_frequent') # To impute the categorical features based on the most frequent\n",
    "    df.groupby(df[feature].isnull())['y'].mean()\n",
    "    missing_y = df[df[feature].isnull()]['y'].values.tolist()\n",
    "    non_missing_y =  df[df[feature].notnull()]['y'].values.tolist()\n",
    "    tstat, pval = stats.ttest_ind(missing_y, non_missing_y, equal_var=False)       \n",
    "    if pval < 0.05:\n",
    "        print(\"The hypothesis that feature {} is missing systematically is rejected by p-value = {:.3}\".format(feature,pval))\n",
    "        indicator_df['{}_indicator'.format(feature)] = df[feature].isnull()\n",
    "\n",
    "    if feature in continuous_feat:\n",
    "        df[feature] = df[feature].fillna( df[feature].mean())\n",
    "    if feature in categorical_feat:\n",
    "        new_array = df[feature].values.reshape(-1,1)\n",
    "        data_new = my_imputer.fit_transform(new_array)\n",
    "        df[feature] = data_new\n"
   ]
  },
  {
   "cell_type": "markdown",
   "metadata": {},
   "source": [
    "Features x16, x89, and x96 are not missing at random. In this situation we can make additional indicator variables that hold the value of 1 for mssing values and 0 for non-missing values. These variables are contributing to make indicator variables stored in a different data-frame called indicator_df.\n",
    "\n",
    "\n",
    "Let's check the total number of missing values again:"
   ]
  },
  {
   "cell_type": "code",
   "execution_count": 19,
   "metadata": {},
   "outputs": [
    {
     "name": "stdout",
     "output_type": "stream",
     "text": [
      "0\n"
     ]
    }
   ],
   "source": [
    "num_na = []\n",
    "for feature in df.columns:\n",
    "    num_na.append(df[feature].isnull().sum())\n",
    "print(sum(num_na))  "
   ]
  },
  {
   "cell_type": "markdown",
   "metadata": {},
   "source": [
    "### Significant continuous variables:"
   ]
  },
  {
   "cell_type": "code",
   "execution_count": 20,
   "metadata": {},
   "outputs": [
    {
     "name": "stdout",
     "output_type": "stream",
     "text": [
      "\n",
      "*** Results for x1 ***\n",
      "    count      mean       std       min       25%       50%       75%  \\\n",
      "y                                                                       \n",
      "0  5803.0  2.982970  1.995359 -3.648431  1.598285  2.865714  4.231260   \n",
      "1  5803.0  3.059679  1.982903 -2.500499  1.687725  2.949711  4.331014   \n",
      "\n",
      "         max  \n",
      "y             \n",
      "0  12.891748  \n",
      "1  11.147651  \n",
      "t-statistic: 2.1, p-value: 0.0378\n",
      "None\n",
      "\n",
      "*** Results for x2 ***\n",
      "    count       mean       std        min        25%        50%        75%  \\\n",
      "y                                                                            \n",
      "0  5803.0  20.013407  1.609433  14.993739  18.946949  19.978338  21.092869   \n",
      "1  5803.0  20.038727  1.614241  13.714945  18.950822  20.036757  21.105730   \n",
      "\n",
      "         max  \n",
      "y             \n",
      "0  27.086468  \n",
      "1  26.280843  \n",
      "t-statistic: 0.8, p-value: 0.397\n",
      "None\n",
      "\n",
      "*** Results for x4 ***\n",
      "    count      mean       std       min       25%       50%       75%  \\\n",
      "y                                                                       \n",
      "0  5803.0 -0.004792  1.513249 -4.782945 -1.097058 -0.031622  1.101081   \n",
      "1  5803.0 -0.008393  0.998980 -3.574260 -0.706898 -0.013706  0.700340   \n",
      "\n",
      "        max  \n",
      "y            \n",
      "0  4.738335  \n",
      "1  3.385586  \n",
      "t-statistic: -0.2, p-value: 0.88\n",
      "None\n",
      "\n",
      "*** Results for x5 ***\n",
      "    count      mean       std       min       25%       50%       75%  \\\n",
      "y                                                                       \n",
      "0  5803.0  0.041703  1.246013 -5.175900 -0.790838 -0.010485  0.871931   \n",
      "1  5803.0 -0.062673  1.231707 -4.338612 -0.857602 -0.010485  0.714746   \n",
      "\n",
      "        max  \n",
      "y            \n",
      "0  4.392426  \n",
      "1  4.607109  \n",
      "t-statistic: -4.5, p-value: 5.73e-06\n",
      "None\n",
      "\n",
      "*** Results for x6 ***\n",
      "    count      mean       std       min       25%       50%       75%  \\\n",
      "y                                                                       \n",
      "0  5803.0 -0.005222  1.350887 -6.113153 -0.890918  0.002558  0.900857   \n",
      "1  5803.0  0.028833  1.351897 -4.251801 -0.894470  0.023194  0.958264   \n",
      "\n",
      "        max  \n",
      "y            \n",
      "0  4.692609  \n",
      "1  4.663050  \n",
      "t-statistic: 1.4, p-value: 0.175\n",
      "None\n",
      "\n",
      "*** Results for x7 ***\n",
      "    count      mean       std     min     25%     50%     75%     max\n",
      "y                                                                    \n",
      "0  5803.0  0.001267  0.009775 -0.0308 -0.0053  0.0012  0.0081  0.0344\n",
      "1  5803.0 -0.005517  0.009502 -0.0412 -0.0119 -0.0055  0.0010  0.0315\n",
      "t-statistic: -37.9, p-value: 1.75e-296\n",
      "None\n",
      "\n",
      "*** Results for x8 ***\n",
      "    count      mean       std       min       25%       50%       75%  \\\n",
      "y                                                                       \n",
      "0  5803.0  0.011001  1.429352 -5.209862 -0.972068  0.009454  0.984523   \n",
      "1  5803.0 -0.065374  1.427180 -5.560721 -1.031058 -0.072348  0.917143   \n",
      "\n",
      "        max  \n",
      "y            \n",
      "0  5.180207  \n",
      "1  5.845631  \n",
      "t-statistic: -2.9, p-value: 0.00398\n",
      "None\n",
      "\n",
      "*** Results for x9 ***\n",
      "    count      mean       std       min       25%       50%       75%  \\\n",
      "y                                                                       \n",
      "0  5803.0  2.717238  1.986422 -2.882142  1.302474  2.497077  3.826911   \n",
      "1  5803.0  2.728689  1.976228 -2.813282  1.328581  2.517846  3.852464   \n",
      "\n",
      "         max  \n",
      "y             \n",
      "0  14.609507  \n",
      "1  15.857651  \n",
      "t-statistic: 0.3, p-value: 0.756\n",
      "None\n",
      "\n",
      "*** Results for x10 ***\n",
      "    count      mean       std       min       25%       50%       75%  \\\n",
      "y                                                                       \n",
      "0  5803.0  0.489764  1.020824 -2.928161 -0.208648  0.472582  1.188777   \n",
      "1  5803.0  0.484671  1.022132 -2.824859 -0.221042  0.478965  1.163944   \n",
      "\n",
      "        max  \n",
      "y            \n",
      "0  4.368484  \n",
      "1  4.096752  \n",
      "t-statistic: -0.3, p-value: 0.788\n",
      "None\n",
      "\n",
      "*** Results for x11 ***\n",
      "    count        mean        std        min        25%         50%  \\\n",
      "y                                                                    \n",
      "0  5803.0   99.693614  12.219348  54.150951  92.310935  100.106931   \n",
      "1  5803.0  100.520249  12.402700  56.246924  93.435331  100.106931   \n",
      "\n",
      "          75%         max  \n",
      "y                          \n",
      "0  106.965660  148.784484  \n",
      "1  108.269183  145.703456  \n",
      "t-statistic: 3.6, p-value: 0.0003\n",
      "None\n",
      "\n",
      "*** Results for x12 ***\n",
      "    count      mean       std       min       25%       50%       75%  \\\n",
      "y                                                                       \n",
      "0  5803.0  3.028357  3.545762 -5.846331 -0.217734  3.069087  6.205262   \n",
      "1  5803.0  3.064733  3.592717 -4.537010 -0.211444  3.075277  6.305880   \n",
      "\n",
      "         max  \n",
      "y             \n",
      "0  10.700131  \n",
      "1  10.830554  \n",
      "t-statistic: 0.5, p-value: 0.583\n",
      "None\n",
      "\n",
      "*** Results for x13 ***\n",
      "    count      mean       std       min       25%       50%       75%  \\\n",
      "y                                                                       \n",
      "0  5803.0  3.871365  2.637452 -2.429749  2.036599  3.448478  5.295119   \n",
      "1  5803.0  3.800259  2.671645 -1.892075  1.897228  3.354986  5.212763   \n",
      "\n",
      "         max  \n",
      "y             \n",
      "0  21.928817  \n",
      "1  25.634165  \n",
      "t-statistic: -1.4, p-value: 0.149\n",
      "None\n",
      "\n",
      "*** Results for x14 ***\n",
      "    count      mean       std       min       25%       50%       75%  \\\n",
      "y                                                                       \n",
      "0  5803.0  0.810703  0.649471 -0.337810  0.387450  0.802219  1.074305   \n",
      "1  5803.0  0.793734  0.652499 -0.338421  0.351674  0.802219  1.037843   \n",
      "\n",
      "        max  \n",
      "y            \n",
      "0  4.221030  \n",
      "1  4.050842  \n",
      "t-statistic: -1.4, p-value: 0.16\n",
      "None\n",
      "\n",
      "*** Results for x15 ***\n",
      "    count      mean       std       min       25%       50%       75%  \\\n",
      "y                                                                       \n",
      "0  5803.0  0.013427  1.481588 -5.436486 -0.993175  0.019481  1.030134   \n",
      "1  5803.0 -0.008946  1.468129 -5.527156 -0.992850  0.005447  0.954301   \n",
      "\n",
      "        max  \n",
      "y            \n",
      "0  5.346264  \n",
      "1  5.729400  \n",
      "t-statistic: -0.8, p-value: 0.414\n",
      "None\n",
      "\n",
      "*** Results for x16 ***\n",
      "    count        mean       std        min         25%         50%  \\\n",
      "y                                                                    \n",
      "0  5803.0  100.685434  0.911456  99.131466  100.100909  100.609711   \n",
      "1  5803.0  100.533989  0.762543  99.131429  100.083249  100.609711   \n",
      "\n",
      "          75%         max  \n",
      "y                          \n",
      "0  101.056035  104.753426  \n",
      "1  100.609711  104.753426  \n",
      "t-statistic: -9.7, p-value: 3.41e-22\n",
      "None\n",
      "\n",
      "*** Results for x17 ***\n",
      "    count      mean       std       min       25%       50%       75%  \\\n",
      "y                                                                       \n",
      "0  5803.0  7.960434  2.259191 -1.384508  6.414957  7.983251  9.478275   \n",
      "1  5803.0  8.034251  2.271549 -0.908237  6.469656  8.036354  9.554774   \n",
      "\n",
      "         max  \n",
      "y             \n",
      "0  16.269610  \n",
      "1  16.659304  \n",
      "t-statistic: 1.8, p-value: 0.0793\n",
      "None\n",
      "\n",
      "*** Results for x18 ***\n",
      "    count       mean       std        min        25%        50%        75%  \\\n",
      "y                                                                            \n",
      "0  5803.0  80.156430  6.495147  67.767776  74.242583  80.124891  86.213761   \n",
      "1  5803.0  79.078594  6.473867  66.756855  73.109329  78.510297  84.788118   \n",
      "\n",
      "         max  \n",
      "y             \n",
      "0  92.599942  \n",
      "1  93.909754  \n",
      "t-statistic: -9.0, p-value: 3.97e-19\n",
      "None\n",
      "\n",
      "*** Results for x19 ***\n",
      "    count        mean          std          min         25%         50%  \\\n",
      "y                                                                         \n",
      "0  5803.0   -9.915121   984.042088 -3260.894461 -678.233801   -8.014102   \n",
      "1  5803.0 -115.248137  1012.808067 -3969.865815 -773.066597 -108.811412   \n",
      "\n",
      "          75%          max  \n",
      "y                           \n",
      "0  658.111326  3284.281083  \n",
      "1  543.922550  3451.602516  \n",
      "t-statistic: -5.7, p-value: 1.36e-08\n",
      "None\n",
      "\n",
      "*** Results for x20 ***\n",
      "    count      mean       std       min       25%       50%       75%  \\\n",
      "y                                                                       \n",
      "0  5803.0  5.003073  3.557574 -6.640579  2.591934  5.012256  7.348953   \n",
      "1  5803.0  4.900410  3.473664 -9.561032  2.558063  4.970812  7.237234   \n",
      "\n",
      "         max  \n",
      "y             \n",
      "0  18.050426  \n",
      "1  17.274426  \n",
      "t-statistic: -1.6, p-value: 0.116\n",
      "None\n",
      "\n",
      "*** Results for x21 ***\n",
      "    count       mean        std       min       25%       50%        75%  \\\n",
      "y                                                                          \n",
      "0  5803.0  10.605996  15.456768 -3.420625  1.292180  4.799483  14.016955   \n",
      "1  5803.0  11.275432  15.966841 -3.397155  1.402949  5.289711  14.642468   \n",
      "\n",
      "          max  \n",
      "y              \n",
      "0  168.173024  \n",
      "1  196.185637  \n",
      "t-statistic: 2.3, p-value: 0.0218\n",
      "None\n",
      "\n",
      "*** Results for x22 ***\n",
      "    count       mean        std       min        25%       50%        75%  \\\n",
      "y                                                                           \n",
      "0  5803.0  72.280653  26.779408  5.658700  53.242838  70.77460  86.791711   \n",
      "1  5803.0  71.926849  25.620987  7.913539  53.936843  71.14218  86.719472   \n",
      "\n",
      "          max  \n",
      "y              \n",
      "0  219.484942  \n",
      "1  197.729600  \n",
      "t-statistic: -0.7, p-value: 0.467\n",
      "None\n",
      "\n",
      "*** Results for x23 ***\n",
      "    count      mean       std       min       25%       50%       75%  \\\n",
      "y                                                                       \n",
      "0  5803.0  0.218880  1.030800 -3.234354 -0.459006  0.211169  0.911643   \n",
      "1  5803.0  0.202854  1.021311 -3.626300 -0.490348  0.207129  0.889897   \n",
      "\n",
      "        max  \n",
      "y            \n",
      "0  4.025494  \n",
      "1  3.494778  \n"
     ]
    },
    {
     "name": "stdout",
     "output_type": "stream",
     "text": [
      "t-statistic: -0.8, p-value: 0.4\n",
      "None\n",
      "\n",
      "*** Results for x25 ***\n",
      "    count      mean       std       min      25%       50%       75%  \\\n",
      "y                                                                      \n",
      "0  5803.0  5.026787  2.423567 -2.134298  3.33510  4.879114  6.591027   \n",
      "1  5803.0  4.997601  2.411744 -2.481233  3.28255  4.868005  6.525028   \n",
      "\n",
      "         max  \n",
      "y             \n",
      "0  14.246155  \n",
      "1  14.864223  \n",
      "t-statistic: -0.7, p-value: 0.516\n",
      "None\n",
      "\n",
      "*** Results for x26 ***\n",
      "    count      mean       std       min       25%       50%       75%  \\\n",
      "y                                                                       \n",
      "0  5803.0  0.042429  1.508350 -5.686049 -0.910916  0.013091  0.996274   \n",
      "1  5803.0 -0.016247  1.498391 -5.763695 -0.997773  0.013091  0.958849   \n",
      "\n",
      "        max  \n",
      "y            \n",
      "0  6.696843  \n",
      "1  5.752074  \n",
      "t-statistic: -2.1, p-value: 0.0355\n",
      "None\n",
      "\n",
      "*** Results for x27 ***\n",
      "    count         mean         std         min         25%          50%  \\\n",
      "y                                                                         \n",
      "0  5803.0   999.070765  104.299522  604.067215  928.733704   998.309412   \n",
      "1  5803.0  1004.185204  102.715006  645.530004  936.345174  1005.955040   \n",
      "\n",
      "           75%          max  \n",
      "y                            \n",
      "0  1069.033430  1394.194603  \n",
      "1  1072.255011  1355.028794  \n",
      "t-statistic: 2.7, p-value: 0.00779\n",
      "None\n",
      "\n",
      "*** Results for x28 ***\n",
      "    count       mean       std       min        25%        50%        75%  \\\n",
      "y                                                                           \n",
      "0  5803.0  14.979274  3.624764  1.990824  12.511031  14.898106  17.471808   \n",
      "1  5803.0  15.483867  3.614270  2.396167  13.055196  15.517117  17.877416   \n",
      "\n",
      "         max  \n",
      "y             \n",
      "0  26.669914  \n",
      "1  27.565002  \n",
      "t-statistic: 7.5, p-value: 6.38e-14\n",
      "None\n",
      "\n",
      "*** Results for x29 ***\n",
      "    count      mean       std       min       25%       50%       75%  \\\n",
      "y                                                                       \n",
      "0  5803.0  1.015032  1.406107 -3.701969  0.060345  0.941409  1.904683   \n",
      "1  5803.0  1.007069  1.418069 -4.165802  0.005766  0.959222  1.923714   \n",
      "\n",
      "        max  \n",
      "y            \n",
      "0  6.365352  \n",
      "1  6.421544  \n",
      "t-statistic: -0.3, p-value: 0.761\n",
      "None\n",
      "\n",
      "*** Results for x30 ***\n",
      "    count      mean       std       min       25%       50%       75%  \\\n",
      "y                                                                       \n",
      "0  5803.0 -0.005074  0.667215 -4.262367 -0.007306 -0.007306 -0.007306   \n",
      "1  5803.0 -0.009538  0.679600 -4.340408 -0.007306 -0.007306 -0.007306   \n",
      "\n",
      "        max  \n",
      "y            \n",
      "0  4.456856  \n",
      "1  4.436247  \n",
      "t-statistic: -0.4, p-value: 0.721\n",
      "None\n",
      "\n",
      "*** Results for x32 ***\n",
      "    count      mean       std       min       25%       50%       75%  \\\n",
      "y                                                                       \n",
      "0  5803.0  0.518045  1.866397 -3.568271 -0.522016  0.249133  1.096062   \n",
      "1  5803.0  0.695923  2.117858 -3.884866 -0.450205  0.324544  1.221553   \n",
      "\n",
      "         max  \n",
      "y             \n",
      "0  18.057464  \n",
      "1  19.519174  \n",
      "t-statistic: 4.8, p-value: 1.61e-06\n",
      "None\n",
      "\n",
      "*** Results for x34 ***\n",
      "    count       mean       std        min        25%        50%        75%  \\\n",
      "y                                                                            \n",
      "0  5803.0  52.915086  5.892203  30.651380  48.959984  52.931472  56.974710   \n",
      "1  5803.0  53.022539  5.621311  30.755922  49.273893  53.067886  56.775266   \n",
      "\n",
      "         max  \n",
      "y             \n",
      "0  74.530428  \n",
      "1  72.562797  \n",
      "t-statistic: 1.0, p-value: 0.315\n",
      "None\n",
      "\n",
      "*** Results for x35 ***\n",
      "    count      mean       std       min       25%       50%       75%  \\\n",
      "y                                                                       \n",
      "0  5803.0  1.374751  1.694498 -2.901957  0.327098  1.145731  2.139861   \n",
      "1  5803.0  1.228978  1.571088 -2.553668  0.242279  1.046667  1.993118   \n",
      "\n",
      "         max  \n",
      "y             \n",
      "0  16.847872  \n",
      "1  17.055509  \n",
      "t-statistic: -4.8, p-value: 1.56e-06\n",
      "None\n",
      "\n",
      "*** Results for x36 ***\n",
      "    count       mean       std        min        25%        50%        75%  \\\n",
      "y                                                                            \n",
      "0  5803.0  70.039765  4.282445  55.294981  67.122336  70.018259  72.971541   \n",
      "1  5803.0  69.720762  4.185447  52.327899  66.873410  69.664962  72.603752   \n",
      "\n",
      "         max  \n",
      "y             \n",
      "0  84.438547  \n",
      "1  86.558811  \n",
      "t-statistic: -4.1, p-value: 4.98e-05\n",
      "None\n",
      "\n",
      "*** Results for x37 ***\n",
      "    count       mean       std        min        25%        50%        75%  \\\n",
      "y                                                                            \n",
      "0  5803.0  31.041496  3.404453  17.473636  28.720977  31.025474  33.305796   \n",
      "1  5803.0  30.983097  3.268359  18.906302  28.828237  31.003891  33.200702   \n",
      "\n",
      "         max  \n",
      "y             \n",
      "0  44.589636  \n",
      "1  43.077487  \n",
      "t-statistic: -0.9, p-value: 0.346\n",
      "None\n",
      "\n",
      "*** Results for x38 ***\n",
      "    count       mean        std       min        25%        50%        75%  \\\n",
      "y                                                                            \n",
      "0  5803.0  36.246995  25.486935 -3.533671  19.821884  35.900484  51.536365   \n",
      "1  5803.0  35.553972  24.889105 -2.427002  18.580203  35.900484  50.757903   \n",
      "\n",
      "          max  \n",
      "y              \n",
      "0  266.292588  \n",
      "1  157.406361  \n",
      "t-statistic: -1.5, p-value: 0.138\n",
      "None\n",
      "\n",
      "*** Results for x40 ***\n",
      "    count       mean       std        min        25%        50%        75%  \\\n",
      "y                                                                            \n",
      "0  5803.0  15.121878  3.265013  10.000202  12.092586  15.149651  18.197124   \n",
      "1  5803.0  14.104091  3.188944   9.999943  11.103967  13.597038  16.920139   \n",
      "\n",
      "         max  \n",
      "y             \n",
      "0  20.000037  \n",
      "1  19.999144  \n",
      "t-statistic: -17.0, p-value: 5.97e-64\n",
      "None\n",
      "\n",
      "*** Results for x41 ***\n",
      "    count           mean          std           min           25%  \\\n",
      "y                                                                   \n",
      "0  5803.0  100025.297192  1150.266263  95746.493978  99428.564978   \n",
      "1  5803.0   99940.633186  1158.604315  94520.717452  99328.698073   \n",
      "\n",
      "            50%            75%            max  \n",
      "y                                              \n",
      "0  99982.965189  100601.548976  104710.797375  \n",
      "1  99982.965189  100500.702898  104450.368191  \n",
      "t-statistic: -4.0, p-value: 7.85e-05\n",
      "None\n",
      "\n",
      "*** Results for x42 ***\n",
      "    count      mean       std       min       25%       50%       75%  \\\n",
      "y                                                                       \n",
      "0  5803.0  0.673805  1.035613 -1.187438 -0.033606  0.678566  1.185630   \n",
      "1  5803.0  0.683326  1.021192 -1.186095 -0.038982  0.678566  1.213228   \n",
      "\n",
      "        max  \n",
      "y            \n",
      "0  5.647405  \n",
      "1  5.240057  \n",
      "t-statistic: 0.5, p-value: 0.618\n",
      "None\n",
      "\n",
      "*** Results for x43 ***\n",
      "    count      mean       std       min       25%       50%       75%  \\\n",
      "y                                                                       \n",
      "0  5803.0  0.481633  1.039063 -3.576696 -0.216291  0.479685  1.176418   \n",
      "1  5803.0  0.516608  1.022873 -2.991843 -0.175185  0.513913  1.208548   \n",
      "\n",
      "        max  \n",
      "y            \n",
      "0  4.252385  \n",
      "1  4.310753  \n",
      "t-statistic: 1.8, p-value: 0.0677\n",
      "None\n",
      "\n",
      "*** Results for x44 ***\n",
      "    count      mean       std       min      25%      50%      75%        max\n",
      "y                                                                            \n",
      "0  5803.0  1.150825  0.611507 -2.723236  1.16486  1.16486  1.16486  10.656477\n",
      "1  5803.0  1.178895  0.622568 -2.509188  1.16486  1.16486  1.16486   9.194904\n",
      "t-statistic: 2.5, p-value: 0.0143\n",
      "None\n",
      "\n",
      "*** Results for x45 ***\n",
      "    count      mean       std       min       25%      50%       75%       max\n",
      "y                                                                             \n",
      "0  5803.0  0.567401  1.065406 -1.317579 -0.167197  0.57305  1.095611  5.377369\n",
      "1  5803.0  0.578698  1.089726 -1.319167 -0.169451  0.57305  1.104348  5.307767\n",
      "t-statistic: 0.6, p-value: 0.572\n",
      "None\n",
      "\n",
      "*** Results for x46 ***\n",
      "    count      mean       std       min       25%       50%       75%  \\\n",
      "y                                                                       \n",
      "0  5803.0 -0.002610  1.760132 -6.725199 -1.185347 -0.003763  1.157410   \n",
      "1  5803.0 -0.092279  1.781665 -7.114704 -1.285652 -0.110193  1.065348   \n",
      "\n",
      "        max  \n",
      "y            \n",
      "0  6.606129  \n",
      "1  6.769371  \n",
      "t-statistic: -2.7, p-value: 0.00639\n",
      "None\n",
      "\n",
      "*** Results for x47 ***\n",
      "    count       mean       std        min        25%        50%        75%  \\\n",
      "y                                                                            \n",
      "0  5803.0  50.110468  4.370577  34.390475  47.112836  50.175835  53.023107   \n",
      "1  5803.0  48.649108  4.342534  35.100514  45.733674  48.632003  51.588898   \n",
      "\n",
      "         max  \n",
      "y             \n",
      "0  65.054277  \n",
      "1  64.873439  \n",
      "t-statistic: -18.1, p-value: 5.45e-72\n",
      "None\n",
      "\n",
      "*** Results for x48 ***\n",
      "    count       mean       std        min        25%        50%        75%  \\\n",
      "y                                                                            \n",
      "0  5803.0  59.876983  5.514128  39.692792  56.165345  59.904563  63.659828   \n",
      "1  5803.0  60.126689  5.433376  40.410862  56.567273  60.080700  63.772414   \n",
      "\n",
      "         max  \n",
      "y             \n",
      "0  83.349036  \n",
      "1  81.007030  \n",
      "t-statistic: 2.5, p-value: 0.014\n",
      "None\n",
      "\n",
      "*** Results for x49 ***\n",
      "    count       mean       std       min       25%       50%        75%  \\\n",
      "y                                                                         \n",
      "0  5803.0  10.341907  2.226545  0.661627  9.514913  10.28395  11.445017   \n",
      "1  5803.0  10.225993  2.199382  1.622315  9.330077  10.28395  11.250455   \n",
      "\n",
      "         max  \n",
      "y             \n",
      "0  17.963129  \n",
      "1  17.170798  \n",
      "t-statistic: -2.8, p-value: 0.00479\n"
     ]
    },
    {
     "name": "stdout",
     "output_type": "stream",
     "text": [
      "None\n",
      "\n",
      "*** Results for x50 ***\n",
      "    count         mean         std          min          25%          50%  \\\n",
      "y                                                                           \n",
      "0  5803.0  2107.999731  951.809207 -1462.698091  1448.391712  2114.571057   \n",
      "1  5803.0  2141.055891  928.456563 -1152.803005  1517.212940  2127.676221   \n",
      "\n",
      "           75%          max  \n",
      "y                            \n",
      "0  2760.034594  5289.699155  \n",
      "1  2755.494201  5561.314843  \n",
      "t-statistic: 1.9, p-value: 0.0583\n",
      "None\n",
      "\n",
      "*** Results for x51 ***\n",
      "    count      mean       std       min       25%       50%       75%  \\\n",
      "y                                                                       \n",
      "0  5803.0  1.455856  1.570004 -3.270516  0.377386  1.347487  2.349507   \n",
      "1  5803.0  1.557696  1.599808 -3.008517  0.462979  1.434351  2.520115   \n",
      "\n",
      "         max  \n",
      "y             \n",
      "0   8.991812  \n",
      "1  11.925995  \n",
      "t-statistic: 3.5, p-value: 0.00054\n",
      "None\n",
      "\n",
      "*** Results for x52 ***\n",
      "    count      mean       std        min       25%       50%       75%  \\\n",
      "y                                                                        \n",
      "0  5803.0  5.123242  5.656764 -19.806510  3.130143  5.570583  6.403867   \n",
      "1  5803.0  6.017924  5.608045 -19.539485  4.929859  5.570583  7.543996   \n",
      "\n",
      "         max  \n",
      "y             \n",
      "0  30.189854  \n",
      "1  32.165844  \n",
      "t-statistic: 8.6, p-value: 1.31e-17\n",
      "None\n",
      "\n",
      "*** Results for x53 ***\n",
      "    count       mean       std        min        25%        50%        75%  \\\n",
      "y                                                                            \n",
      "0  5803.0  70.059914  5.031748  50.404597  66.717281  70.128735  73.326869   \n",
      "1  5803.0  69.590566  4.878627  51.726435  66.336157  69.528276  72.900693   \n",
      "\n",
      "         max  \n",
      "y             \n",
      "0  86.774956  \n",
      "1  84.935434  \n",
      "t-statistic: -5.1, p-value: 3.42e-07\n",
      "None\n",
      "\n",
      "*** Results for x54 ***\n",
      "    count      mean       std       min       25%       50%       75%  \\\n",
      "y                                                                       \n",
      "0  5803.0  0.016869  1.138357 -5.031608 -0.479757  0.037001  0.492689   \n",
      "1  5803.0  0.057132  1.117834 -4.835295 -0.388323  0.037001  0.508799   \n",
      "\n",
      "        max  \n",
      "y            \n",
      "0  6.421421  \n",
      "1  5.839644  \n",
      "t-statistic: 1.9, p-value: 0.0546\n",
      "None\n",
      "\n",
      "*** Results for x55 ***\n",
      "    count      mean       std       min       25%       50%       75%  \\\n",
      "y                                                                       \n",
      "0  5803.0  3.025567  1.372830  0.248368  2.491013  3.026536  3.048802   \n",
      "1  5803.0  3.027505  1.387011  0.248884  2.548937  3.026536  3.090436   \n",
      "\n",
      "         max  \n",
      "y             \n",
      "0  11.473207  \n",
      "1  11.473176  \n",
      "t-statistic: 0.1, p-value: 0.94\n",
      "None\n",
      "\n",
      "*** Results for x56 ***\n",
      "    count      mean       std       min       25%       50%       75%  \\\n",
      "y                                                                       \n",
      "0  5803.0  0.504883  1.469470 -5.030881 -0.490931  0.476395  1.501758   \n",
      "1  5803.0  0.451747  1.447114 -5.415733 -0.515925  0.454535  1.430678   \n",
      "\n",
      "        max  \n",
      "y            \n",
      "0  5.994352  \n",
      "1  5.889480  \n",
      "t-statistic: -2.0, p-value: 0.0497\n",
      "None\n",
      "\n",
      "*** Results for x57 ***\n",
      "    count       mean       std        min        25%        50%        75%  \\\n",
      "y                                                                            \n",
      "0  5803.0  32.197493  3.738387  15.115795  31.996069  31.996069  31.996069   \n",
      "1  5803.0  31.794645  3.559166  14.239899  31.996069  31.996069  31.996069   \n",
      "\n",
      "         max  \n",
      "y             \n",
      "0  51.243658  \n",
      "1  50.783217  \n",
      "t-statistic: -5.9, p-value: 2.84e-09\n",
      "None\n",
      "\n",
      "*** Results for x58 ***\n",
      "    count        mean        std         min        25%        50%        75%  \\\n",
      "y                                                                               \n",
      "0  5803.0  299.939819  34.420640  102.189797  300.62999  300.62999  300.62999   \n",
      "1  5803.0  300.883867  34.800785  102.597070  300.62999  300.62999  300.62999   \n",
      "\n",
      "          max  \n",
      "y              \n",
      "0  495.803211  \n",
      "1  498.854344  \n",
      "t-statistic: 1.5, p-value: 0.142\n",
      "None\n",
      "\n",
      "*** Results for x61 ***\n",
      "    count       mean       std       min       25%        50%        75%  \\\n",
      "y                                                                          \n",
      "0  5803.0   9.989761  3.113156  2.174054  7.548017  10.035655  12.376856   \n",
      "1  5803.0  10.081550  3.074004  2.529879  7.754954  10.035655  12.404763   \n",
      "\n",
      "         max  \n",
      "y             \n",
      "0  17.786713  \n",
      "1  18.136662  \n",
      "t-statistic: 1.6, p-value: 0.11\n",
      "None\n",
      "\n",
      "*** Results for x62 ***\n",
      "    count      mean       std       min       25%       50%       75%  \\\n",
      "y                                                                       \n",
      "0  5803.0  3.829144  2.196197 -3.990470  2.285007  3.555487  5.163255   \n",
      "1  5803.0  3.455338  2.102076 -2.200189  2.003035  3.217404  4.645382   \n",
      "\n",
      "         max  \n",
      "y             \n",
      "0  21.713475  \n",
      "1  15.229036  \n",
      "t-statistic: -9.4, p-value: 8.86e-21\n",
      "None\n",
      "\n",
      "*** Results for x63 ***\n",
      "    count      mean       std       min       25%       50%       75%  \\\n",
      "y                                                                       \n",
      "0  5803.0 -0.017506  1.435548  -9.42108 -0.889188  0.010042  0.852465   \n",
      "1  5803.0  0.037589  1.463901 -13.86445 -0.848780  0.010042  0.916747   \n",
      "\n",
      "        max  \n",
      "y            \n",
      "0  7.727364  \n",
      "1  7.547506  \n",
      "t-statistic: 2.0, p-value: 0.0407\n",
      "None\n",
      "\n",
      "*** Results for x64 ***\n",
      "    count       mean       std        min        25%        50%        75%  \\\n",
      "y                                                                            \n",
      "0  5803.0  49.941235  4.690471  29.918688  47.138504  50.045576  52.652737   \n",
      "1  5803.0  50.149918  4.689064  33.712842  47.232992  50.045576  52.951149   \n",
      "\n",
      "         max  \n",
      "y             \n",
      "0  67.523441  \n",
      "1  67.787237  \n",
      "t-statistic: 2.4, p-value: 0.0166\n",
      "None\n",
      "\n",
      "*** Results for x66 ***\n",
      "    count      mean       std       min       25%       50%       75%  \\\n",
      "y                                                                       \n",
      "0  5803.0 -0.004969  1.467930 -5.730595 -0.989582  0.002082  0.974199   \n",
      "1  5803.0  0.016691  1.486033 -6.715834 -0.982696  0.027410  1.006706   \n",
      "\n",
      "        max  \n",
      "y            \n",
      "0  6.578553  \n",
      "1  5.116705  \n",
      "t-statistic: 0.8, p-value: 0.43\n",
      "None\n",
      "\n",
      "*** Results for x67 ***\n",
      "    count       mean       std       min        25%        50%        75%  \\\n",
      "y                                                                           \n",
      "0  5803.0  14.417559  1.125902  4.440938  14.402071  14.402071  14.402071   \n",
      "1  5803.0  14.430795  1.163776  5.305831  14.402071  14.402071  14.402071   \n",
      "\n",
      "         max  \n",
      "y             \n",
      "0  31.407836  \n",
      "1  30.292566  \n",
      "t-statistic: 0.6, p-value: 0.533\n",
      "None\n",
      "\n",
      "*** Results for x68 ***\n",
      "    count       mean       std       min        25%        50%        75%  \\\n",
      "y                                                                           \n",
      "0  5803.0  14.729368  6.041297  1.445581  10.445788  14.379737  17.920161   \n",
      "1  5803.0  16.133535  6.447629  0.400312  11.573222  15.431452  19.843424   \n",
      "\n",
      "         max  \n",
      "y             \n",
      "0  50.794856  \n",
      "1  47.264827  \n",
      "t-statistic: 12.1, p-value: 1.56e-33\n",
      "None\n",
      "\n",
      "*** Results for x69 ***\n",
      "    count      mean       std       min       25%       50%       75%  \\\n",
      "y                                                                       \n",
      "0  5803.0  0.017159  1.341892 -4.667404 -0.916516  0.005928  0.935138   \n",
      "1  5803.0 -0.008348  1.365167 -4.777521 -0.962966 -0.008990  0.940170   \n",
      "\n",
      "        max  \n",
      "y            \n",
      "0  4.815422  \n",
      "1  4.519913  \n",
      "t-statistic: -1.0, p-value: 0.31\n",
      "None\n",
      "\n",
      "*** Results for x70 ***\n",
      "    count      mean       std      min       25%       50%       75%       max\n",
      "y                                                                             \n",
      "0  5803.0  0.724701  0.364011  0.01827  0.449403  0.678723  0.953004  2.391750\n",
      "1  5803.0  0.786423  0.372426  0.04428  0.507747  0.744384  1.018617  2.390583\n",
      "t-statistic: 9.0, p-value: 2.01e-19\n",
      "None\n",
      "\n",
      "*** Results for x71 ***\n",
      "    count      mean       std       min       25%       50%       75%  \\\n",
      "y                                                                       \n",
      "0  5803.0  0.000033  0.433579 -3.773951 -0.000234 -0.000234 -0.000234   \n",
      "1  5803.0  0.000718  0.436063 -4.297471 -0.000234 -0.000234 -0.000234   \n",
      "\n",
      "        max  \n",
      "y            \n",
      "0  4.029974  \n",
      "1  4.500607  \n",
      "t-statistic: 0.1, p-value: 0.932\n",
      "None\n",
      "\n",
      "*** Results for x72 ***\n",
      "    count       mean       std        min        25%        50%        75%  \\\n",
      "y                                                                            \n",
      "0  5803.0  49.947505  6.503979  28.593041  45.504424  49.866835  54.290744   \n",
      "1  5803.0  49.914876  6.522020  27.154242  45.441587  49.770155  54.315660   \n",
      "\n",
      "         max  \n",
      "y             \n",
      "0  74.974611  \n",
      "1  72.323683  \n",
      "t-statistic: -0.3, p-value: 0.787\n",
      "None\n",
      "\n",
      "*** Results for x73 ***\n",
      "    count      mean       std       min       25%       50%       75%  \\\n",
      "y                                                                       \n",
      "0  5803.0  6.823673  5.464446 -2.087515  2.911009  5.523680  9.490154   \n",
      "1  5803.0  6.900779  5.488913 -2.085236  3.006957  5.621139  9.400846   \n",
      "\n",
      "         max  \n",
      "y             \n",
      "0  41.319531  \n",
      "1  79.332855  \n",
      "t-statistic: 0.8, p-value: 0.448\n",
      "None\n",
      "\n",
      "*** Results for x74 ***\n",
      "    count      mean       std       min       25%       50%       75%  \\\n",
      "y                                                                       \n",
      "0  5803.0 -0.020793  1.172685 -4.230707 -0.522961 -0.009907  0.485569   \n",
      "1  5803.0  0.000979  1.165744 -5.025818 -0.475745 -0.009907  0.537596   \n",
      "\n",
      "        max  \n",
      "y            \n",
      "0  4.733756  \n",
      "1  4.551125  \n",
      "t-statistic: 1.0, p-value: 0.316\n",
      "None\n",
      "\n",
      "*** Results for x75 ***\n",
      "    count      mean       std       min       25%       50%       75%  \\\n",
      "y                                                                       \n",
      "0  5803.0  1.410691  2.093917 -3.295552  0.315423  1.268708  1.903249   \n",
      "1  5803.0  1.126726  2.157893 -3.033767  0.111856  1.093400  1.599355   \n",
      "\n",
      "         max  \n",
      "y             \n",
      "0  46.677381  \n",
      "1  89.692287  \n",
      "t-statistic: -7.2, p-value: 6.67e-13\n",
      "None\n",
      "\n",
      "*** Results for x76 ***\n",
      "    count      mean       std       min       25%       50%       75%  \\\n",
      "y                                                                       \n",
      "0  5803.0 -1.022138  1.142823 -6.420625 -1.654746 -1.004198 -0.309247   \n",
      "1  5803.0 -0.986258  1.128954 -6.144841 -1.624076 -1.004198 -0.294432   \n",
      "\n",
      "        max  \n",
      "y            \n",
      "0  3.082319  \n",
      "1  3.435980  \n"
     ]
    },
    {
     "name": "stdout",
     "output_type": "stream",
     "text": [
      "t-statistic: 1.7, p-value: 0.0889\n",
      "None\n",
      "\n",
      "*** Results for x78 ***\n",
      "    count       mean       std        min        25%        50%        75%  \\\n",
      "y                                                                            \n",
      "0  5803.0  49.929721  3.450173  35.775105  48.496507  49.620578  51.581915   \n",
      "1  5803.0  49.311435  3.527384  35.721012  47.597023  49.620578  50.793063   \n",
      "\n",
      "         max  \n",
      "y             \n",
      "0  64.450959  \n",
      "1  64.156829  \n",
      "t-statistic: -9.5, p-value: 1.62e-21\n",
      "None\n",
      "\n",
      "*** Results for x80 ***\n",
      "    count       mean       std       min       25%       50%        75%  \\\n",
      "y                                                                         \n",
      "0  5803.0  10.004413  2.365974  2.361436  8.334422  10.04349  11.585320   \n",
      "1  5803.0  10.082567  2.398662  2.453643  8.468549  10.04349  11.749928   \n",
      "\n",
      "         max  \n",
      "y             \n",
      "0  16.814773  \n",
      "1  17.189460  \n",
      "t-statistic: 1.8, p-value: 0.0772\n",
      "None\n",
      "\n",
      "*** Results for x81 ***\n",
      "    count      mean       std       min       25%       50%       75%  \\\n",
      "y                                                                       \n",
      "0  5803.0 -0.002219  1.543618 -4.968962 -1.046525  0.005844  1.010701   \n",
      "1  5803.0  0.179180  1.526098 -5.852824 -0.862729  0.161929  1.222964   \n",
      "\n",
      "        max  \n",
      "y            \n",
      "0  6.674870  \n",
      "1  5.794354  \n",
      "t-statistic: 6.4, p-value: 2.01e-10\n",
      "None\n",
      "\n",
      "*** Results for x82 ***\n",
      "    count      mean       std        min       25%       50%       75%  \\\n",
      "y                                                                        \n",
      "0  5803.0 -6.079645  2.310771 -11.457849 -7.781569 -6.404154 -4.610272   \n",
      "1  5803.0 -6.140199  2.205662 -11.786745 -7.763085 -6.436836 -4.748285   \n",
      "\n",
      "        max  \n",
      "y            \n",
      "0  3.587151  \n",
      "1  2.982189  \n",
      "t-statistic: -1.4, p-value: 0.149\n",
      "None\n",
      "\n",
      "*** Results for x83 ***\n",
      "    count      mean       std       min       25%       50%       75%  \\\n",
      "y                                                                       \n",
      "0  5803.0  3.802284  2.423555 -2.661999  2.105800  3.649977  5.042976   \n",
      "1  5803.0  3.890776  2.493424 -2.221699  2.212625  3.674315  5.134887   \n",
      "\n",
      "         max  \n",
      "y             \n",
      "0  17.630786  \n",
      "1  25.029975  \n",
      "t-statistic: 1.9, p-value: 0.0526\n",
      "None\n",
      "\n",
      "*** Results for x84 ***\n",
      "    count      mean       std       min       25%       50%       75%  \\\n",
      "y                                                                       \n",
      "0  5803.0  2.148711  0.790563 -2.085626  2.138771  2.138771  2.138771   \n",
      "1  5803.0  2.129116  0.715816 -2.340015  2.138771  2.138771  2.138771   \n",
      "\n",
      "         max  \n",
      "y             \n",
      "0  16.415854  \n",
      "1  12.436234  \n",
      "t-statistic: -1.4, p-value: 0.162\n",
      "None\n",
      "\n",
      "*** Results for x85 ***\n",
      "    count        mean       std        min        25%         50%         75%  \\\n",
      "y                                                                               \n",
      "0  5803.0  100.219980  9.138355  59.550743  95.477941  100.022496  104.766594   \n",
      "1  5803.0   99.825012  8.993318  60.981149  95.124188  100.022496  104.322302   \n",
      "\n",
      "          max  \n",
      "y              \n",
      "0  137.708896  \n",
      "1  138.817515  \n",
      "t-statistic: -2.3, p-value: 0.019\n",
      "None\n",
      "\n",
      "*** Results for x86 ***\n",
      "    count       mean       std        min        25%        50%        75%  \\\n",
      "y                                                                            \n",
      "0  5803.0  49.938138  4.640179  34.401098  46.914103  50.007375  53.020242   \n",
      "1  5803.0  50.076612  4.597639  31.114022  47.076144  50.007375  53.074816   \n",
      "\n",
      "         max  \n",
      "y             \n",
      "0  67.709782  \n",
      "1  67.404177  \n",
      "t-statistic: 1.6, p-value: 0.106\n",
      "None\n",
      "\n",
      "*** Results for x87 ***\n",
      "    count      mean       std       min       25%       50%       75%  \\\n",
      "y                                                                       \n",
      "0  5803.0  0.026177  1.172537 -3.837313 -0.798137  0.005512  0.808505   \n",
      "1  5803.0 -0.034169  1.190634 -4.306663 -0.826982 -0.021112  0.751834   \n",
      "\n",
      "        max  \n",
      "y            \n",
      "0  5.355707  \n",
      "1  4.139209  \n",
      "t-statistic: -2.8, p-value: 0.00595\n",
      "None\n",
      "\n",
      "*** Results for x88 ***\n",
      "    count      mean       std       min       25%       50%       75%  \\\n",
      "y                                                                       \n",
      "0  5803.0  0.481001  1.060975 -3.142934 -0.221461  0.428942  1.147224   \n",
      "1  5803.0  0.376883  1.047530 -3.809032 -0.297964  0.428942  1.049961   \n",
      "\n",
      "        max  \n",
      "y            \n",
      "0  4.975900  \n",
      "1  5.656528  \n",
      "t-statistic: -5.3, p-value: 1.06e-07\n",
      "None\n",
      "\n",
      "*** Results for x89 ***\n",
      "    count       mean       std       min       25%        50%        75%  \\\n",
      "y                                                                          \n",
      "0  5803.0  10.686114  3.186298  6.108154  8.572116  10.512114  11.532184   \n",
      "1  5803.0  10.338114  2.836808  6.106024  8.393232  10.512114  10.731652   \n",
      "\n",
      "         max  \n",
      "y             \n",
      "0  34.115315  \n",
      "1  31.060132  \n",
      "t-statistic: -6.2, p-value: 5.34e-10\n",
      "None\n",
      "\n",
      "*** Results for x90 ***\n",
      "    count      mean       std       min       25%       50%       75%  \\\n",
      "y                                                                       \n",
      "0  5803.0  2.987823  1.151269 -1.381806  2.205516  2.963849  3.786228   \n",
      "1  5803.0  3.030165  1.161407 -1.138243  2.238295  3.020908  3.823665   \n",
      "\n",
      "        max  \n",
      "y            \n",
      "0  7.130058  \n",
      "1  6.946130  \n",
      "t-statistic: 2.0, p-value: 0.0486\n",
      "None\n",
      "\n",
      "*** Results for x91 ***\n",
      "    count      mean       std       min       25%       50%       75%  \\\n",
      "y                                                                       \n",
      "0  5803.0 -0.025469  1.377445 -5.152278 -0.840719 -0.004719  0.800086   \n",
      "1  5803.0  0.016032  1.347731 -5.169428 -0.772368 -0.004719  0.825983   \n",
      "\n",
      "        max  \n",
      "y            \n",
      "0  5.346690  \n",
      "1  5.212855  \n",
      "t-statistic: 1.6, p-value: 0.101\n",
      "None\n",
      "\n",
      "*** Results for x92 ***\n",
      "    count      mean       std       min       25%       50%       75%  \\\n",
      "y                                                                       \n",
      "0  5803.0  3.942981  2.909255 -2.943068  1.763563  3.979506  5.868066   \n",
      "1  5803.0  4.016030  2.943754 -2.937299  1.839598  3.979506  5.991251   \n",
      "\n",
      "         max  \n",
      "y             \n",
      "0  16.477293  \n",
      "1  16.559452  \n",
      "t-statistic: 1.3, p-value: 0.179\n",
      "None\n",
      "\n",
      "*** Results for x94 ***\n",
      "    count      mean       std       min       25%      50%       75%  \\\n",
      "y                                                                      \n",
      "0  5803.0  3.967787  1.421351 -1.065885  2.995655  3.96646  4.881903   \n",
      "1  5803.0  3.965134  1.431277 -1.640074  3.000807  3.96646  4.848032   \n",
      "\n",
      "         max  \n",
      "y             \n",
      "0  10.621932  \n",
      "1  10.602492  \n",
      "t-statistic: -0.1, p-value: 0.92\n",
      "None\n",
      "\n",
      "*** Results for x95 ***\n",
      "    count      mean       std       min       25%       50%       75%  \\\n",
      "y                                                                       \n",
      "0  5803.0  0.020667  1.508812 -6.106083 -0.660659  0.107913  0.619734   \n",
      "1  5803.0  0.195158  1.504208 -6.417616 -0.384781  0.107913  0.816733   \n",
      "\n",
      "        max  \n",
      "y            \n",
      "0  6.022222  \n",
      "1  6.707461  \n",
      "t-statistic: 6.2, p-value: 4.56e-10\n",
      "None\n",
      "\n",
      "*** Results for x96 ***\n",
      "    count       mean       std       min       25%        50%        75%  \\\n",
      "y                                                                          \n",
      "0  5803.0  10.526446  1.345902  8.214221  9.575104  10.445243  11.215580   \n",
      "1  5803.0  10.364039  1.245130  8.211035  9.484157  10.445243  10.900481   \n",
      "\n",
      "         max  \n",
      "y             \n",
      "0  18.565157  \n",
      "1  16.400070  \n",
      "t-statistic: -6.7, p-value: 1.58e-11\n",
      "None\n",
      "\n",
      "*** Results for x97 ***\n",
      "    count       mean       std       min       25%        50%        75%  \\\n",
      "y                                                                          \n",
      "0  5803.0   9.976978  2.013774  3.057697  8.618683   9.960263  11.367106   \n",
      "1  5803.0  10.039525  1.983113  3.361572  8.684145  10.045132  11.363142   \n",
      "\n",
      "         max  \n",
      "y             \n",
      "0  16.487869  \n",
      "1  17.822489  \n",
      "t-statistic: 1.7, p-value: 0.0919\n",
      "None\n",
      "\n",
      "*** Results for x100 ***\n",
      "    count        mean       std        min        25%         50%         75%  \\\n",
      "y                                                                               \n",
      "0  5803.0  100.006748  5.200938  80.809864  96.580589   99.885036  103.588302   \n",
      "1  5803.0  100.102500  5.289893  81.880388  96.466934  100.169999  103.621044   \n",
      "\n",
      "          max  \n",
      "y              \n",
      "0  118.451613  \n",
      "1  118.328399  \n",
      "t-statistic: 1.0, p-value: 0.326\n",
      "None\n"
     ]
    },
    {
     "data": {
      "text/plain": [
       "42"
      ]
     },
     "execution_count": 20,
     "metadata": {},
     "output_type": "execute_result"
    }
   ],
   "source": [
    "global significant_feat \n",
    "\n",
    "\n",
    "significant_feat = []  # create an array to store significant variables\n",
    "\n",
    "def describe_cont_feature(feature):\n",
    "    print('\\n*** Results for {} ***'.format(feature))\n",
    "    print(df.groupby('y')[feature].describe())\n",
    "    print(ttest(feature))\n",
    "    \n",
    "def ttest(feature):\n",
    "    as_one = df[df['y']==1][feature]\n",
    "    as_zero = df[df['y']==0][feature]\n",
    "    tstat, pval = stats.ttest_ind(as_one, as_zero, equal_var=False)\n",
    "    if pval < 0.05 : \n",
    "        significant_feat.append(feature)\n",
    "    print('t-statistic: {:.1f}, p-value: {:.3}'.format(tstat, pval))\n",
    "\n",
    "for feature in continuous_feat:\n",
    "    describe_cont_feature(feature)\n",
    "\n",
    "\n",
    "len(significant_feat)\n"
   ]
  },
  {
   "cell_type": "code",
   "execution_count": 21,
   "metadata": {},
   "outputs": [
    {
     "data": {
      "text/plain": [
       "['x1',\n",
       " 'x5',\n",
       " 'x7',\n",
       " 'x8',\n",
       " 'x11',\n",
       " 'x16',\n",
       " 'x18',\n",
       " 'x19',\n",
       " 'x21',\n",
       " 'x26',\n",
       " 'x27',\n",
       " 'x28',\n",
       " 'x32',\n",
       " 'x35',\n",
       " 'x36',\n",
       " 'x40',\n",
       " 'x41',\n",
       " 'x44',\n",
       " 'x46',\n",
       " 'x47',\n",
       " 'x48',\n",
       " 'x49',\n",
       " 'x51',\n",
       " 'x52',\n",
       " 'x53',\n",
       " 'x56',\n",
       " 'x57',\n",
       " 'x62',\n",
       " 'x63',\n",
       " 'x64',\n",
       " 'x68',\n",
       " 'x70',\n",
       " 'x75',\n",
       " 'x78',\n",
       " 'x81',\n",
       " 'x85',\n",
       " 'x87',\n",
       " 'x88',\n",
       " 'x89',\n",
       " 'x90',\n",
       " 'x95',\n",
       " 'x96']"
      ]
     },
     "execution_count": 21,
     "metadata": {},
     "output_type": "execute_result"
    }
   ],
   "source": [
    "significant_feat"
   ]
  },
  {
   "cell_type": "code",
   "execution_count": 22,
   "metadata": {},
   "outputs": [],
   "source": [
    "cont_sig = significant_feat"
   ]
  },
  {
   "cell_type": "code",
   "execution_count": 23,
   "metadata": {},
   "outputs": [],
   "source": [
    " categorical_feat= categorical_feat[1:]"
   ]
  },
  {
   "cell_type": "markdown",
   "metadata": {},
   "source": [
    "We need to codify the categorical variables. We could import LabelEncoder from sklearn.preprocessing, but upon closely examining the data, I observed that a categorical features that holds the weakdays, use both full names of the days like \"Monday\" and in some instances it uses the first three letters like \"Mon\". So there are seemingly differenet categories that have the same meaning. Therefore, I decided to be more cautios and examine and encode the categorical variables one by one."
   ]
  },
  {
   "cell_type": "code",
   "execution_count": 24,
   "metadata": {},
   "outputs": [],
   "source": [
    "#Create a function to return a dictionary containing the unique values and the number of their repetitions:\n",
    "def unique(list1):\n",
    "    # Print directly by using * symbol\n",
    "    return(Counter(list1))"
   ]
  },
  {
   "cell_type": "code",
   "execution_count": 25,
   "metadata": {},
   "outputs": [
    {
     "name": "stdout",
     "output_type": "stream",
     "text": [
      "Counter({'Wednesday': 1276, 'Friday': 1261, 'Saturday': 1165, 'Sunday': 1154, 'Monday': 1115, 'Tuesday': 1044, 'Tue': 805, 'Thursday': 743, 'Wed': 701, 'Mon': 680, 'Thur': 530, 'Sat': 460, 'Fri': 453, 'Sun': 219})\n"
     ]
    }
   ],
   "source": [
    "print(unique(df['x3'])) # The number of unique variables"
   ]
  },
  {
   "cell_type": "code",
   "execution_count": 26,
   "metadata": {},
   "outputs": [],
   "source": [
    "dic = {'Sunday':1 ,'Sun' : 1,\n",
    "                         'Monday':2 ,'Mon' : 2, \n",
    "                         'Tuesday' : 3,'Tue' : 3,\n",
    "                         'Wednesday' :4,'Wed' : 4,\n",
    "                         'Thursday' : 5,'Thur' : 5,\n",
    "                         'Friday' : 6,'Fri' : 6,\n",
    "                         'Saturday' : 7,'Sat' : 7}\n",
    "\n",
    "#Encoding the unique variables using map function\n",
    "df['x3'] = df['x3'].map(dic)\n",
    "\n"
   ]
  },
  {
   "cell_type": "code",
   "execution_count": 27,
   "metadata": {},
   "outputs": [
    {
     "data": {
      "text/plain": [
       "0"
      ]
     },
     "execution_count": 27,
     "metadata": {},
     "output_type": "execute_result"
    }
   ],
   "source": [
    "df['x3'].isnull().sum()"
   ]
  },
  {
   "cell_type": "code",
   "execution_count": 28,
   "metadata": {},
   "outputs": [
    {
     "name": "stdout",
     "output_type": "stream",
     "text": [
      "Counter({4: 1977, 3: 1849, 2: 1795, 6: 1714, 7: 1625, 1: 1373, 5: 1273})\n"
     ]
    }
   ],
   "source": [
    "print(unique(df['x3'])) # The number of unique variables"
   ]
  },
  {
   "cell_type": "code",
   "execution_count": 29,
   "metadata": {},
   "outputs": [
    {
     "name": "stdout",
     "output_type": "stream",
     "text": [
      "2\n"
     ]
    }
   ],
   "source": [
    "#x24 is male-female variable that can easily be encoded:\n",
    "df['x24'].nunique()\n",
    "df['x24'] = df['x24'].map({'male':0 ,'female' : 1})\n",
    "print(df['x24'].nunique()) # The number of unique variables"
   ]
  },
  {
   "cell_type": "code",
   "execution_count": 30,
   "metadata": {},
   "outputs": [
    {
     "name": "stdout",
     "output_type": "stream",
     "text": [
      "2\n"
     ]
    },
    {
     "data": {
      "text/plain": [
       "Counter({0: 10165, 1: 1441})"
      ]
     },
     "execution_count": 30,
     "metadata": {},
     "output_type": "execute_result"
    }
   ],
   "source": [
    "# x31 is a yes-no variable:\n",
    "unique(df['x31'])\n",
    "print(df['x31'].nunique())\n",
    "df['x31'] = df['x31'].map({'no':0 ,'yes' : 1})\n",
    "unique(df['x31'])"
   ]
  },
  {
   "cell_type": "code",
   "execution_count": 31,
   "metadata": {},
   "outputs": [
    {
     "name": "stdout",
     "output_type": "stream",
     "text": [
      "51\n",
      "51\n"
     ]
    }
   ],
   "source": [
    "# x31 is a yes-no variable:\n",
    "print(df['x33'].nunique())\n",
    "dic = unique(df['x33'])\n",
    "states = list(dic.keys())\n",
    "newdic = {x:i  for i,x in enumerate(states)   }\n",
    "df['x33'] = df['x33'].map(newdic)\n",
    "print(df['x33'].nunique()) # The number of unique variables"
   ]
  },
  {
   "cell_type": "code",
   "execution_count": 32,
   "metadata": {},
   "outputs": [
    {
     "name": "stdout",
     "output_type": "stream",
     "text": [
      "2\n"
     ]
    },
    {
     "data": {
      "text/plain": [
       "Counter({0: 10448, 1: 1158})"
      ]
     },
     "execution_count": 32,
     "metadata": {},
     "output_type": "execute_result"
    }
   ],
   "source": [
    "# x54 is a 0-1 variable:\n",
    "print(df['x59'].nunique())\n",
    "unique(df['x59'])"
   ]
  },
  {
   "cell_type": "code",
   "execution_count": 33,
   "metadata": {},
   "outputs": [
    {
     "name": "stdout",
     "output_type": "stream",
     "text": [
      "Counter({'January': 2383, 'December': 2347, 'August': 2301, 'July': 2248, 'September': 365, 'February': 348, 'June': 342, 'November': 306, 'April': 266, 'March': 252, 'October': 231, 'May': 217})\n"
     ]
    },
    {
     "data": {
      "text/plain": [
       "Counter({0: 2383,\n",
       "         1: 306,\n",
       "         2: 2301,\n",
       "         3: 266,\n",
       "         4: 2248,\n",
       "         5: 231,\n",
       "         6: 2347,\n",
       "         7: 365,\n",
       "         8: 348,\n",
       "         9: 342,\n",
       "         10: 217,\n",
       "         11: 252})"
      ]
     },
     "execution_count": 33,
     "metadata": {},
     "output_type": "execute_result"
    }
   ],
   "source": [
    "# x60 is the variables that records the months:\n",
    "print(unique(df['x60']))\n",
    "months_dict = unique(df['x60'])\n",
    "months =  list(months_dict.keys())\n",
    "newdic = {x:i  for i,x in enumerate(months)   }\n",
    "df['x60'] = df['x60'].map(newdic)\n",
    "unique(df['x60'])"
   ]
  },
  {
   "cell_type": "code",
   "execution_count": 34,
   "metadata": {},
   "outputs": [
    {
     "name": "stdout",
     "output_type": "stream",
     "text": [
      "Counter({'progressive': 3229, 'allstate': 3100, 'esurance': 2088, 'farmers': 1602, 'geico': 1587})\n",
      "Counter({4: 3229, 3: 3100, 1: 2088, 0: 1602, 2: 1587})\n"
     ]
    }
   ],
   "source": [
    "# x65 is a variables that records the insurnce companies involved:\n",
    "print(unique(df['x65']))\n",
    "comp_dict = unique(df['x65'])\n",
    "companies =  list(comp_dict.keys())\n",
    "newdic = {x:i  for i,x in enumerate(companies)   }\n",
    "df['x65'] = df['x65'].map(newdic)\n",
    "print(unique(df['x65']))"
   ]
  },
  {
   "cell_type": "code",
   "execution_count": 35,
   "metadata": {},
   "outputs": [
    {
     "name": "stdout",
     "output_type": "stream",
     "text": [
      "Counter({'ford': 5251, 'chevrolet': 1477, 'subaru': 1433, 'mercedes': 1324, 'toyota': 1042, 'nissan': 758, 'buick': 321})\n",
      "Counter({1: 5251, 5: 1477, 4: 1433, 2: 1324, 0: 1042, 3: 758, 6: 321})\n"
     ]
    }
   ],
   "source": [
    "# x77 is a variables that records the car manufacturers involved:\n",
    "print(unique(df['x77']))\n",
    "car_dict = unique(df['x77'])\n",
    "cars =  list(car_dict.keys())\n",
    "newdic = {x:i  for i,x in enumerate(cars)   }\n",
    "df['x77'] = df['x77'].map(newdic)\n",
    "print(unique(df['x77']))"
   ]
  },
  {
   "cell_type": "code",
   "execution_count": 36,
   "metadata": {},
   "outputs": [
    {
     "name": "stdout",
     "output_type": "stream",
     "text": [
      "Counter({1.0: 10487, 0.0: 1119})\n",
      "Counter({0: 10487, 1: 1119})\n"
     ]
    }
   ],
   "source": [
    "# x79 is float 0-1 variables. I made it as integer.\n",
    "print(unique(df['x79']))\n",
    "float_dict = unique(df['x79'])\n",
    "floats =  list(float_dict.keys())\n",
    "newdic = {x:i  for i,x in enumerate(floats)   }\n",
    "df['x79'] = df['x79'].map(newdic)\n",
    "print(unique(df['x79']))"
   ]
  },
  {
   "cell_type": "code",
   "execution_count": 37,
   "metadata": {},
   "outputs": [
    {
     "name": "stdout",
     "output_type": "stream",
     "text": [
      "Counter({'no': 10580, 'yes': 1026})\n",
      "Counter({0: 10580, 1: 1026})\n"
     ]
    }
   ],
   "source": [
    "# x93 is a yes-no variable:\n",
    "print(unique(df['x93']))\n",
    "ans_dict = unique(df['x93'])\n",
    "ans =  list(ans_dict.keys())\n",
    "newdic = {x:i  for i,x in enumerate(ans)   }\n",
    "df['x93'] = df['x93'].map(newdic)\n",
    "print(unique(df['x93']))"
   ]
  },
  {
   "cell_type": "markdown",
   "metadata": {},
   "source": [
    "Let's examin the categorical data visually (using seaborn catplot function) to see whether each of them make difference in the response variable:"
   ]
  },
  {
   "cell_type": "code",
   "execution_count": 38,
   "metadata": {},
   "outputs": [
    {
     "data": {
      "text/html": [
       "<div>\n",
       "<style scoped>\n",
       "    .dataframe tbody tr th:only-of-type {\n",
       "        vertical-align: middle;\n",
       "    }\n",
       "\n",
       "    .dataframe tbody tr th {\n",
       "        vertical-align: top;\n",
       "    }\n",
       "\n",
       "    .dataframe thead th {\n",
       "        text-align: right;\n",
       "    }\n",
       "</style>\n",
       "<table border=\"1\" class=\"dataframe\">\n",
       "  <thead>\n",
       "    <tr style=\"text-align: right;\">\n",
       "      <th></th>\n",
       "      <th>x3</th>\n",
       "      <th>x24</th>\n",
       "      <th>x31</th>\n",
       "      <th>x33</th>\n",
       "      <th>x59</th>\n",
       "      <th>x60</th>\n",
       "      <th>x65</th>\n",
       "      <th>x77</th>\n",
       "      <th>x79</th>\n",
       "      <th>x93</th>\n",
       "      <th>x98</th>\n",
       "    </tr>\n",
       "  </thead>\n",
       "  <tbody>\n",
       "    <tr>\n",
       "      <th>18377</th>\n",
       "      <td>7</td>\n",
       "      <td>1</td>\n",
       "      <td>0</td>\n",
       "      <td>0</td>\n",
       "      <td>0</td>\n",
       "      <td>0</td>\n",
       "      <td>0</td>\n",
       "      <td>0</td>\n",
       "      <td>0</td>\n",
       "      <td>0</td>\n",
       "      <td>1</td>\n",
       "    </tr>\n",
       "    <tr>\n",
       "      <th>32825</th>\n",
       "      <td>6</td>\n",
       "      <td>1</td>\n",
       "      <td>0</td>\n",
       "      <td>1</td>\n",
       "      <td>0</td>\n",
       "      <td>1</td>\n",
       "      <td>1</td>\n",
       "      <td>1</td>\n",
       "      <td>0</td>\n",
       "      <td>0</td>\n",
       "      <td>1</td>\n",
       "    </tr>\n",
       "    <tr>\n",
       "      <th>20747</th>\n",
       "      <td>5</td>\n",
       "      <td>1</td>\n",
       "      <td>0</td>\n",
       "      <td>2</td>\n",
       "      <td>0</td>\n",
       "      <td>1</td>\n",
       "      <td>2</td>\n",
       "      <td>2</td>\n",
       "      <td>0</td>\n",
       "      <td>0</td>\n",
       "      <td>1</td>\n",
       "    </tr>\n",
       "    <tr>\n",
       "      <th>17979</th>\n",
       "      <td>2</td>\n",
       "      <td>0</td>\n",
       "      <td>0</td>\n",
       "      <td>3</td>\n",
       "      <td>0</td>\n",
       "      <td>2</td>\n",
       "      <td>3</td>\n",
       "      <td>2</td>\n",
       "      <td>0</td>\n",
       "      <td>0</td>\n",
       "      <td>1</td>\n",
       "    </tr>\n",
       "    <tr>\n",
       "      <th>9086</th>\n",
       "      <td>7</td>\n",
       "      <td>0</td>\n",
       "      <td>0</td>\n",
       "      <td>4</td>\n",
       "      <td>0</td>\n",
       "      <td>3</td>\n",
       "      <td>3</td>\n",
       "      <td>1</td>\n",
       "      <td>0</td>\n",
       "      <td>0</td>\n",
       "      <td>1</td>\n",
       "    </tr>\n",
       "    <tr>\n",
       "      <th>27811</th>\n",
       "      <td>2</td>\n",
       "      <td>0</td>\n",
       "      <td>0</td>\n",
       "      <td>5</td>\n",
       "      <td>0</td>\n",
       "      <td>4</td>\n",
       "      <td>4</td>\n",
       "      <td>3</td>\n",
       "      <td>0</td>\n",
       "      <td>0</td>\n",
       "      <td>0</td>\n",
       "    </tr>\n",
       "    <tr>\n",
       "      <th>26038</th>\n",
       "      <td>6</td>\n",
       "      <td>1</td>\n",
       "      <td>1</td>\n",
       "      <td>0</td>\n",
       "      <td>0</td>\n",
       "      <td>5</td>\n",
       "      <td>4</td>\n",
       "      <td>4</td>\n",
       "      <td>0</td>\n",
       "      <td>0</td>\n",
       "      <td>0</td>\n",
       "    </tr>\n",
       "    <tr>\n",
       "      <th>120</th>\n",
       "      <td>2</td>\n",
       "      <td>0</td>\n",
       "      <td>0</td>\n",
       "      <td>5</td>\n",
       "      <td>0</td>\n",
       "      <td>0</td>\n",
       "      <td>4</td>\n",
       "      <td>1</td>\n",
       "      <td>0</td>\n",
       "      <td>0</td>\n",
       "      <td>1</td>\n",
       "    </tr>\n",
       "    <tr>\n",
       "      <th>27120</th>\n",
       "      <td>3</td>\n",
       "      <td>1</td>\n",
       "      <td>1</td>\n",
       "      <td>6</td>\n",
       "      <td>0</td>\n",
       "      <td>3</td>\n",
       "      <td>3</td>\n",
       "      <td>3</td>\n",
       "      <td>0</td>\n",
       "      <td>1</td>\n",
       "      <td>0</td>\n",
       "    </tr>\n",
       "    <tr>\n",
       "      <th>6628</th>\n",
       "      <td>6</td>\n",
       "      <td>1</td>\n",
       "      <td>1</td>\n",
       "      <td>0</td>\n",
       "      <td>0</td>\n",
       "      <td>0</td>\n",
       "      <td>2</td>\n",
       "      <td>0</td>\n",
       "      <td>1</td>\n",
       "      <td>1</td>\n",
       "      <td>1</td>\n",
       "    </tr>\n",
       "  </tbody>\n",
       "</table>\n",
       "</div>"
      ],
      "text/plain": [
       "       x3  x24  x31  x33  x59  x60  x65  x77  x79  x93  x98\n",
       "18377   7    1    0    0    0    0    0    0    0    0    1\n",
       "32825   6    1    0    1    0    1    1    1    0    0    1\n",
       "20747   5    1    0    2    0    1    2    2    0    0    1\n",
       "17979   2    0    0    3    0    2    3    2    0    0    1\n",
       "9086    7    0    0    4    0    3    3    1    0    0    1\n",
       "27811   2    0    0    5    0    4    4    3    0    0    0\n",
       "26038   6    1    1    0    0    5    4    4    0    0    0\n",
       "120     2    0    0    5    0    0    4    1    0    0    1\n",
       "27120   3    1    1    6    0    3    3    3    0    1    0\n",
       "6628    6    1    1    0    0    0    2    0    1    1    1"
      ]
     },
     "execution_count": 38,
     "metadata": {},
     "output_type": "execute_result"
    }
   ],
   "source": [
    "df[categorical_feat].head(10)"
   ]
  },
  {
   "cell_type": "markdown",
   "metadata": {},
   "source": [
    "### Significant categorical variables:"
   ]
  },
  {
   "cell_type": "code",
   "execution_count": 39,
   "metadata": {},
   "outputs": [
    {
     "data": {
      "image/png": "[encoded data removed]",
      "text/plain": [
       "<Figure size 720x360 with 1 Axes>"
      ]
     },
     "metadata": {
      "needs_background": "light"
     },
     "output_type": "display_data"
    },
    {
     "data": {
      "image/png": "[encoded data removed]",
      "text/plain": [
       "<Figure size 720x360 with 1 Axes>"
      ]
     },
     "metadata": {
      "needs_background": "light"
     },
     "output_type": "display_data"
    },
    {
     "data": {
      "image/png": "[encoded data removed]",
      "text/plain": [
       "<Figure size 720x360 with 1 Axes>"
      ]
     },
     "metadata": {
      "needs_background": "light"
     },
     "output_type": "display_data"
    },
    {
     "data": {
      "image/png": "[encoded data removed]",
      "text/plain": [
       "<Figure size 720x360 with 1 Axes>"
      ]
     },
     "metadata": {
      "needs_background": "light"
     },
     "output_type": "display_data"
    },
    {
     "data": {
      "image/png": "[encoded data removed]",
      "text/plain": [
       "<Figure size 720x360 with 1 Axes>"
      ]
     },
     "metadata": {
      "needs_background": "light"
     },
     "output_type": "display_data"
    },
    {
     "data": {
      "image/png": "[encoded data removed]",
      "text/plain": [
       "<Figure size 720x360 with 1 Axes>"
      ]
     },
     "metadata": {
      "needs_background": "light"
     },
     "output_type": "display_data"
    },
    {
     "data": {
      "image/png": "[encoded data removed]",
      "text/plain": [
       "<Figure size 720x360 with 1 Axes>"
      ]
     },
     "metadata": {
      "needs_background": "light"
     },
     "output_type": "display_data"
    },
    {
     "data": {
      "image/png": "[encoded data removed]",
      "text/plain": [
       "<Figure size 720x360 with 1 Axes>"
      ]
     },
     "metadata": {
      "needs_background": "light"
     },
     "output_type": "display_data"
    },
    {
     "data": {
      "image/png": "[encoded data removed]",
      "text/plain": [
       "<Figure size 720x360 with 1 Axes>"
      ]
     },
     "metadata": {
      "needs_background": "light"
     },
     "output_type": "display_data"
    },
    {
     "data": {
      "image/png": "[encoded data removed]",
      "text/plain": [
       "<Figure size 720x360 with 1 Axes>"
      ]
     },
     "metadata": {
      "needs_background": "light"
     },
     "output_type": "display_data"
    },
    {
     "data": {
      "image/png": "[encoded data removed]",
      "text/plain": [
       "<Figure size 720x360 with 1 Axes>"
      ]
     },
     "metadata": {
      "needs_background": "light"
     },
     "output_type": "display_data"
    }
   ],
   "source": [
    "# Generate categorical plots for categorical features\n",
    "for col in categorical_feat:\n",
    "    sns.catplot(x=col, y='y', data=df, kind='point', aspect=2)\n",
    "    plt.ylim(0, 1)"
   ]
  },
  {
   "cell_type": "markdown",
   "metadata": {},
   "source": [
    "Upon seeing the categorical plots, only the following variables are affecting the response:"
   ]
  },
  {
   "cell_type": "code",
   "execution_count": 40,
   "metadata": {},
   "outputs": [],
   "source": [
    "significant_categorical_feat  = ['x31', 'x33', 'x93']"
   ]
  },
  {
   "cell_type": "markdown",
   "metadata": {},
   "source": [
    "Let's make a list of the variables that we are interested to keep so far. \n",
    "**We have 42 signifant variables that are continuous.**\n",
    "**We have 3 significant variables that are categorical.**\n",
    "**We have 3 indicator variables that we created on the proven hypothesis the missing values in some columns are not missing by random.**"
   ]
  },
  {
   "cell_type": "code",
   "execution_count": 41,
   "metadata": {},
   "outputs": [],
   "source": [
    "#making a list of all variables that I need:\n",
    "significant_feat.extend(significant_categorical_feat)\n",
    "\n",
    "#Encode the indicatory variables by 0 and 1:\n",
    "for feat in indicator_df.columns:\n",
    "    indicator_df[feat] = indicator_df[feat].map({False:0 ,True : 1})\n",
    "    \n",
    "#append the indicator dataframe to the main dataframe:\n",
    "for feat in indicator_df.columns:\n",
    "    df[feat] = indicator_df[feat]\n",
    "\n",
    "\n",
    "significant_feat.extend(indicator_df.columns)\n",
    "    \n"
   ]
  },
  {
   "cell_type": "markdown",
   "metadata": {},
   "source": [
    "Let's see the significant variables:"
   ]
  },
  {
   "cell_type": "code",
   "execution_count": 42,
   "metadata": {},
   "outputs": [
    {
     "data": {
      "text/plain": [
       "['x1',\n",
       " 'x5',\n",
       " 'x7',\n",
       " 'x8',\n",
       " 'x11',\n",
       " 'x16',\n",
       " 'x18',\n",
       " 'x19',\n",
       " 'x21',\n",
       " 'x26',\n",
       " 'x27',\n",
       " 'x28',\n",
       " 'x32',\n",
       " 'x35',\n",
       " 'x36',\n",
       " 'x40',\n",
       " 'x41',\n",
       " 'x44',\n",
       " 'x46',\n",
       " 'x47',\n",
       " 'x48',\n",
       " 'x49',\n",
       " 'x51',\n",
       " 'x52',\n",
       " 'x53',\n",
       " 'x56',\n",
       " 'x57',\n",
       " 'x62',\n",
       " 'x63',\n",
       " 'x64',\n",
       " 'x68',\n",
       " 'x70',\n",
       " 'x75',\n",
       " 'x78',\n",
       " 'x81',\n",
       " 'x85',\n",
       " 'x87',\n",
       " 'x88',\n",
       " 'x89',\n",
       " 'x90',\n",
       " 'x95',\n",
       " 'x96',\n",
       " 'x31',\n",
       " 'x33',\n",
       " 'x93',\n",
       " 'x16_indicator',\n",
       " 'x89_indicator',\n",
       " 'x96_indicator']"
      ]
     },
     "execution_count": 42,
     "metadata": {},
     "output_type": "execute_result"
    }
   ],
   "source": [
    "significant_feat"
   ]
  },
  {
   "cell_type": "markdown",
   "metadata": {},
   "source": [
    "### Capping outliers\n",
    "\n",
    "Let's see the overlaid histograms for each continuous variable:"
   ]
  },
  {
   "cell_type": "code",
   "execution_count": 43,
   "metadata": {},
   "outputs": [
    {
     "data": {
      "image/png": "[encoded data removed]",
      "text/plain": [
       "<Figure size 432x288 with 1 Axes>"
      ]
     },
     "metadata": {
      "needs_background": "light"
     },
     "output_type": "display_data"
    },
    {
     "data": {
      "image/png": "[encoded data removed]",
      "text/plain": [
       "<Figure size 432x288 with 1 Axes>"
      ]
     },
     "metadata": {
      "needs_background": "light"
     },
     "output_type": "display_data"
    },
    {
     "data": {
      "image/png": "[encoded data removed]",
      "text/plain": [
       "<Figure size 432x288 with 1 Axes>"
      ]
     },
     "metadata": {
      "needs_background": "light"
     },
     "output_type": "display_data"
    },
    {
     "data": {
      "image/png": "[encoded data removed]",
      "text/plain": [
       "<Figure size 432x288 with 1 Axes>"
      ]
     },
     "metadata": {
      "needs_background": "light"
     },
     "output_type": "display_data"
    },
    {
     "data": {
      "image/png": "[encoded data removed]",
      "text/plain": [
       "<Figure size 432x288 with 1 Axes>"
      ]
     },
     "metadata": {
      "needs_background": "light"
     },
     "output_type": "display_data"
    },
    {
     "data": {
      "image/png": "[encoded data removed]",
      "text/plain": [
       "<Figure size 432x288 with 1 Axes>"
      ]
     },
     "metadata": {
      "needs_background": "light"
     },
     "output_type": "display_data"
    },
    {
     "data": {
      "image/png": "[encoded data removed]",
      "text/plain": [
       "<Figure size 432x288 with 1 Axes>"
      ]
     },
     "metadata": {
      "needs_background": "light"
     },
     "output_type": "display_data"
    },
    {
     "data": {
      "image/png": "[encoded data removed]",
      "text/plain": [
       "<Figure size 432x288 with 1 Axes>"
      ]
     },
     "metadata": {
      "needs_background": "light"
     },
     "output_type": "display_data"
    },
    {
     "data": {
      "image/png": "[encoded data removed]",
      "text/plain": [
       "<Figure size 432x288 with 1 Axes>"
      ]
     },
     "metadata": {
      "needs_background": "light"
     },
     "output_type": "display_data"
    },
    {
     "data": {
      "image/png": "[encoded data removed]",
      "text/plain": [
       "<Figure size 432x288 with 1 Axes>"
      ]
     },
     "metadata": {
      "needs_background": "light"
     },
     "output_type": "display_data"
    },
    {
     "data": {
      "image/png": "[encoded data removed]",
      "text/plain": [
       "<Figure size 432x288 with 1 Axes>"
      ]
     },
     "metadata": {
      "needs_background": "light"
     },
     "output_type": "display_data"
    },
    {
     "data": {
      "image/png": "[encoded data removed]",
      "text/plain": [
       "<Figure size 432x288 with 1 Axes>"
      ]
     },
     "metadata": {
      "needs_background": "light"
     },
     "output_type": "display_data"
    },
    {
     "data": {
      "image/png": "[encoded data removed]",
      "text/plain": [
       "<Figure size 432x288 with 1 Axes>"
      ]
     },
     "metadata": {
      "needs_background": "light"
     },
     "output_type": "display_data"
    },
    {
     "data": {
      "image/png": "[encoded data removed]",
      "text/plain": [
       "<Figure size 432x288 with 1 Axes>"
      ]
     },
     "metadata": {
      "needs_background": "light"
     },
     "output_type": "display_data"
    },
    {
     "data": {
      "image/png": "[encoded data removed]",
      "text/plain": [
       "<Figure size 432x288 with 1 Axes>"
      ]
     },
     "metadata": {
      "needs_background": "light"
     },
     "output_type": "display_data"
    },
    {
     "data": {
      "image/png": "[encoded data removed]",
      "text/plain": [
       "<Figure size 432x288 with 1 Axes>"
      ]
     },
     "metadata": {
      "needs_background": "light"
     },
     "output_type": "display_data"
    },
    {
     "data": {
      "image/png": "[encoded data removed]",
      "text/plain": [
       "<Figure size 432x288 with 1 Axes>"
      ]
     },
     "metadata": {
      "needs_background": "light"
     },
     "output_type": "display_data"
    },
    {
     "data": {
      "image/png": "[encoded data removed]",
      "text/plain": [
       "<Figure size 432x288 with 1 Axes>"
      ]
     },
     "metadata": {
      "needs_background": "light"
     },
     "output_type": "display_data"
    },
    {
     "data": {
      "image/png": "[encoded data removed]",
      "text/plain": [
       "<Figure size 432x288 with 1 Axes>"
      ]
     },
     "metadata": {
      "needs_background": "light"
     },
     "output_type": "display_data"
    },
    {
     "data": {
      "image/png": "[encoded data removed]",
      "text/plain": [
       "<Figure size 432x288 with 1 Axes>"
      ]
     },
     "metadata": {
      "needs_background": "light"
     },
     "output_type": "display_data"
    },
    {
     "data": {
      "image/png": "[encoded data removed]",
      "text/plain": [
       "<Figure size 432x288 with 1 Axes>"
      ]
     },
     "metadata": {
      "needs_background": "light"
     },
     "output_type": "display_data"
    },
    {
     "data": {
      "image/png": "[encoded data removed]",
      "text/plain": [
       "<Figure size 432x288 with 1 Axes>"
      ]
     },
     "metadata": {
      "needs_background": "light"
     },
     "output_type": "display_data"
    },
    {
     "data": {
      "image/png": "[encoded data removed]",
      "text/plain": [
       "<Figure size 432x288 with 1 Axes>"
      ]
     },
     "metadata": {
      "needs_background": "light"
     },
     "output_type": "display_data"
    },
    {
     "data": {
      "image/png": "[encoded data removed]",
      "text/plain": [
       "<Figure size 432x288 with 1 Axes>"
      ]
     },
     "metadata": {
      "needs_background": "light"
     },
     "output_type": "display_data"
    },
    {
     "data": {
      "image/png": "[encoded data removed]",
      "text/plain": [
       "<Figure size 432x288 with 1 Axes>"
      ]
     },
     "metadata": {
      "needs_background": "light"
     },
     "output_type": "display_data"
    },
    {
     "data": {
      "image/png": "[encoded data removed]",
      "text/plain": [
       "<Figure size 432x288 with 1 Axes>"
      ]
     },
     "metadata": {
      "needs_background": "light"
     },
     "output_type": "display_data"
    },
    {
     "data": {
      "image/png": "[encoded data removed]",
      "text/plain": [
       "<Figure size 432x288 with 1 Axes>"
      ]
     },
     "metadata": {
      "needs_background": "light"
     },
     "output_type": "display_data"
    },
    {
     "data": {
      "image/png": "[encoded data removed]",
      "text/plain": [
       "<Figure size 432x288 with 1 Axes>"
      ]
     },
     "metadata": {
      "needs_background": "light"
     },
     "output_type": "display_data"
    },
    {
     "data": {
      "image/png": "[encoded data removed]",
      "text/plain": [
       "<Figure size 432x288 with 1 Axes>"
      ]
     },
     "metadata": {
      "needs_background": "light"
     },
     "output_type": "display_data"
    },
    {
     "data": {
      "image/png": "[encoded data removed]",
      "text/plain": [
       "<Figure size 432x288 with 1 Axes>"
      ]
     },
     "metadata": {
      "needs_background": "light"
     },
     "output_type": "display_data"
    },
    {
     "data": {
      "image/png": "[encoded data removed]",
      "text/plain": [
       "<Figure size 432x288 with 1 Axes>"
      ]
     },
     "metadata": {
      "needs_background": "light"
     },
     "output_type": "display_data"
    },
    {
     "data": {
      "image/png": "[encoded data removed]",
      "text/plain": [
       "<Figure size 432x288 with 1 Axes>"
      ]
     },
     "metadata": {
      "needs_background": "light"
     },
     "output_type": "display_data"
    },
    {
     "data": {
      "image/png": "[encoded data removed]",
      "text/plain": [
       "<Figure size 432x288 with 1 Axes>"
      ]
     },
     "metadata": {
      "needs_background": "light"
     },
     "output_type": "display_data"
    },
    {
     "data": {
      "image/png": "[encoded data removed]",
      "text/plain": [
       "<Figure size 432x288 with 1 Axes>"
      ]
     },
     "metadata": {
      "needs_background": "light"
     },
     "output_type": "display_data"
    },
    {
     "data": {
      "image/png": "[encoded data removed]",
      "text/plain": [
       "<Figure size 432x288 with 1 Axes>"
      ]
     },
     "metadata": {
      "needs_background": "light"
     },
     "output_type": "display_data"
    },
    {
     "data": {
      "image/png": "[encoded data removed]",
      "text/plain": [
       "<Figure size 432x288 with 1 Axes>"
      ]
     },
     "metadata": {
      "needs_background": "light"
     },
     "output_type": "display_data"
    },
    {
     "data": {
      "image/png": "[encoded data removed]",
      "text/plain": [
       "<Figure size 432x288 with 1 Axes>"
      ]
     },
     "metadata": {
      "needs_background": "light"
     },
     "output_type": "display_data"
    },
    {
     "data": {
      "image/png": "[encoded data removed]",
      "text/plain": [
       "<Figure size 432x288 with 1 Axes>"
      ]
     },
     "metadata": {
      "needs_background": "light"
     },
     "output_type": "display_data"
    },
    {
     "data": {
      "image/png": "[encoded data removed]",
      "text/plain": [
       "<Figure size 432x288 with 1 Axes>"
      ]
     },
     "metadata": {
      "needs_background": "light"
     },
     "output_type": "display_data"
    },
    {
     "data": {
      "image/png": "[encoded data removed]",
      "text/plain": [
       "<Figure size 432x288 with 1 Axes>"
      ]
     },
     "metadata": {
      "needs_background": "light"
     },
     "output_type": "display_data"
    },
    {
     "data": {
      "image/png": "[encoded data removed]",
      "text/plain": [
       "<Figure size 432x288 with 1 Axes>"
      ]
     },
     "metadata": {
      "needs_background": "light"
     },
     "output_type": "display_data"
    },
    {
     "data": {
      "image/png": "[encoded data removed]",
      "text/plain": [
       "<Figure size 432x288 with 1 Axes>"
      ]
     },
     "metadata": {
      "needs_background": "light"
     },
     "output_type": "display_data"
    }
   ],
   "source": [
    "for i in continuous_feat:\n",
    "    if i in significant_feat:\n",
    "        zeros = list(df[df['y'] == 0][i].dropna())\n",
    "        ones = list(df[df['y'] == 1][i].dropna())\n",
    "        xmin = min(min(zeros), min(ones))\n",
    "        xmax = max(max(zeros), max(ones))\n",
    "        width = (xmax - xmin) / 40\n",
    "        sns.distplot(zeros, color='r', kde=False, bins=np.arange(xmin, xmax, width))\n",
    "        sns.distplot(ones, color='g', kde=False, bins=np.arange(xmin, xmax, width))\n",
    "        plt.legend(['zeros', 'ones'])\n",
    "        plt.title('Overlaid histogram for {}'.format(i))\n",
    "        plt.show()"
   ]
  },
  {
   "cell_type": "markdown",
   "metadata": {},
   "source": [
    "The overlaid histograms show that there is no or little diffrence between the distribution of obeservations that lead to response 0 and those that lead to response 1 for each variables. Also It is evident some of the variables have quite far outliers. Let's eliminate the outliers that are farther than 0.99% quantile. I used a function that shows how many values for each variable is beyond 0.9, beyond 3 time standard deviation and beyond 0.99 quantile of data on just the right side of the distributions. This gives us an estimate of how many variables are going to be capped."
   ]
  },
  {
   "cell_type": "code",
   "execution_count": 44,
   "metadata": {},
   "outputs": [],
   "source": [
    "def detect_outlier(feature):\n",
    "    outliers = []\n",
    "    data = df[feature]\n",
    "    mean = np.mean(data)\n",
    "    std =np.std(data)\n",
    "    \n",
    "    \n",
    "    for y in data:\n",
    "        z_score= (y - mean)/std \n",
    "        if np.abs(z_score) > 3:\n",
    "            outliers.append(y)\n",
    "            \n",
    "    print('\\nOutlier caps for {}:'.format(feature))\n",
    "    print('  --95p: {:.1f} / {} values exceed that'.format(data.quantile(.95),\n",
    "                                                             len([i for i in data\n",
    "                                                                  if i > data.quantile(.95)])))\n",
    "    print('  --3sd: {:.1f} / {} values exceed that'.format(mean + 3*(std), len(outliers)))\n",
    "    print('  --99p: {:.1f} / {} values exceed that'.format(data.quantile(.99),\n",
    "                                                           len([i for i in data\n",
    "                                                                if i > data.quantile(.99)])))\n"
   ]
  },
  {
   "cell_type": "code",
   "execution_count": 45,
   "metadata": {},
   "outputs": [
    {
     "name": "stdout",
     "output_type": "stream",
     "text": [
      "\n",
      "Outlier caps for x1:\n",
      "  --95p: 6.5 / 581 values exceed that\n",
      "  --3sd: 9.0 / 45 values exceed that\n",
      "  --99p: 8.2 / 117 values exceed that\n",
      "\n",
      "Outlier caps for x5:\n",
      "  --95p: 2.0 / 581 values exceed that\n",
      "  --3sd: 3.7 / 34 values exceed that\n",
      "  --99p: 3.0 / 117 values exceed that\n",
      "\n",
      "Outlier caps for x7:\n",
      "  --95p: 0.0 / 579 values exceed that\n",
      "  --3sd: 0.0 / 20 values exceed that\n",
      "  --99p: 0.0 / 112 values exceed that\n",
      "\n",
      "Outlier caps for x8:\n",
      "  --95p: 2.3 / 581 values exceed that\n",
      "  --3sd: 4.3 / 35 values exceed that\n",
      "  --99p: 3.3 / 117 values exceed that\n",
      "\n",
      "Outlier caps for x11:\n",
      "  --95p: 120.7 / 581 values exceed that\n",
      "  --3sd: 137.1 / 45 values exceed that\n",
      "  --99p: 130.1 / 117 values exceed that\n",
      "\n",
      "Outlier caps for x16:\n",
      "  --95p: 102.2 / 581 values exceed that\n",
      "  --3sd: 103.1 / 158 values exceed that\n",
      "  --99p: 103.3 / 117 values exceed that\n",
      "\n",
      "Outlier caps for x18:\n",
      "  --95p: 89.6 / 581 values exceed that\n",
      "  --3sd: 99.1 / 0 values exceed that\n",
      "  --99p: 90.8 / 117 values exceed that\n",
      "\n",
      "Outlier caps for x19:\n",
      "  --95p: 1573.2 / 581 values exceed that\n",
      "  --3sd: 2936.9 / 27 values exceed that\n",
      "  --99p: 2274.8 / 117 values exceed that\n",
      "\n",
      "Outlier caps for x21:\n",
      "  --95p: 42.0 / 581 values exceed that\n",
      "  --3sd: 58.1 / 253 values exceed that\n",
      "  --99p: 75.1 / 117 values exceed that\n",
      "\n",
      "Outlier caps for x26:\n",
      "  --95p: 2.5 / 581 values exceed that\n",
      "  --3sd: 4.5 / 38 values exceed that\n",
      "  --99p: 3.6 / 117 values exceed that\n",
      "\n",
      "Outlier caps for x27:\n",
      "  --95p: 1171.4 / 581 values exceed that\n",
      "  --3sd: 1312.2 / 45 values exceed that\n",
      "  --99p: 1248.4 / 117 values exceed that\n",
      "\n",
      "Outlier caps for x28:\n",
      "  --95p: 21.3 / 581 values exceed that\n",
      "  --3sd: 26.1 / 24 values exceed that\n",
      "  --99p: 23.7 / 117 values exceed that\n",
      "\n",
      "Outlier caps for x32:\n",
      "  --95p: 3.8 / 581 values exceed that\n",
      "  --3sd: 6.6 / 224 values exceed that\n",
      "  --99p: 8.8 / 117 values exceed that\n",
      "\n",
      "Outlier caps for x35:\n",
      "  --95p: 4.0 / 581 values exceed that\n",
      "  --3sd: 6.2 / 157 values exceed that\n",
      "  --99p: 6.7 / 117 values exceed that\n",
      "\n",
      "Outlier caps for x36:\n",
      "  --95p: 76.8 / 581 values exceed that\n",
      "  --3sd: 82.6 / 35 values exceed that\n",
      "  --99p: 79.7 / 117 values exceed that\n",
      "\n",
      "Outlier caps for x40:\n",
      "  --95p: 19.7 / 581 values exceed that\n",
      "  --3sd: 24.4 / 0 values exceed that\n",
      "  --99p: 20.0 / 117 values exceed that\n",
      "\n",
      "Outlier caps for x41:\n",
      "  --95p: 102010.9 / 581 values exceed that\n",
      "  --3sd: 103448.3 / 76 values exceed that\n",
      "  --99p: 102947.9 / 117 values exceed that\n",
      "\n",
      "Outlier caps for x44:\n",
      "  --95p: 1.5 / 581 values exceed that\n",
      "  --3sd: 3.0 / 370 values exceed that\n",
      "  --99p: 3.7 / 117 values exceed that\n",
      "\n",
      "Outlier caps for x46:\n",
      "  --95p: 2.9 / 581 values exceed that\n",
      "  --3sd: 5.3 / 39 values exceed that\n",
      "  --99p: 4.2 / 117 values exceed that\n",
      "\n",
      "Outlier caps for x47:\n",
      "  --95p: 56.7 / 581 values exceed that\n",
      "  --3sd: 62.6 / 20 values exceed that\n",
      "  --99p: 59.5 / 117 values exceed that\n",
      "\n",
      "Outlier caps for x48:\n",
      "  --95p: 69.1 / 581 values exceed that\n",
      "  --3sd: 76.4 / 19 values exceed that\n",
      "  --99p: 72.8 / 116 values exceed that\n",
      "\n",
      "Outlier caps for x49:\n",
      "  --95p: 14.1 / 581 values exceed that\n",
      "  --3sd: 16.9 / 70 values exceed that\n",
      "  --99p: 15.5 / 117 values exceed that\n",
      "\n",
      "Outlier caps for x51:\n",
      "  --95p: 4.3 / 581 values exceed that\n",
      "  --3sd: 6.3 / 70 values exceed that\n",
      "  --99p: 5.8 / 117 values exceed that\n",
      "\n",
      "Outlier caps for x52:\n",
      "  --95p: 15.7 / 581 values exceed that\n",
      "  --3sd: 22.5 / 141 values exceed that\n",
      "  --99p: 21.3 / 117 values exceed that\n",
      "\n",
      "Outlier caps for x53:\n",
      "  --95p: 78.1 / 581 values exceed that\n",
      "  --3sd: 84.7 / 28 values exceed that\n",
      "  --99p: 81.3 / 117 values exceed that\n",
      "\n",
      "Outlier caps for x56:\n",
      "  --95p: 2.9 / 581 values exceed that\n",
      "  --3sd: 4.9 / 34 values exceed that\n",
      "  --99p: 3.8 / 117 values exceed that\n",
      "\n",
      "Outlier caps for x57:\n",
      "  --95p: 38.0 / 581 values exceed that\n",
      "  --3sd: 43.0 / 506 values exceed that\n",
      "  --99p: 46.0 / 117 values exceed that\n",
      "\n",
      "Outlier caps for x62:\n",
      "  --95p: 7.6 / 581 values exceed that\n",
      "  --3sd: 10.1 / 105 values exceed that\n",
      "  --99p: 10.0 / 117 values exceed that\n",
      "\n",
      "Outlier caps for x63:\n",
      "  --95p: 2.4 / 581 values exceed that\n",
      "  --3sd: 4.4 / 70 values exceed that\n",
      "  --99p: 3.6 / 117 values exceed that\n",
      "\n",
      "Outlier caps for x64:\n",
      "  --95p: 57.9 / 581 values exceed that\n",
      "  --3sd: 64.1 / 66 values exceed that\n",
      "  --99p: 61.7 / 117 values exceed that\n",
      "\n",
      "Outlier caps for x68:\n",
      "  --95p: 27.0 / 581 values exceed that\n",
      "  --3sd: 34.3 / 109 values exceed that\n",
      "  --99p: 33.9 / 117 values exceed that\n",
      "\n",
      "Outlier caps for x70:\n",
      "  --95p: 1.4 / 581 values exceed that\n",
      "  --3sd: 1.9 / 61 values exceed that\n",
      "  --99p: 1.7 / 117 values exceed that\n",
      "\n",
      "Outlier caps for x75:\n",
      "  --95p: 4.3 / 581 values exceed that\n",
      "  --3sd: 7.7 / 155 values exceed that\n",
      "  --99p: 8.6 / 117 values exceed that\n",
      "\n",
      "Outlier caps for x78:\n",
      "  --95p: 55.7 / 581 values exceed that\n",
      "  --3sd: 60.1 / 102 values exceed that\n",
      "  --99p: 58.7 / 117 values exceed that\n",
      "\n",
      "Outlier caps for x81:\n",
      "  --95p: 2.6 / 581 values exceed that\n",
      "  --3sd: 4.7 / 30 values exceed that\n",
      "  --99p: 3.7 / 117 values exceed that\n",
      "\n",
      "Outlier caps for x85:\n",
      "  --95p: 115.9 / 581 values exceed that\n",
      "  --3sd: 127.2 / 97 values exceed that\n",
      "  --99p: 123.3 / 117 values exceed that\n",
      "\n",
      "Outlier caps for x87:\n",
      "  --95p: 2.0 / 581 values exceed that\n",
      "  --3sd: 3.5 / 37 values exceed that\n",
      "  --99p: 2.8 / 117 values exceed that\n",
      "\n",
      "Outlier caps for x88:\n",
      "  --95p: 2.2 / 580 values exceed that\n",
      "  --3sd: 3.6 / 51 values exceed that\n",
      "  --99p: 3.1 / 117 values exceed that\n",
      "\n",
      "Outlier caps for x89:\n",
      "  --95p: 16.4 / 581 values exceed that\n",
      "  --3sd: 19.6 / 186 values exceed that\n",
      "  --99p: 21.1 / 117 values exceed that\n",
      "\n",
      "Outlier caps for x90:\n",
      "  --95p: 4.9 / 581 values exceed that\n",
      "  --3sd: 6.5 / 28 values exceed that\n",
      "  --99p: 5.7 / 117 values exceed that\n",
      "\n",
      "Outlier caps for x95:\n",
      "  --95p: 2.8 / 581 values exceed that\n",
      "  --3sd: 4.6 / 113 values exceed that\n",
      "  --99p: 4.1 / 117 values exceed that\n",
      "\n",
      "Outlier caps for x96:\n",
      "  --95p: 12.9 / 581 values exceed that\n",
      "  --3sd: 14.3 / 112 values exceed that\n",
      "  --99p: 14.3 / 117 values exceed that\n",
      "\n",
      "Outlier caps for x31:\n",
      "  --95p: 1.0 / 0 values exceed that\n",
      "  --3sd: 1.1 / 0 values exceed that\n",
      "  --99p: 1.0 / 0 values exceed that\n",
      "\n",
      "Outlier caps for x33:\n",
      "  --95p: 45.0 / 497 values exceed that\n",
      "  --3sd: 62.5 / 0 values exceed that\n",
      "  --99p: 49.0 / 79 values exceed that\n",
      "\n",
      "Outlier caps for x93:\n",
      "  --95p: 1.0 / 0 values exceed that\n",
      "  --3sd: 0.9 / 1026 values exceed that\n",
      "  --99p: 1.0 / 0 values exceed that\n",
      "\n",
      "Outlier caps for x16_indicator:\n",
      "  --95p: 1.0 / 0 values exceed that\n",
      "  --3sd: 1.7 / 0 values exceed that\n",
      "  --99p: 1.0 / 0 values exceed that\n",
      "\n",
      "Outlier caps for x89_indicator:\n",
      "  --95p: 1.0 / 0 values exceed that\n",
      "  --3sd: 1.6 / 0 values exceed that\n",
      "  --99p: 1.0 / 0 values exceed that\n",
      "\n",
      "Outlier caps for x96_indicator:\n",
      "  --95p: 1.0 / 0 values exceed that\n",
      "  --3sd: 1.3 / 0 values exceed that\n",
      "  --99p: 1.0 / 0 values exceed that\n"
     ]
    }
   ],
   "source": [
    "# Determine what the upperbound should be for continuous features\n",
    "for feat in significant_feat :\n",
    "     detect_outlier(feat)\n",
    "    "
   ]
  },
  {
   "cell_type": "markdown",
   "metadata": {},
   "source": [
    "Upon seeing the histograms, some variables are right skewed. For these variables upper 0.99 values are equalized to the 0.99 quantile. \n",
    "Some variables are roughly symmetric. For these variables, values lower than 0.01 and values upper than 0.99 quantile are equalized to the 0.01 and 0.99 bounds respectively."
   ]
  },
  {
   "cell_type": "code",
   "execution_count": 46,
   "metadata": {},
   "outputs": [],
   "source": [
    "extereme_high_outlier = ['x16','x21','x32','x35','x52','x62','x68','x70','x75','x89','x96']\n",
    "both_end_extreme_outlier = ['x11','x41','x44','x49','x52','x57','x63','x64','x78','x85','x95']\n",
    "    \n",
    "for feat in extereme_high_outlier:\n",
    "    df[feat].clip(upper=df[feat].quantile(.99), inplace = True)\n",
    "\n",
    "for feat in both_end_extreme_outlier:\n",
    "    df[feat].clip(upper=df[feat].quantile(.99), lower =df[feat].quantile(.1), inplace = True)\n",
    "   "
   ]
  },
  {
   "cell_type": "markdown",
   "metadata": {},
   "source": [
    "# Logistice regression on traning data\n",
    "\n",
    "First, I select the variables that I filtered as significant:\n",
    "Then, I seperate the variables and the responses:"
   ]
  },
  {
   "cell_type": "code",
   "execution_count": 47,
   "metadata": {},
   "outputs": [
    {
     "data": {
      "text/plain": [
       "Index(['x5', 'x7', 'x8', 'x11', 'x16', 'x18', 'x19', 'x21', 'x26', 'x27',\n",
       "       'x28', 'x32', 'x35', 'x36', 'x40', 'x41', 'x44', 'x46', 'x47', 'x48',\n",
       "       'x49', 'x51', 'x52', 'x53', 'x56', 'x57', 'x62', 'x63', 'x64', 'x68',\n",
       "       'x70', 'x75', 'x78', 'x81', 'x85', 'x87', 'x88', 'x89', 'x90', 'x95',\n",
       "       'x96', 'x31', 'x33', 'x93', 'x16_indicator', 'x89_indicator',\n",
       "       'x96_indicator'],\n",
       "      dtype='object')"
      ]
     },
     "execution_count": 47,
     "metadata": {},
     "output_type": "execute_result"
    }
   ],
   "source": [
    "chosen_df = df[significant_feat].copy()\n",
    "df_x = chosen_df.iloc[:,1:]\n",
    "df_y = df.iloc[:,0]\n",
    "\n",
    "df_x.columns"
   ]
  },
  {
   "cell_type": "markdown",
   "metadata": {},
   "source": [
    "First I scaled the data to make it easier for the model to pick up the signal. The raw data has different scales and we are just interested to now that for each values, how many standard deviation that values is below or above the mean of that variables."
   ]
  },
  {
   "cell_type": "code",
   "execution_count": 48,
   "metadata": {},
   "outputs": [
    {
     "data": {
      "text/plain": [
       "StandardScaler()"
      ]
     },
     "execution_count": 48,
     "metadata": {},
     "output_type": "execute_result"
    }
   ],
   "source": [
    "scaler = StandardScaler()\n",
    "scaler.fit(df_x)"
   ]
  },
  {
   "cell_type": "markdown",
   "metadata": {},
   "source": [
    "Then, I import the Logistic regression model out of  sklearn.linear_model and also the GridSearchCV module out of sklearn.model_selection"
   ]
  },
  {
   "cell_type": "code",
   "execution_count": 49,
   "metadata": {},
   "outputs": [],
   "source": [
    "from sklearn.linear_model import LogisticRegression\n",
    "from sklearn.model_selection import GridSearchCV"
   ]
  },
  {
   "cell_type": "code",
   "execution_count": 50,
   "metadata": {},
   "outputs": [
    {
     "data": {
      "text/plain": [
       "Index(['x5', 'x7', 'x8', 'x11', 'x16', 'x18', 'x19', 'x21', 'x26', 'x27',\n",
       "       'x28', 'x32', 'x35', 'x36', 'x40', 'x41', 'x44', 'x46', 'x47', 'x48',\n",
       "       'x49', 'x51', 'x52', 'x53', 'x56', 'x57', 'x62', 'x63', 'x64', 'x68',\n",
       "       'x70', 'x75', 'x78', 'x81', 'x85', 'x87', 'x88', 'x89', 'x90', 'x95',\n",
       "       'x96', 'x31', 'x33', 'x93', 'x16_indicator', 'x89_indicator',\n",
       "       'x96_indicator'],\n",
       "      dtype='object')"
      ]
     },
     "execution_count": 50,
     "metadata": {},
     "output_type": "execute_result"
    }
   ],
   "source": [
    "chosen_df = df[significant_feat].copy()\n",
    "df_x = chosen_df.iloc[:,1:]\n",
    "df_y = df.iloc[:,0]\n",
    "\n",
    "df_x.columns"
   ]
  },
  {
   "cell_type": "markdown",
   "metadata": {},
   "source": [
    "Then I scale the variables using the scaler that I instantiated out of the scaler class:"
   ]
  },
  {
   "cell_type": "code",
   "execution_count": 51,
   "metadata": {},
   "outputs": [
    {
     "data": {
      "text/plain": [
       "StandardScaler()"
      ]
     },
     "execution_count": 51,
     "metadata": {},
     "output_type": "execute_result"
    }
   ],
   "source": [
    "# Fit the scaler on the training data\n",
    "scaler = StandardScaler()\n",
    "scaler.fit(df_x)"
   ]
  },
  {
   "cell_type": "markdown",
   "metadata": {},
   "source": [
    "Let's mute the warnings:"
   ]
  },
  {
   "cell_type": "code",
   "execution_count": 52,
   "metadata": {},
   "outputs": [],
   "source": [
    "import warnings\n",
    "warnings.filterwarnings('ignore', category=FutureWarning)\n",
    "warnings.filterwarnings('ignore', category=DeprecationWarning)"
   ]
  },
  {
   "cell_type": "code",
   "execution_count": 53,
   "metadata": {},
   "outputs": [],
   "source": [
    "with warnings.catch_warnings():\n",
    "\t# ignore all caught warnings\n",
    "\twarnings.filterwarnings(\"ignore\")\n",
    "\t# execute code that will generate warnings"
   ]
  },
  {
   "cell_type": "markdown",
   "metadata": {},
   "source": [
    "Here I created the function that output the results of the cross-validation. This is useful for hyperparameter tuning:"
   ]
  },
  {
   "cell_type": "code",
   "execution_count": 54,
   "metadata": {},
   "outputs": [],
   "source": [
    "def print_results(results):\n",
    "    print('BEST PARAMS: {}\\n'.format(results.best_params_))\n",
    "\n",
    "    means = results.cv_results_['mean_test_score']\n",
    "    stds = results.cv_results_['std_test_score']\n",
    "    for mean, std, params in zip(means, stds, results.cv_results_['params']):\n",
    "        print('{} (+/-{}) for {}'.format(round(mean, 3), round(std * 2, 3), params))\n"
   ]
  },
  {
   "cell_type": "markdown",
   "metadata": {},
   "source": [
    "Let's define training features and traning response:"
   ]
  },
  {
   "cell_type": "code",
   "execution_count": 55,
   "metadata": {},
   "outputs": [],
   "source": [
    "tr_features = df_x\n",
    "tr_labels = df_y"
   ]
  },
  {
   "cell_type": "markdown",
   "metadata": {},
   "source": [
    "Using different values for the regularization parameter stores in a dictionary, let's fit the model on traning data:"
   ]
  },
  {
   "cell_type": "code",
   "execution_count": 56,
   "metadata": {},
   "outputs": [
    {
     "name": "stderr",
     "output_type": "stream",
     "text": [
      "C:\\ProgramData\\Anaconda3\\lib\\site-packages\\sklearn\\linear_model\\_logistic.py:814: ConvergenceWarning: lbfgs failed to converge (status=1):\n",
      "STOP: TOTAL NO. of ITERATIONS REACHED LIMIT.\n",
      "\n",
      "Increase the number of iterations (max_iter) or scale the data as shown in:\n",
      "    https://scikit-learn.org/stable/modules/preprocessing.html\n",
      "Please also refer to the documentation for alternative solver options:\n",
      "    https://scikit-learn.org/stable/modules/linear_model.html#logistic-regression\n",
      "  n_iter_i = _check_optimize_result(\n",
      "C:\\ProgramData\\Anaconda3\\lib\\site-packages\\sklearn\\linear_model\\_logistic.py:814: ConvergenceWarning: lbfgs failed to converge (status=1):\n",
      "STOP: TOTAL NO. of ITERATIONS REACHED LIMIT.\n",
      "\n",
      "Increase the number of iterations (max_iter) or scale the data as shown in:\n",
      "    https://scikit-learn.org/stable/modules/preprocessing.html\n",
      "Please also refer to the documentation for alternative solver options:\n",
      "    https://scikit-learn.org/stable/modules/linear_model.html#logistic-regression\n",
      "  n_iter_i = _check_optimize_result(\n",
      "C:\\ProgramData\\Anaconda3\\lib\\site-packages\\sklearn\\linear_model\\_logistic.py:814: ConvergenceWarning: lbfgs failed to converge (status=1):\n",
      "STOP: TOTAL NO. of ITERATIONS REACHED LIMIT.\n",
      "\n",
      "Increase the number of iterations (max_iter) or scale the data as shown in:\n",
      "    https://scikit-learn.org/stable/modules/preprocessing.html\n",
      "Please also refer to the documentation for alternative solver options:\n",
      "    https://scikit-learn.org/stable/modules/linear_model.html#logistic-regression\n",
      "  n_iter_i = _check_optimize_result(\n",
      "C:\\ProgramData\\Anaconda3\\lib\\site-packages\\sklearn\\linear_model\\_logistic.py:814: ConvergenceWarning: lbfgs failed to converge (status=1):\n",
      "STOP: TOTAL NO. of ITERATIONS REACHED LIMIT.\n",
      "\n",
      "Increase the number of iterations (max_iter) or scale the data as shown in:\n",
      "    https://scikit-learn.org/stable/modules/preprocessing.html\n",
      "Please also refer to the documentation for alternative solver options:\n",
      "    https://scikit-learn.org/stable/modules/linear_model.html#logistic-regression\n",
      "  n_iter_i = _check_optimize_result(\n",
      "C:\\ProgramData\\Anaconda3\\lib\\site-packages\\sklearn\\linear_model\\_logistic.py:814: ConvergenceWarning: lbfgs failed to converge (status=1):\n",
      "STOP: TOTAL NO. of ITERATIONS REACHED LIMIT.\n",
      "\n",
      "Increase the number of iterations (max_iter) or scale the data as shown in:\n",
      "    https://scikit-learn.org/stable/modules/preprocessing.html\n",
      "Please also refer to the documentation for alternative solver options:\n",
      "    https://scikit-learn.org/stable/modules/linear_model.html#logistic-regression\n",
      "  n_iter_i = _check_optimize_result(\n",
      "C:\\ProgramData\\Anaconda3\\lib\\site-packages\\sklearn\\linear_model\\_logistic.py:814: ConvergenceWarning: lbfgs failed to converge (status=1):\n",
      "STOP: TOTAL NO. of ITERATIONS REACHED LIMIT.\n",
      "\n",
      "Increase the number of iterations (max_iter) or scale the data as shown in:\n",
      "    https://scikit-learn.org/stable/modules/preprocessing.html\n",
      "Please also refer to the documentation for alternative solver options:\n",
      "    https://scikit-learn.org/stable/modules/linear_model.html#logistic-regression\n",
      "  n_iter_i = _check_optimize_result(\n",
      "C:\\ProgramData\\Anaconda3\\lib\\site-packages\\sklearn\\linear_model\\_logistic.py:814: ConvergenceWarning: lbfgs failed to converge (status=1):\n",
      "STOP: TOTAL NO. of ITERATIONS REACHED LIMIT.\n",
      "\n",
      "Increase the number of iterations (max_iter) or scale the data as shown in:\n",
      "    https://scikit-learn.org/stable/modules/preprocessing.html\n",
      "Please also refer to the documentation for alternative solver options:\n",
      "    https://scikit-learn.org/stable/modules/linear_model.html#logistic-regression\n",
      "  n_iter_i = _check_optimize_result(\n",
      "C:\\ProgramData\\Anaconda3\\lib\\site-packages\\sklearn\\linear_model\\_logistic.py:814: ConvergenceWarning: lbfgs failed to converge (status=1):\n",
      "STOP: TOTAL NO. of ITERATIONS REACHED LIMIT.\n",
      "\n",
      "Increase the number of iterations (max_iter) or scale the data as shown in:\n",
      "    https://scikit-learn.org/stable/modules/preprocessing.html\n",
      "Please also refer to the documentation for alternative solver options:\n",
      "    https://scikit-learn.org/stable/modules/linear_model.html#logistic-regression\n",
      "  n_iter_i = _check_optimize_result(\n",
      "C:\\ProgramData\\Anaconda3\\lib\\site-packages\\sklearn\\linear_model\\_logistic.py:814: ConvergenceWarning: lbfgs failed to converge (status=1):\n",
      "STOP: TOTAL NO. of ITERATIONS REACHED LIMIT.\n",
      "\n",
      "Increase the number of iterations (max_iter) or scale the data as shown in:\n",
      "    https://scikit-learn.org/stable/modules/preprocessing.html\n",
      "Please also refer to the documentation for alternative solver options:\n",
      "    https://scikit-learn.org/stable/modules/linear_model.html#logistic-regression\n",
      "  n_iter_i = _check_optimize_result(\n",
      "C:\\ProgramData\\Anaconda3\\lib\\site-packages\\sklearn\\linear_model\\_logistic.py:814: ConvergenceWarning: lbfgs failed to converge (status=1):\n",
      "STOP: TOTAL NO. of ITERATIONS REACHED LIMIT.\n",
      "\n",
      "Increase the number of iterations (max_iter) or scale the data as shown in:\n",
      "    https://scikit-learn.org/stable/modules/preprocessing.html\n",
      "Please also refer to the documentation for alternative solver options:\n",
      "    https://scikit-learn.org/stable/modules/linear_model.html#logistic-regression\n",
      "  n_iter_i = _check_optimize_result(\n",
      "C:\\ProgramData\\Anaconda3\\lib\\site-packages\\sklearn\\linear_model\\_logistic.py:814: ConvergenceWarning: lbfgs failed to converge (status=1):\n",
      "STOP: TOTAL NO. of ITERATIONS REACHED LIMIT.\n",
      "\n",
      "Increase the number of iterations (max_iter) or scale the data as shown in:\n",
      "    https://scikit-learn.org/stable/modules/preprocessing.html\n",
      "Please also refer to the documentation for alternative solver options:\n",
      "    https://scikit-learn.org/stable/modules/linear_model.html#logistic-regression\n",
      "  n_iter_i = _check_optimize_result(\n",
      "C:\\ProgramData\\Anaconda3\\lib\\site-packages\\sklearn\\linear_model\\_logistic.py:814: ConvergenceWarning: lbfgs failed to converge (status=1):\n",
      "STOP: TOTAL NO. of ITERATIONS REACHED LIMIT.\n",
      "\n",
      "Increase the number of iterations (max_iter) or scale the data as shown in:\n",
      "    https://scikit-learn.org/stable/modules/preprocessing.html\n",
      "Please also refer to the documentation for alternative solver options:\n",
      "    https://scikit-learn.org/stable/modules/linear_model.html#logistic-regression\n",
      "  n_iter_i = _check_optimize_result(\n",
      "C:\\ProgramData\\Anaconda3\\lib\\site-packages\\sklearn\\linear_model\\_logistic.py:814: ConvergenceWarning: lbfgs failed to converge (status=1):\n",
      "STOP: TOTAL NO. of ITERATIONS REACHED LIMIT.\n",
      "\n",
      "Increase the number of iterations (max_iter) or scale the data as shown in:\n",
      "    https://scikit-learn.org/stable/modules/preprocessing.html\n",
      "Please also refer to the documentation for alternative solver options:\n",
      "    https://scikit-learn.org/stable/modules/linear_model.html#logistic-regression\n",
      "  n_iter_i = _check_optimize_result(\n",
      "C:\\ProgramData\\Anaconda3\\lib\\site-packages\\sklearn\\linear_model\\_logistic.py:814: ConvergenceWarning: lbfgs failed to converge (status=1):\n",
      "STOP: TOTAL NO. of ITERATIONS REACHED LIMIT.\n",
      "\n",
      "Increase the number of iterations (max_iter) or scale the data as shown in:\n",
      "    https://scikit-learn.org/stable/modules/preprocessing.html\n",
      "Please also refer to the documentation for alternative solver options:\n",
      "    https://scikit-learn.org/stable/modules/linear_model.html#logistic-regression\n",
      "  n_iter_i = _check_optimize_result(\n",
      "C:\\ProgramData\\Anaconda3\\lib\\site-packages\\sklearn\\linear_model\\_logistic.py:814: ConvergenceWarning: lbfgs failed to converge (status=1):\n",
      "STOP: TOTAL NO. of ITERATIONS REACHED LIMIT.\n",
      "\n",
      "Increase the number of iterations (max_iter) or scale the data as shown in:\n",
      "    https://scikit-learn.org/stable/modules/preprocessing.html\n",
      "Please also refer to the documentation for alternative solver options:\n",
      "    https://scikit-learn.org/stable/modules/linear_model.html#logistic-regression\n",
      "  n_iter_i = _check_optimize_result(\n",
      "C:\\ProgramData\\Anaconda3\\lib\\site-packages\\sklearn\\linear_model\\_logistic.py:814: ConvergenceWarning: lbfgs failed to converge (status=1):\n",
      "STOP: TOTAL NO. of ITERATIONS REACHED LIMIT.\n",
      "\n",
      "Increase the number of iterations (max_iter) or scale the data as shown in:\n",
      "    https://scikit-learn.org/stable/modules/preprocessing.html\n",
      "Please also refer to the documentation for alternative solver options:\n",
      "    https://scikit-learn.org/stable/modules/linear_model.html#logistic-regression\n",
      "  n_iter_i = _check_optimize_result(\n"
     ]
    },
    {
     "name": "stderr",
     "output_type": "stream",
     "text": [
      "C:\\ProgramData\\Anaconda3\\lib\\site-packages\\sklearn\\linear_model\\_logistic.py:814: ConvergenceWarning: lbfgs failed to converge (status=1):\n",
      "STOP: TOTAL NO. of ITERATIONS REACHED LIMIT.\n",
      "\n",
      "Increase the number of iterations (max_iter) or scale the data as shown in:\n",
      "    https://scikit-learn.org/stable/modules/preprocessing.html\n",
      "Please also refer to the documentation for alternative solver options:\n",
      "    https://scikit-learn.org/stable/modules/linear_model.html#logistic-regression\n",
      "  n_iter_i = _check_optimize_result(\n",
      "C:\\ProgramData\\Anaconda3\\lib\\site-packages\\sklearn\\linear_model\\_logistic.py:814: ConvergenceWarning: lbfgs failed to converge (status=1):\n",
      "STOP: TOTAL NO. of ITERATIONS REACHED LIMIT.\n",
      "\n",
      "Increase the number of iterations (max_iter) or scale the data as shown in:\n",
      "    https://scikit-learn.org/stable/modules/preprocessing.html\n",
      "Please also refer to the documentation for alternative solver options:\n",
      "    https://scikit-learn.org/stable/modules/linear_model.html#logistic-regression\n",
      "  n_iter_i = _check_optimize_result(\n",
      "C:\\ProgramData\\Anaconda3\\lib\\site-packages\\sklearn\\linear_model\\_logistic.py:814: ConvergenceWarning: lbfgs failed to converge (status=1):\n",
      "STOP: TOTAL NO. of ITERATIONS REACHED LIMIT.\n",
      "\n",
      "Increase the number of iterations (max_iter) or scale the data as shown in:\n",
      "    https://scikit-learn.org/stable/modules/preprocessing.html\n",
      "Please also refer to the documentation for alternative solver options:\n",
      "    https://scikit-learn.org/stable/modules/linear_model.html#logistic-regression\n",
      "  n_iter_i = _check_optimize_result(\n",
      "C:\\ProgramData\\Anaconda3\\lib\\site-packages\\sklearn\\linear_model\\_logistic.py:814: ConvergenceWarning: lbfgs failed to converge (status=1):\n",
      "STOP: TOTAL NO. of ITERATIONS REACHED LIMIT.\n",
      "\n",
      "Increase the number of iterations (max_iter) or scale the data as shown in:\n",
      "    https://scikit-learn.org/stable/modules/preprocessing.html\n",
      "Please also refer to the documentation for alternative solver options:\n",
      "    https://scikit-learn.org/stable/modules/linear_model.html#logistic-regression\n",
      "  n_iter_i = _check_optimize_result(\n"
     ]
    },
    {
     "data": {
      "text/plain": [
       "GridSearchCV(cv=10, estimator=LogisticRegression(),\n",
       "             param_grid={'C': [0.001, 0.01, 0.1, 1, 10, 100, 1000]})"
      ]
     },
     "execution_count": 56,
     "metadata": {},
     "output_type": "execute_result"
    }
   ],
   "source": [
    "lr = LogisticRegression()\n",
    "parameters = {\n",
    "    'C': [0.001, 0.01, 0.1, 1, 10, 100, 1000]\n",
    "}\n",
    "\n",
    "cv = GridSearchCV(lr, parameters, cv=10)\n",
    "cv.fit(tr_features, tr_labels.values.ravel())\n",
    "\n"
   ]
  },
  {
   "cell_type": "markdown",
   "metadata": {},
   "source": [
    "Let's print out the results using the function that I created:"
   ]
  },
  {
   "cell_type": "code",
   "execution_count": 57,
   "metadata": {},
   "outputs": [
    {
     "name": "stdout",
     "output_type": "stream",
     "text": [
      "BEST PARAMS: {'C': 0.01}\n",
      "\n",
      "0.589 (+/-0.03) for {'C': 0.001}\n",
      "0.591 (+/-0.032) for {'C': 0.01}\n",
      "0.587 (+/-0.03) for {'C': 0.1}\n",
      "0.588 (+/-0.031) for {'C': 1}\n",
      "0.588 (+/-0.031) for {'C': 10}\n",
      "0.591 (+/-0.034) for {'C': 100}\n",
      "0.589 (+/-0.036) for {'C': 1000}\n"
     ]
    }
   ],
   "source": [
    "print_results(cv)"
   ]
  },
  {
   "cell_type": "markdown",
   "metadata": {},
   "source": [
    "It seems that regardless of the regularization parameter, the best result obtained is having an accuracy of 0.589. Using the best combination of hyper parameters the probability of the traning data belonging to each class is obtained by:"
   ]
  },
  {
   "cell_type": "code",
   "execution_count": 58,
   "metadata": {},
   "outputs": [
    {
     "data": {
      "text/plain": [
       "array([[0.43200914, 0.56799086],\n",
       "       [0.68468778, 0.31531222],\n",
       "       [0.50577451, 0.49422549],\n",
       "       ...,\n",
       "       [0.31620217, 0.68379783],\n",
       "       [0.55797507, 0.44202493],\n",
       "       [0.62969877, 0.37030123]])"
      ]
     },
     "execution_count": 58,
     "metadata": {},
     "output_type": "execute_result"
    }
   ],
   "source": [
    "cv.predict_proba(tr_features)"
   ]
  },
  {
   "cell_type": "markdown",
   "metadata": {},
   "source": [
    "### Pros and cons of Logsitc regression:\n",
    "Logistics regression is used when the response variable is categorical. It is logit form of linear regression to make sure that the responses are between zero and one. So it can assign a probability of belonging to each class. \n",
    "\n",
    "**Pros:**\n",
    "\n",
    "1- It is fast algorithm for a quick benchmark analysis.\n",
    "\n",
    "2- It is intrepretable and tranparent.\n",
    "\n",
    "**Cons:**\n",
    "\n",
    "1- It doesn't have a good performace and should not be used for a massive data set with thousand of instances and hundreds of features.\n",
    "\n",
    "2- It does not work when the response is continuous."
   ]
  },
  {
   "cell_type": "markdown",
   "metadata": {},
   "source": [
    "### Pros and cons of Gradient Boosted Trees:\n",
    "Boosting an ensemble method that aggragate very small models (models with around %50 accuracy) to make a string model (a model that has a high correlation with true classification). Boosting effectively learns from its mistakes in each iteration. AT the end of the algorithm, a weighted vote beased on the performance of each individual trained model make the prediction. Gradient Boosted Trees is special kind of boosting method wherein the small models are shallow decision trees.\n",
    "\n",
    "**Pros:**\n",
    "\n",
    "1- It is applicable for both continuous and categorical responses\n",
    "\n",
    "2- It has high performace.\n",
    "\n",
    "3- It is not affected very much by the shape of the data in terms of skeness and normality.\n",
    "\n",
    "**Cons:**\n",
    "\n",
    "1- It is a slow algorithm especially on mahcines with a low computing power.\n",
    "\n",
    "2- it is prone to overfitting.\n",
    "\n",
    "3- It is not transparent."
   ]
  },
  {
   "cell_type": "code",
   "execution_count": 59,
   "metadata": {},
   "outputs": [
    {
     "name": "stdout",
     "output_type": "stream",
     "text": [
      "BEST PARAMS: {'learning_rate': 0.1, 'max_depth': 9, 'n_estimators': 50}\n",
      "\n",
      "0.658 (+/-0.027) for {'learning_rate': 0.01, 'max_depth': 3, 'n_estimators': 20}\n",
      "0.659 (+/-0.032) for {'learning_rate': 0.01, 'max_depth': 3, 'n_estimators': 50}\n",
      "0.667 (+/-0.022) for {'learning_rate': 0.01, 'max_depth': 5, 'n_estimators': 20}\n",
      "0.669 (+/-0.021) for {'learning_rate': 0.01, 'max_depth': 5, 'n_estimators': 50}\n",
      "0.665 (+/-0.028) for {'learning_rate': 0.01, 'max_depth': 7, 'n_estimators': 20}\n",
      "0.672 (+/-0.019) for {'learning_rate': 0.01, 'max_depth': 7, 'n_estimators': 50}\n",
      "0.656 (+/-0.019) for {'learning_rate': 0.01, 'max_depth': 9, 'n_estimators': 20}\n",
      "0.67 (+/-0.013) for {'learning_rate': 0.01, 'max_depth': 9, 'n_estimators': 50}\n",
      "0.642 (+/-0.027) for {'learning_rate': 0.01, 'max_depth': 11, 'n_estimators': 20}\n",
      "0.66 (+/-0.024) for {'learning_rate': 0.01, 'max_depth': 11, 'n_estimators': 50}\n",
      "0.673 (+/-0.028) for {'learning_rate': 0.1, 'max_depth': 3, 'n_estimators': 20}\n",
      "0.679 (+/-0.022) for {'learning_rate': 0.1, 'max_depth': 3, 'n_estimators': 50}\n",
      "0.674 (+/-0.022) for {'learning_rate': 0.1, 'max_depth': 5, 'n_estimators': 20}\n",
      "0.684 (+/-0.024) for {'learning_rate': 0.1, 'max_depth': 5, 'n_estimators': 50}\n",
      "0.68 (+/-0.014) for {'learning_rate': 0.1, 'max_depth': 7, 'n_estimators': 20}\n",
      "0.683 (+/-0.021) for {'learning_rate': 0.1, 'max_depth': 7, 'n_estimators': 50}\n",
      "0.678 (+/-0.026) for {'learning_rate': 0.1, 'max_depth': 9, 'n_estimators': 20}\n",
      "0.687 (+/-0.026) for {'learning_rate': 0.1, 'max_depth': 9, 'n_estimators': 50}\n",
      "0.677 (+/-0.026) for {'learning_rate': 0.1, 'max_depth': 11, 'n_estimators': 20}\n",
      "0.683 (+/-0.017) for {'learning_rate': 0.1, 'max_depth': 11, 'n_estimators': 50}\n"
     ]
    }
   ],
   "source": [
    "from sklearn.ensemble import GradientBoostingClassifier\n",
    "\n",
    "\n",
    "gb = GradientBoostingClassifier()\n",
    "parameters = {\n",
    "    'n_estimators': [20,50],\n",
    "    'max_depth': [3, 5, 7, 9, 11],\n",
    "    'learning_rate': [0.01 ,0.1]\n",
    "}\n",
    "\n",
    "cv0 = GridSearchCV(gb, parameters, cv=10)\n",
    "cv0.fit(tr_features, tr_labels.values.ravel())\n",
    "\n",
    "print_results(cv0)"
   ]
  },
  {
   "cell_type": "markdown",
   "metadata": {},
   "source": [
    "### Train the model  on a sampled traing data and test it on the remaining:\n",
    "To see the auc on a fictional test set, let's segregate the data into traning and test sets:"
   ]
  },
  {
   "cell_type": "code",
   "execution_count": 60,
   "metadata": {},
   "outputs": [],
   "source": [
    "from sklearn.model_selection import train_test_split\n",
    "X_train, X_test, y_train, y_test = train_test_split(tr_features, tr_labels, random_state=42, train_size=0.6)"
   ]
  },
  {
   "cell_type": "markdown",
   "metadata": {},
   "source": [
    "Making the model besed on best hyper-parmeters:"
   ]
  },
  {
   "cell_type": "code",
   "execution_count": 61,
   "metadata": {},
   "outputs": [
    {
     "data": {
      "text/plain": [
       "GradientBoostingClassifier(max_depth=11, n_estimators=50)"
      ]
     },
     "execution_count": 61,
     "metadata": {},
     "output_type": "execute_result"
    }
   ],
   "source": [
    "gb = GradientBoostingClassifier(learning_rate= 0.1, max_depth= 11, n_estimators= 50)\n",
    "gb.fit(X_train, y_train.values.ravel())"
   ]
  },
  {
   "cell_type": "markdown",
   "metadata": {},
   "source": [
    "The probability of belonging to either class for the observations in the test split is as following. The left column is for 0 class and right column is for 1 class."
   ]
  },
  {
   "cell_type": "code",
   "execution_count": 65,
   "metadata": {},
   "outputs": [
    {
     "data": {
      "text/plain": [
       "array([[0.21467742, 0.78532258],\n",
       "       [0.1840668 , 0.8159332 ],\n",
       "       [0.8674725 , 0.1325275 ],\n",
       "       ...,\n",
       "       [0.46435635, 0.53564365],\n",
       "       [0.76256834, 0.23743166],\n",
       "       [0.12986778, 0.87013222]])"
      ]
     },
     "execution_count": 65,
     "metadata": {},
     "output_type": "execute_result"
    }
   ],
   "source": [
    "gb.predict_proba(X_test)"
   ]
  },
  {
   "cell_type": "code",
   "execution_count": null,
   "metadata": {},
   "outputs": [],
   "source": [
    "#make the prediction\n",
    "preds = gb.predict(X_test)\n",
    "preds"
   ]
  },
  {
   "cell_type": "markdown",
   "metadata": {},
   "source": [
    "# Confusion matrix and auc:\n",
    "\n",
    "It is easier to deliver the result to the non-technical audience by using auc curve and confusion matrix as following. The main diagonal elements in the confusion matrix shows the accuracy of the model in classification. The non-diagonal elements show the mis-classification number."
   ]
  },
  {
   "cell_type": "markdown",
   "metadata": {},
   "source": [
    "## How to demonstrate to a business partner which model is better without using a scoring metric:\n",
    "\n",
    "Bease on instructions, I am required to compare logistic regression model and the model of my choice which in this case is gradient boosted trees. One way that I can demonstrate to a business partner which model is better without using a scoring metric, is by confusion matric and comparing the numbers on the diagonal and off-diagonal elements.   "
   ]
  },
  {
   "cell_type": "code",
   "execution_count": 73,
   "metadata": {},
   "outputs": [
    {
     "data": {
      "text/html": [
       "<div>\n",
       "<style scoped>\n",
       "    .dataframe tbody tr th:only-of-type {\n",
       "        vertical-align: middle;\n",
       "    }\n",
       "\n",
       "    .dataframe tbody tr th {\n",
       "        vertical-align: top;\n",
       "    }\n",
       "\n",
       "    .dataframe thead th {\n",
       "        text-align: right;\n",
       "    }\n",
       "</style>\n",
       "<table border=\"1\" class=\"dataframe\">\n",
       "  <thead>\n",
       "    <tr style=\"text-align: right;\">\n",
       "      <th></th>\n",
       "      <th>Predicted zero</th>\n",
       "      <th>Predicted one</th>\n",
       "    </tr>\n",
       "  </thead>\n",
       "  <tbody>\n",
       "    <tr>\n",
       "      <th>Actual zero</th>\n",
       "      <td>1345</td>\n",
       "      <td>1011</td>\n",
       "    </tr>\n",
       "    <tr>\n",
       "      <th>Actual one</th>\n",
       "      <td>932</td>\n",
       "      <td>1355</td>\n",
       "    </tr>\n",
       "  </tbody>\n",
       "</table>\n",
       "</div>"
      ],
      "text/plain": [
       "             Predicted zero  Predicted one\n",
       "Actual zero            1345           1011\n",
       "Actual one              932           1355"
      ]
     },
     "execution_count": 73,
     "metadata": {},
     "output_type": "execute_result"
    }
   ],
   "source": [
    "# confusion matrix for the gradient boosted trees model\n",
    "from sklearn.metrics import confusion_matrix\n",
    "\n",
    "lr = LogisticRegression(C= 0.01)\n",
    "lr.fit(X_train, y_train.values.ravel())\n",
    "\n",
    "pred_lr = lr.predict(X_test)\n",
    "y = tr_labels.to_numpy()\n",
    "pd.DataFrame(confusion_matrix(y_test, pred_lr), columns=['Predicted zero', \"Predicted one\"],\n",
    "             index=['Actual zero', 'Actual one'])\n"
   ]
  },
  {
   "cell_type": "code",
   "execution_count": 74,
   "metadata": {},
   "outputs": [
    {
     "data": {
      "text/html": [
       "<div>\n",
       "<style scoped>\n",
       "    .dataframe tbody tr th:only-of-type {\n",
       "        vertical-align: middle;\n",
       "    }\n",
       "\n",
       "    .dataframe tbody tr th {\n",
       "        vertical-align: top;\n",
       "    }\n",
       "\n",
       "    .dataframe thead th {\n",
       "        text-align: right;\n",
       "    }\n",
       "</style>\n",
       "<table border=\"1\" class=\"dataframe\">\n",
       "  <thead>\n",
       "    <tr style=\"text-align: right;\">\n",
       "      <th></th>\n",
       "      <th>Predicted zero</th>\n",
       "      <th>Predicted one</th>\n",
       "    </tr>\n",
       "  </thead>\n",
       "  <tbody>\n",
       "    <tr>\n",
       "      <th>Actual zero</th>\n",
       "      <td>1563</td>\n",
       "      <td>793</td>\n",
       "    </tr>\n",
       "    <tr>\n",
       "      <th>Actual one</th>\n",
       "      <td>718</td>\n",
       "      <td>1569</td>\n",
       "    </tr>\n",
       "  </tbody>\n",
       "</table>\n",
       "</div>"
      ],
      "text/plain": [
       "             Predicted zero  Predicted one\n",
       "Actual zero            1563            793\n",
       "Actual one              718           1569"
      ]
     },
     "execution_count": 74,
     "metadata": {},
     "output_type": "execute_result"
    }
   ],
   "source": [
    "# confusion matrix for the gradient boosted trees model\n",
    "pd.DataFrame(confusion_matrix(y_test, preds), columns=['Predicted zero', \"Predicted one\"],\n",
    "             index=['Actual zero', 'Actual one'])\n",
    "\n"
   ]
  },
  {
   "cell_type": "markdown",
   "metadata": {},
   "source": [
    "### Result of comparison for the business partner:\n",
    "Evidently, the gradient bossted trees model provides larger numbers on the diagonal of the confusion matrix  which revelas that there are more true guesses with this algorithm.\n",
    "\n",
    "\n",
    "\n",
    "Let's plot the AUC curve to see the true positive and false positive ratio with respect to different decision thresholds:"
   ]
  },
  {
   "cell_type": "code",
   "execution_count": 75,
   "metadata": {},
   "outputs": [
    {
     "name": "stdout",
     "output_type": "stream",
     "text": [
      "True Positives: 1569\n",
      "False Positives: 793\n",
      "True Negatives: 1563\n",
      "False Negatives: 718\n"
     ]
    }
   ],
   "source": [
    "#Let's see the AUC score:\n",
    "tn, fp, fn, tp = confusion_matrix(y_test, preds).ravel()\n",
    "print(f'True Positives: {tp}')\n",
    "print(f'False Positives: {fp}')\n",
    "print(f'True Negatives: {tn}')\n",
    "print(f'False Negatives: {fn}')"
   ]
  },
  {
   "cell_type": "markdown",
   "metadata": {},
   "source": [
    "Let's see the Area Under Curve (AUC) of true posirtive rate versus false positive rate. Becuase *.predict_proba* estimates probabilities for negative and positive classes, we just select the  positive class probabilities."
   ]
  },
  {
   "cell_type": "code",
   "execution_count": 76,
   "metadata": {},
   "outputs": [],
   "source": [
    "probas = gb.predict_proba(X_test)[:, 1]"
   ]
  },
  {
   "cell_type": "markdown",
   "metadata": {},
   "source": [
    "Make a function that converts the predictions accroding to various threshold rates:"
   ]
  },
  {
   "cell_type": "code",
   "execution_count": 77,
   "metadata": {},
   "outputs": [],
   "source": [
    "def get_preds(threshold, probabilities):\n",
    "    return [1 if prob > threshold else 0 for prob in probabilities]"
   ]
  },
  {
   "cell_type": "markdown",
   "metadata": {},
   "source": [
    "Let's make a lists of True Positive Rates and False Positive Rates at varying threshold rates:"
   ]
  },
  {
   "cell_type": "code",
   "execution_count": 78,
   "metadata": {},
   "outputs": [],
   "source": [
    "roc_values = []\n",
    "for thresh in np.linspace(0, 1, 100):\n",
    "    preds = get_preds(thresh, probas)\n",
    "    tn, fp, fn, tp = confusion_matrix(y_test, preds).ravel()\n",
    "    tpr = tp/(tp+fn)\n",
    "    fpr = fp/(fp+tn)\n",
    "    roc_values.append([tpr, fpr])\n",
    "tpr_values, fpr_values = zip(*roc_values)"
   ]
  },
  {
   "cell_type": "markdown",
   "metadata": {},
   "source": [
    "Finally, we plot the results on the test set:"
   ]
  },
  {
   "cell_type": "code",
   "execution_count": 79,
   "metadata": {},
   "outputs": [
    {
     "data": {
      "image/png": "[encoded data removed]",
      "text/plain": [
       "<Figure size 720x504 with 1 Axes>"
      ]
     },
     "metadata": {
      "needs_background": "light"
     },
     "output_type": "display_data"
    }
   ],
   "source": [
    "fig, ax = plt.subplots(figsize=(10,7))\n",
    "ax.plot(fpr_values, tpr_values)\n",
    "ax.plot(np.linspace(0, 1, 100),\n",
    "         np.linspace(0, 1, 100),\n",
    "         label='baseline',\n",
    "         linestyle='--')\n",
    "plt.title('Receiver Operating Characteristic Curve on gradient Boosted Tree Model', fontsize=18)\n",
    "plt.ylabel('TPR', fontsize=16)\n",
    "plt.xlabel('FPR', fontsize=16)\n",
    "plt.legend(fontsize=12);"
   ]
  },
  {
   "cell_type": "markdown",
   "metadata": {},
   "source": [
    "# Comparing the models:\n",
    "\n",
    "In our case-study, as we will see, gradient booset tree provides a better accuracy when doing grid cross validation using different set of hyperparameters. The best accuracy result for logistic regression model is **0.591** while the best accuracy for gradient boosted tree model is **0.687**. "
   ]
  },
  {
   "cell_type": "markdown",
   "metadata": {},
   "source": [
    "# A note on data leakage:\n",
    "\n",
    "One of the common mistakes when processing the features or traning the model is about data leakage. It means that information about the test data has been used in the feature engineering (i.g. scaling, capping, feture selection, etc) and it leads to over optimistic accuracy scores followed by disappointing accurace meaure when using the model with real data. \n",
    "\n",
    "\n",
    "I was careful to not commit this mistake in the process. \n",
    "\n",
    "Another  concerning concerning is selecting features before evaluating cross validation. This is also a kind data of data leakage becuase the label for all data was used when training one of the k folds in cross validation. It has serous impacts on the model. Admitting the impact of this leakage, I followed the convention of machine learning pipeline, given that my home computer is not capable of traning a model with all features.\n",
    "\n"
   ]
  },
  {
   "cell_type": "markdown",
   "metadata": {},
   "source": [
    "# Test the model on the actual test set provided by employer"
   ]
  },
  {
   "cell_type": "markdown",
   "metadata": {},
   "source": [
    "Let's first read the data"
   ]
  },
  {
   "cell_type": "code",
   "execution_count": 119,
   "metadata": {},
   "outputs": [],
   "source": [
    "test_data = pd.read_csv('C:/Users/mhajiha/Desktop/State Farm/exercise_40_test.csv'\n",
    "                         ,index_col=None ) "
   ]
  },
  {
   "cell_type": "markdown",
   "metadata": {},
   "source": [
    "Drop the feaures that do had only one class in traning data and the model did not provide any inference on them:"
   ]
  },
  {
   "cell_type": "code",
   "execution_count": 120,
   "metadata": {},
   "outputs": [],
   "source": [
    "cat_feat = ['x39', 'x99']\n",
    "test_data.drop(cat_feat, axis=1, inplace=True)"
   ]
  },
  {
   "cell_type": "markdown",
   "metadata": {},
   "source": [
    "Clean the variables with str format having special characters:"
   ]
  },
  {
   "cell_type": "code",
   "execution_count": 121,
   "metadata": {},
   "outputs": [],
   "source": [
    "x7 = list(test_data['x7'])\n",
    "x19 = list(test_data['x19'])\n",
    "x7 = [float(x7[i].replace('%',''))   for i in range(len(test_data))]\n",
    "x19 = [float(x19[i].replace('$',''))   for i in range(len(test_data))]\n",
    "test_data['x7'] = x7\n",
    "test_data['x19'] = x19"
   ]
  },
  {
   "cell_type": "markdown",
   "metadata": {},
   "source": [
    "I need to make indicator variables out of 4 categorical features whose missing values were not random:"
   ]
  },
  {
   "cell_type": "code",
   "execution_count": 122,
   "metadata": {},
   "outputs": [],
   "source": [
    "df = test_data.copy()"
   ]
  },
  {
   "cell_type": "code",
   "execution_count": 123,
   "metadata": {},
   "outputs": [
    {
     "data": {
      "text/html": [
       "<div>\n",
       "<style scoped>\n",
       "    .dataframe tbody tr th:only-of-type {\n",
       "        vertical-align: middle;\n",
       "    }\n",
       "\n",
       "    .dataframe tbody tr th {\n",
       "        vertical-align: top;\n",
       "    }\n",
       "\n",
       "    .dataframe thead th {\n",
       "        text-align: right;\n",
       "    }\n",
       "</style>\n",
       "<table border=\"1\" class=\"dataframe\">\n",
       "  <thead>\n",
       "    <tr style=\"text-align: right;\">\n",
       "      <th></th>\n",
       "      <th>x1</th>\n",
       "      <th>x2</th>\n",
       "      <th>x4</th>\n",
       "      <th>x5</th>\n",
       "      <th>x6</th>\n",
       "      <th>x7</th>\n",
       "      <th>x8</th>\n",
       "      <th>x9</th>\n",
       "      <th>x10</th>\n",
       "      <th>x11</th>\n",
       "      <th>...</th>\n",
       "      <th>x88</th>\n",
       "      <th>x89</th>\n",
       "      <th>x90</th>\n",
       "      <th>x91</th>\n",
       "      <th>x92</th>\n",
       "      <th>x94</th>\n",
       "      <th>x95</th>\n",
       "      <th>x96</th>\n",
       "      <th>x97</th>\n",
       "      <th>x100</th>\n",
       "    </tr>\n",
       "  </thead>\n",
       "  <tbody>\n",
       "    <tr>\n",
       "      <th>0</th>\n",
       "      <td>4.747627</td>\n",
       "      <td>20.509439</td>\n",
       "      <td>2.299105</td>\n",
       "      <td>-1.815777</td>\n",
       "      <td>-0.752166</td>\n",
       "      <td>0.0098</td>\n",
       "      <td>-3.240309</td>\n",
       "      <td>0.587948</td>\n",
       "      <td>-0.260721</td>\n",
       "      <td>101.113628</td>\n",
       "      <td>...</td>\n",
       "      <td>3.420875</td>\n",
       "      <td>11.553023</td>\n",
       "      <td>5.904644</td>\n",
       "      <td>NaN</td>\n",
       "      <td>12.542333</td>\n",
       "      <td>3.107683</td>\n",
       "      <td>0.533904</td>\n",
       "      <td>12.438759</td>\n",
       "      <td>7.298306</td>\n",
       "      <td>93.567120</td>\n",
       "    </tr>\n",
       "    <tr>\n",
       "      <th>1</th>\n",
       "      <td>1.148654</td>\n",
       "      <td>19.301465</td>\n",
       "      <td>1.862200</td>\n",
       "      <td>-0.773707</td>\n",
       "      <td>-1.461276</td>\n",
       "      <td>0.0076</td>\n",
       "      <td>0.443209</td>\n",
       "      <td>0.522113</td>\n",
       "      <td>-1.090886</td>\n",
       "      <td>104.791999</td>\n",
       "      <td>...</td>\n",
       "      <td>0.295234</td>\n",
       "      <td>6.212811</td>\n",
       "      <td>4.876645</td>\n",
       "      <td>-0.848567</td>\n",
       "      <td>7.213829</td>\n",
       "      <td>4.276078</td>\n",
       "      <td>NaN</td>\n",
       "      <td>10.386987</td>\n",
       "      <td>12.527094</td>\n",
       "      <td>98.607486</td>\n",
       "    </tr>\n",
       "    <tr>\n",
       "      <th>2</th>\n",
       "      <td>4.986860</td>\n",
       "      <td>18.769675</td>\n",
       "      <td>1.040845</td>\n",
       "      <td>-1.548690</td>\n",
       "      <td>2.632948</td>\n",
       "      <td>-0.0005</td>\n",
       "      <td>-1.167885</td>\n",
       "      <td>5.739275</td>\n",
       "      <td>0.222975</td>\n",
       "      <td>102.109546</td>\n",
       "      <td>...</td>\n",
       "      <td>1.718243</td>\n",
       "      <td>NaN</td>\n",
       "      <td>4.455432</td>\n",
       "      <td>1.143388</td>\n",
       "      <td>10.483928</td>\n",
       "      <td>2.090868</td>\n",
       "      <td>-1.780474</td>\n",
       "      <td>11.328177</td>\n",
       "      <td>11.628247</td>\n",
       "      <td>94.578246</td>\n",
       "    </tr>\n",
       "    <tr>\n",
       "      <th>3</th>\n",
       "      <td>3.709183</td>\n",
       "      <td>18.374375</td>\n",
       "      <td>-0.169882</td>\n",
       "      <td>-2.396549</td>\n",
       "      <td>-0.784673</td>\n",
       "      <td>-0.0160</td>\n",
       "      <td>-2.662226</td>\n",
       "      <td>1.548050</td>\n",
       "      <td>0.210141</td>\n",
       "      <td>82.653354</td>\n",
       "      <td>...</td>\n",
       "      <td>0.461637</td>\n",
       "      <td>18.198978</td>\n",
       "      <td>3.947223</td>\n",
       "      <td>0.693646</td>\n",
       "      <td>3.862867</td>\n",
       "      <td>2.643847</td>\n",
       "      <td>1.662240</td>\n",
       "      <td>10.064961</td>\n",
       "      <td>10.550014</td>\n",
       "      <td>100.346261</td>\n",
       "    </tr>\n",
       "    <tr>\n",
       "      <th>4</th>\n",
       "      <td>3.801616</td>\n",
       "      <td>20.205541</td>\n",
       "      <td>2.092652</td>\n",
       "      <td>-0.732784</td>\n",
       "      <td>-0.703101</td>\n",
       "      <td>0.0186</td>\n",
       "      <td>0.056422</td>\n",
       "      <td>2.878167</td>\n",
       "      <td>-0.457618</td>\n",
       "      <td>75.036421</td>\n",
       "      <td>...</td>\n",
       "      <td>0.930729</td>\n",
       "      <td>10.014853</td>\n",
       "      <td>1.637334</td>\n",
       "      <td>-0.834763</td>\n",
       "      <td>3.632039</td>\n",
       "      <td>4.074434</td>\n",
       "      <td>NaN</td>\n",
       "      <td>9.255766</td>\n",
       "      <td>12.716137</td>\n",
       "      <td>102.578918</td>\n",
       "    </tr>\n",
       "    <tr>\n",
       "      <th>5</th>\n",
       "      <td>1.449185</td>\n",
       "      <td>17.237848</td>\n",
       "      <td>0.998924</td>\n",
       "      <td>0.882350</td>\n",
       "      <td>-1.700730</td>\n",
       "      <td>0.0076</td>\n",
       "      <td>-0.371594</td>\n",
       "      <td>1.269817</td>\n",
       "      <td>-1.433127</td>\n",
       "      <td>78.434085</td>\n",
       "      <td>...</td>\n",
       "      <td>-0.361749</td>\n",
       "      <td>14.582317</td>\n",
       "      <td>4.913132</td>\n",
       "      <td>0.636832</td>\n",
       "      <td>2.990617</td>\n",
       "      <td>3.476341</td>\n",
       "      <td>NaN</td>\n",
       "      <td>10.226547</td>\n",
       "      <td>8.795927</td>\n",
       "      <td>107.472726</td>\n",
       "    </tr>\n",
       "    <tr>\n",
       "      <th>6</th>\n",
       "      <td>0.979035</td>\n",
       "      <td>18.056038</td>\n",
       "      <td>0.105417</td>\n",
       "      <td>-1.782850</td>\n",
       "      <td>-1.390759</td>\n",
       "      <td>-0.0045</td>\n",
       "      <td>-1.886515</td>\n",
       "      <td>2.905928</td>\n",
       "      <td>0.222237</td>\n",
       "      <td>87.040247</td>\n",
       "      <td>...</td>\n",
       "      <td>-0.771061</td>\n",
       "      <td>9.040024</td>\n",
       "      <td>3.239272</td>\n",
       "      <td>0.622201</td>\n",
       "      <td>4.563410</td>\n",
       "      <td>4.311061</td>\n",
       "      <td>-1.757497</td>\n",
       "      <td>10.894402</td>\n",
       "      <td>11.669336</td>\n",
       "      <td>97.736258</td>\n",
       "    </tr>\n",
       "    <tr>\n",
       "      <th>7</th>\n",
       "      <td>0.910023</td>\n",
       "      <td>17.057286</td>\n",
       "      <td>-0.903745</td>\n",
       "      <td>0.118699</td>\n",
       "      <td>-2.110974</td>\n",
       "      <td>-0.0079</td>\n",
       "      <td>-0.613028</td>\n",
       "      <td>2.109169</td>\n",
       "      <td>1.140936</td>\n",
       "      <td>93.985642</td>\n",
       "      <td>...</td>\n",
       "      <td>0.653846</td>\n",
       "      <td>7.151094</td>\n",
       "      <td>4.587466</td>\n",
       "      <td>-3.446000</td>\n",
       "      <td>5.910630</td>\n",
       "      <td>4.615327</td>\n",
       "      <td>NaN</td>\n",
       "      <td>12.956667</td>\n",
       "      <td>9.710828</td>\n",
       "      <td>103.143976</td>\n",
       "    </tr>\n",
       "    <tr>\n",
       "      <th>8</th>\n",
       "      <td>3.616287</td>\n",
       "      <td>17.740881</td>\n",
       "      <td>2.193121</td>\n",
       "      <td>4.222402</td>\n",
       "      <td>0.206030</td>\n",
       "      <td>-0.0201</td>\n",
       "      <td>-0.397257</td>\n",
       "      <td>3.058279</td>\n",
       "      <td>-0.859673</td>\n",
       "      <td>120.832847</td>\n",
       "      <td>...</td>\n",
       "      <td>2.268028</td>\n",
       "      <td>8.720701</td>\n",
       "      <td>4.471586</td>\n",
       "      <td>0.327317</td>\n",
       "      <td>4.247582</td>\n",
       "      <td>6.103622</td>\n",
       "      <td>0.449423</td>\n",
       "      <td>NaN</td>\n",
       "      <td>10.757233</td>\n",
       "      <td>99.305236</td>\n",
       "    </tr>\n",
       "    <tr>\n",
       "      <th>9</th>\n",
       "      <td>2.539012</td>\n",
       "      <td>21.078729</td>\n",
       "      <td>-0.868620</td>\n",
       "      <td>-0.193794</td>\n",
       "      <td>1.244369</td>\n",
       "      <td>-0.0222</td>\n",
       "      <td>-0.334661</td>\n",
       "      <td>1.478947</td>\n",
       "      <td>0.637950</td>\n",
       "      <td>88.678380</td>\n",
       "      <td>...</td>\n",
       "      <td>0.009158</td>\n",
       "      <td>NaN</td>\n",
       "      <td>2.784435</td>\n",
       "      <td>-3.202012</td>\n",
       "      <td>2.336352</td>\n",
       "      <td>5.288189</td>\n",
       "      <td>NaN</td>\n",
       "      <td>10.258891</td>\n",
       "      <td>8.016081</td>\n",
       "      <td>99.593899</td>\n",
       "    </tr>\n",
       "  </tbody>\n",
       "</table>\n",
       "<p>10 rows × 87 columns</p>\n",
       "</div>"
      ],
      "text/plain": [
       "         x1         x2        x4        x5        x6      x7        x8  \\\n",
       "0  4.747627  20.509439  2.299105 -1.815777 -0.752166  0.0098 -3.240309   \n",
       "1  1.148654  19.301465  1.862200 -0.773707 -1.461276  0.0076  0.443209   \n",
       "2  4.986860  18.769675  1.040845 -1.548690  2.632948 -0.0005 -1.167885   \n",
       "3  3.709183  18.374375 -0.169882 -2.396549 -0.784673 -0.0160 -2.662226   \n",
       "4  3.801616  20.205541  2.092652 -0.732784 -0.703101  0.0186  0.056422   \n",
       "5  1.449185  17.237848  0.998924  0.882350 -1.700730  0.0076 -0.371594   \n",
       "6  0.979035  18.056038  0.105417 -1.782850 -1.390759 -0.0045 -1.886515   \n",
       "7  0.910023  17.057286 -0.903745  0.118699 -2.110974 -0.0079 -0.613028   \n",
       "8  3.616287  17.740881  2.193121  4.222402  0.206030 -0.0201 -0.397257   \n",
       "9  2.539012  21.078729 -0.868620 -0.193794  1.244369 -0.0222 -0.334661   \n",
       "\n",
       "         x9       x10         x11  ...       x88        x89       x90  \\\n",
       "0  0.587948 -0.260721  101.113628  ...  3.420875  11.553023  5.904644   \n",
       "1  0.522113 -1.090886  104.791999  ...  0.295234   6.212811  4.876645   \n",
       "2  5.739275  0.222975  102.109546  ...  1.718243        NaN  4.455432   \n",
       "3  1.548050  0.210141   82.653354  ...  0.461637  18.198978  3.947223   \n",
       "4  2.878167 -0.457618   75.036421  ...  0.930729  10.014853  1.637334   \n",
       "5  1.269817 -1.433127   78.434085  ... -0.361749  14.582317  4.913132   \n",
       "6  2.905928  0.222237   87.040247  ... -0.771061   9.040024  3.239272   \n",
       "7  2.109169  1.140936   93.985642  ...  0.653846   7.151094  4.587466   \n",
       "8  3.058279 -0.859673  120.832847  ...  2.268028   8.720701  4.471586   \n",
       "9  1.478947  0.637950   88.678380  ...  0.009158        NaN  2.784435   \n",
       "\n",
       "        x91        x92       x94       x95        x96        x97        x100  \n",
       "0       NaN  12.542333  3.107683  0.533904  12.438759   7.298306   93.567120  \n",
       "1 -0.848567   7.213829  4.276078       NaN  10.386987  12.527094   98.607486  \n",
       "2  1.143388  10.483928  2.090868 -1.780474  11.328177  11.628247   94.578246  \n",
       "3  0.693646   3.862867  2.643847  1.662240  10.064961  10.550014  100.346261  \n",
       "4 -0.834763   3.632039  4.074434       NaN   9.255766  12.716137  102.578918  \n",
       "5  0.636832   2.990617  3.476341       NaN  10.226547   8.795927  107.472726  \n",
       "6  0.622201   4.563410  4.311061 -1.757497  10.894402  11.669336   97.736258  \n",
       "7 -3.446000   5.910630  4.615327       NaN  12.956667   9.710828  103.143976  \n",
       "8  0.327317   4.247582  6.103622  0.449423        NaN  10.757233   99.305236  \n",
       "9 -3.202012   2.336352  5.288189       NaN  10.258891   8.016081   99.593899  \n",
       "\n",
       "[10 rows x 87 columns]"
      ]
     },
     "execution_count": 123,
     "metadata": {},
     "output_type": "execute_result"
    }
   ],
   "source": [
    "df[continuous_feat].head(10)"
   ]
  },
  {
   "cell_type": "code",
   "execution_count": 124,
   "metadata": {},
   "outputs": [
    {
     "data": {
      "text/html": [
       "<div>\n",
       "<style scoped>\n",
       "    .dataframe tbody tr th:only-of-type {\n",
       "        vertical-align: middle;\n",
       "    }\n",
       "\n",
       "    .dataframe tbody tr th {\n",
       "        vertical-align: top;\n",
       "    }\n",
       "\n",
       "    .dataframe thead th {\n",
       "        text-align: right;\n",
       "    }\n",
       "</style>\n",
       "<table border=\"1\" class=\"dataframe\">\n",
       "  <thead>\n",
       "    <tr style=\"text-align: right;\">\n",
       "      <th></th>\n",
       "      <th>x3</th>\n",
       "      <th>x24</th>\n",
       "      <th>x31</th>\n",
       "      <th>x33</th>\n",
       "      <th>x59</th>\n",
       "      <th>x60</th>\n",
       "      <th>x65</th>\n",
       "      <th>x77</th>\n",
       "      <th>x79</th>\n",
       "      <th>x93</th>\n",
       "      <th>x98</th>\n",
       "    </tr>\n",
       "  </thead>\n",
       "  <tbody>\n",
       "    <tr>\n",
       "      <th>0</th>\n",
       "      <td>Wednesday</td>\n",
       "      <td>NaN</td>\n",
       "      <td>no</td>\n",
       "      <td>Florida</td>\n",
       "      <td>0</td>\n",
       "      <td>May</td>\n",
       "      <td>progressive</td>\n",
       "      <td>mercedes</td>\n",
       "      <td>1.0</td>\n",
       "      <td>no</td>\n",
       "      <td>0</td>\n",
       "    </tr>\n",
       "    <tr>\n",
       "      <th>1</th>\n",
       "      <td>Fri</td>\n",
       "      <td>female</td>\n",
       "      <td>yes</td>\n",
       "      <td>North Carolina</td>\n",
       "      <td>0</td>\n",
       "      <td>July</td>\n",
       "      <td>allstate</td>\n",
       "      <td>ford</td>\n",
       "      <td>1.0</td>\n",
       "      <td>yes</td>\n",
       "      <td>1</td>\n",
       "    </tr>\n",
       "    <tr>\n",
       "      <th>2</th>\n",
       "      <td>Saturday</td>\n",
       "      <td>male</td>\n",
       "      <td>no</td>\n",
       "      <td>NaN</td>\n",
       "      <td>0</td>\n",
       "      <td>January</td>\n",
       "      <td>progressive</td>\n",
       "      <td>NaN</td>\n",
       "      <td>1.0</td>\n",
       "      <td>no</td>\n",
       "      <td>0</td>\n",
       "    </tr>\n",
       "    <tr>\n",
       "      <th>3</th>\n",
       "      <td>Tuesday</td>\n",
       "      <td>female</td>\n",
       "      <td>no</td>\n",
       "      <td>Mississippi</td>\n",
       "      <td>0</td>\n",
       "      <td>July</td>\n",
       "      <td>geico</td>\n",
       "      <td>subaru</td>\n",
       "      <td>1.0</td>\n",
       "      <td>no</td>\n",
       "      <td>1</td>\n",
       "    </tr>\n",
       "    <tr>\n",
       "      <th>4</th>\n",
       "      <td>Monday</td>\n",
       "      <td>female</td>\n",
       "      <td>yes</td>\n",
       "      <td>Georgia</td>\n",
       "      <td>0</td>\n",
       "      <td>January</td>\n",
       "      <td>progressive</td>\n",
       "      <td>ford</td>\n",
       "      <td>0.0</td>\n",
       "      <td>yes</td>\n",
       "      <td>1</td>\n",
       "    </tr>\n",
       "    <tr>\n",
       "      <th>5</th>\n",
       "      <td>Sun</td>\n",
       "      <td>female</td>\n",
       "      <td>no</td>\n",
       "      <td>Texas</td>\n",
       "      <td>0</td>\n",
       "      <td>August</td>\n",
       "      <td>allstate</td>\n",
       "      <td>chevrolet</td>\n",
       "      <td>NaN</td>\n",
       "      <td>no</td>\n",
       "      <td>0</td>\n",
       "    </tr>\n",
       "    <tr>\n",
       "      <th>6</th>\n",
       "      <td>Monday</td>\n",
       "      <td>female</td>\n",
       "      <td>no</td>\n",
       "      <td>Texas</td>\n",
       "      <td>0</td>\n",
       "      <td>October</td>\n",
       "      <td>allstate</td>\n",
       "      <td>toyota</td>\n",
       "      <td>1.0</td>\n",
       "      <td>no</td>\n",
       "      <td>1</td>\n",
       "    </tr>\n",
       "    <tr>\n",
       "      <th>7</th>\n",
       "      <td>Mon</td>\n",
       "      <td>male</td>\n",
       "      <td>no</td>\n",
       "      <td>West Virginia</td>\n",
       "      <td>0</td>\n",
       "      <td>July</td>\n",
       "      <td>allstate</td>\n",
       "      <td>mercedes</td>\n",
       "      <td>0.0</td>\n",
       "      <td>no</td>\n",
       "      <td>0</td>\n",
       "    </tr>\n",
       "    <tr>\n",
       "      <th>8</th>\n",
       "      <td>Thur</td>\n",
       "      <td>male</td>\n",
       "      <td>yes</td>\n",
       "      <td>NaN</td>\n",
       "      <td>0</td>\n",
       "      <td>December</td>\n",
       "      <td>progressive</td>\n",
       "      <td>subaru</td>\n",
       "      <td>1.0</td>\n",
       "      <td>no</td>\n",
       "      <td>0</td>\n",
       "    </tr>\n",
       "    <tr>\n",
       "      <th>9</th>\n",
       "      <td>Saturday</td>\n",
       "      <td>male</td>\n",
       "      <td>yes</td>\n",
       "      <td>Florida</td>\n",
       "      <td>1</td>\n",
       "      <td>July</td>\n",
       "      <td>progressive</td>\n",
       "      <td>subaru</td>\n",
       "      <td>1.0</td>\n",
       "      <td>no</td>\n",
       "      <td>0</td>\n",
       "    </tr>\n",
       "  </tbody>\n",
       "</table>\n",
       "</div>"
      ],
      "text/plain": [
       "          x3     x24  x31             x33  x59       x60          x65  \\\n",
       "0  Wednesday     NaN   no         Florida    0       May  progressive   \n",
       "1        Fri  female  yes  North Carolina    0      July     allstate   \n",
       "2   Saturday    male   no             NaN    0   January  progressive   \n",
       "3    Tuesday  female   no     Mississippi    0      July        geico   \n",
       "4     Monday  female  yes         Georgia    0   January  progressive   \n",
       "5        Sun  female   no           Texas    0    August     allstate   \n",
       "6     Monday  female   no           Texas    0   October     allstate   \n",
       "7        Mon    male   no   West Virginia    0      July     allstate   \n",
       "8       Thur    male  yes             NaN    0  December  progressive   \n",
       "9   Saturday    male  yes         Florida    1      July  progressive   \n",
       "\n",
       "         x77  x79  x93  x98  \n",
       "0   mercedes  1.0   no    0  \n",
       "1       ford  1.0  yes    1  \n",
       "2        NaN  1.0   no    0  \n",
       "3     subaru  1.0   no    1  \n",
       "4       ford  0.0  yes    1  \n",
       "5  chevrolet  NaN   no    0  \n",
       "6     toyota  1.0   no    1  \n",
       "7   mercedes  0.0   no    0  \n",
       "8     subaru  1.0   no    0  \n",
       "9     subaru  1.0   no    0  "
      ]
     },
     "execution_count": 124,
     "metadata": {},
     "output_type": "execute_result"
    }
   ],
   "source": [
    "df[categorical_feat].head(10)"
   ]
  },
  {
   "cell_type": "code",
   "execution_count": 125,
   "metadata": {},
   "outputs": [],
   "source": [
    "non_random = ['x16', 'x89', 'x96']"
   ]
  },
  {
   "cell_type": "code",
   "execution_count": 126,
   "metadata": {},
   "outputs": [],
   "source": [
    "indicator_df = pd.DataFrame()\n",
    "for feature in df.columns:    \n",
    "    if feature in non_random:\n",
    "        indicator_df['{}_indicator'.format(feature)] = df[feature].isnull()\n",
    "\n",
    "    if feature in continuous_feat:\n",
    "        df[feature] = df[feature].fillna( df[feature].mean())\n",
    "    if feature in categorical_feat:\n",
    "        new_array = df[feature].values.reshape(-1,1)\n",
    "        data_new = my_imputer.fit_transform(new_array)\n",
    "        df[feature] = data_new\n"
   ]
  },
  {
   "cell_type": "code",
   "execution_count": 127,
   "metadata": {},
   "outputs": [
    {
     "data": {
      "text/html": [
       "<div>\n",
       "<style scoped>\n",
       "    .dataframe tbody tr th:only-of-type {\n",
       "        vertical-align: middle;\n",
       "    }\n",
       "\n",
       "    .dataframe tbody tr th {\n",
       "        vertical-align: top;\n",
       "    }\n",
       "\n",
       "    .dataframe thead th {\n",
       "        text-align: right;\n",
       "    }\n",
       "</style>\n",
       "<table border=\"1\" class=\"dataframe\">\n",
       "  <thead>\n",
       "    <tr style=\"text-align: right;\">\n",
       "      <th></th>\n",
       "      <th>x1</th>\n",
       "      <th>x2</th>\n",
       "      <th>x3</th>\n",
       "      <th>x4</th>\n",
       "      <th>x5</th>\n",
       "      <th>x6</th>\n",
       "      <th>x7</th>\n",
       "      <th>x8</th>\n",
       "      <th>x9</th>\n",
       "      <th>x10</th>\n",
       "      <th>...</th>\n",
       "      <th>x90</th>\n",
       "      <th>x91</th>\n",
       "      <th>x92</th>\n",
       "      <th>x93</th>\n",
       "      <th>x94</th>\n",
       "      <th>x95</th>\n",
       "      <th>x96</th>\n",
       "      <th>x97</th>\n",
       "      <th>x98</th>\n",
       "      <th>x100</th>\n",
       "    </tr>\n",
       "  </thead>\n",
       "  <tbody>\n",
       "    <tr>\n",
       "      <th>0</th>\n",
       "      <td>4.747627</td>\n",
       "      <td>20.509439</td>\n",
       "      <td>Wednesday</td>\n",
       "      <td>2.299105</td>\n",
       "      <td>-1.815777</td>\n",
       "      <td>-0.752166</td>\n",
       "      <td>0.0098</td>\n",
       "      <td>-3.240309</td>\n",
       "      <td>0.587948</td>\n",
       "      <td>-0.260721</td>\n",
       "      <td>...</td>\n",
       "      <td>5.904644</td>\n",
       "      <td>-0.003896</td>\n",
       "      <td>12.542333</td>\n",
       "      <td>no</td>\n",
       "      <td>3.107683</td>\n",
       "      <td>0.533904</td>\n",
       "      <td>12.438759</td>\n",
       "      <td>7.298306</td>\n",
       "      <td>0</td>\n",
       "      <td>93.567120</td>\n",
       "    </tr>\n",
       "    <tr>\n",
       "      <th>1</th>\n",
       "      <td>1.148654</td>\n",
       "      <td>19.301465</td>\n",
       "      <td>Fri</td>\n",
       "      <td>1.862200</td>\n",
       "      <td>-0.773707</td>\n",
       "      <td>-1.461276</td>\n",
       "      <td>0.0076</td>\n",
       "      <td>0.443209</td>\n",
       "      <td>0.522113</td>\n",
       "      <td>-1.090886</td>\n",
       "      <td>...</td>\n",
       "      <td>4.876645</td>\n",
       "      <td>-0.848567</td>\n",
       "      <td>7.213829</td>\n",
       "      <td>yes</td>\n",
       "      <td>4.276078</td>\n",
       "      <td>0.036814</td>\n",
       "      <td>10.386987</td>\n",
       "      <td>12.527094</td>\n",
       "      <td>1</td>\n",
       "      <td>98.607486</td>\n",
       "    </tr>\n",
       "    <tr>\n",
       "      <th>2</th>\n",
       "      <td>4.986860</td>\n",
       "      <td>18.769675</td>\n",
       "      <td>Saturday</td>\n",
       "      <td>1.040845</td>\n",
       "      <td>-1.548690</td>\n",
       "      <td>2.632948</td>\n",
       "      <td>-0.0005</td>\n",
       "      <td>-1.167885</td>\n",
       "      <td>5.739275</td>\n",
       "      <td>0.222975</td>\n",
       "      <td>...</td>\n",
       "      <td>4.455432</td>\n",
       "      <td>1.143388</td>\n",
       "      <td>10.483928</td>\n",
       "      <td>no</td>\n",
       "      <td>2.090868</td>\n",
       "      <td>-1.780474</td>\n",
       "      <td>11.328177</td>\n",
       "      <td>11.628247</td>\n",
       "      <td>0</td>\n",
       "      <td>94.578246</td>\n",
       "    </tr>\n",
       "    <tr>\n",
       "      <th>3</th>\n",
       "      <td>3.709183</td>\n",
       "      <td>18.374375</td>\n",
       "      <td>Tuesday</td>\n",
       "      <td>-0.169882</td>\n",
       "      <td>-2.396549</td>\n",
       "      <td>-0.784673</td>\n",
       "      <td>-0.0160</td>\n",
       "      <td>-2.662226</td>\n",
       "      <td>1.548050</td>\n",
       "      <td>0.210141</td>\n",
       "      <td>...</td>\n",
       "      <td>3.947223</td>\n",
       "      <td>0.693646</td>\n",
       "      <td>3.862867</td>\n",
       "      <td>no</td>\n",
       "      <td>2.643847</td>\n",
       "      <td>1.662240</td>\n",
       "      <td>10.064961</td>\n",
       "      <td>10.550014</td>\n",
       "      <td>1</td>\n",
       "      <td>100.346261</td>\n",
       "    </tr>\n",
       "    <tr>\n",
       "      <th>4</th>\n",
       "      <td>3.801616</td>\n",
       "      <td>20.205541</td>\n",
       "      <td>Monday</td>\n",
       "      <td>2.092652</td>\n",
       "      <td>-0.732784</td>\n",
       "      <td>-0.703101</td>\n",
       "      <td>0.0186</td>\n",
       "      <td>0.056422</td>\n",
       "      <td>2.878167</td>\n",
       "      <td>-0.457618</td>\n",
       "      <td>...</td>\n",
       "      <td>1.637334</td>\n",
       "      <td>-0.834763</td>\n",
       "      <td>3.632039</td>\n",
       "      <td>yes</td>\n",
       "      <td>4.074434</td>\n",
       "      <td>0.036814</td>\n",
       "      <td>9.255766</td>\n",
       "      <td>12.716137</td>\n",
       "      <td>1</td>\n",
       "      <td>102.578918</td>\n",
       "    </tr>\n",
       "    <tr>\n",
       "      <th>5</th>\n",
       "      <td>1.449185</td>\n",
       "      <td>17.237848</td>\n",
       "      <td>Sun</td>\n",
       "      <td>0.998924</td>\n",
       "      <td>0.882350</td>\n",
       "      <td>-1.700730</td>\n",
       "      <td>0.0076</td>\n",
       "      <td>-0.371594</td>\n",
       "      <td>1.269817</td>\n",
       "      <td>-1.433127</td>\n",
       "      <td>...</td>\n",
       "      <td>4.913132</td>\n",
       "      <td>0.636832</td>\n",
       "      <td>2.990617</td>\n",
       "      <td>no</td>\n",
       "      <td>3.476341</td>\n",
       "      <td>0.036814</td>\n",
       "      <td>10.226547</td>\n",
       "      <td>8.795927</td>\n",
       "      <td>0</td>\n",
       "      <td>107.472726</td>\n",
       "    </tr>\n",
       "    <tr>\n",
       "      <th>6</th>\n",
       "      <td>0.979035</td>\n",
       "      <td>18.056038</td>\n",
       "      <td>Monday</td>\n",
       "      <td>0.105417</td>\n",
       "      <td>-1.782850</td>\n",
       "      <td>-1.390759</td>\n",
       "      <td>-0.0045</td>\n",
       "      <td>-1.886515</td>\n",
       "      <td>2.905928</td>\n",
       "      <td>0.222237</td>\n",
       "      <td>...</td>\n",
       "      <td>3.239272</td>\n",
       "      <td>0.622201</td>\n",
       "      <td>4.563410</td>\n",
       "      <td>no</td>\n",
       "      <td>4.311061</td>\n",
       "      <td>-1.757497</td>\n",
       "      <td>10.894402</td>\n",
       "      <td>11.669336</td>\n",
       "      <td>1</td>\n",
       "      <td>97.736258</td>\n",
       "    </tr>\n",
       "    <tr>\n",
       "      <th>7</th>\n",
       "      <td>0.910023</td>\n",
       "      <td>17.057286</td>\n",
       "      <td>Mon</td>\n",
       "      <td>-0.903745</td>\n",
       "      <td>0.118699</td>\n",
       "      <td>-2.110974</td>\n",
       "      <td>-0.0079</td>\n",
       "      <td>-0.613028</td>\n",
       "      <td>2.109169</td>\n",
       "      <td>1.140936</td>\n",
       "      <td>...</td>\n",
       "      <td>4.587466</td>\n",
       "      <td>-3.446000</td>\n",
       "      <td>5.910630</td>\n",
       "      <td>no</td>\n",
       "      <td>4.615327</td>\n",
       "      <td>0.036814</td>\n",
       "      <td>12.956667</td>\n",
       "      <td>9.710828</td>\n",
       "      <td>0</td>\n",
       "      <td>103.143976</td>\n",
       "    </tr>\n",
       "    <tr>\n",
       "      <th>8</th>\n",
       "      <td>3.616287</td>\n",
       "      <td>17.740881</td>\n",
       "      <td>Thur</td>\n",
       "      <td>2.193121</td>\n",
       "      <td>4.222402</td>\n",
       "      <td>0.206030</td>\n",
       "      <td>-0.0201</td>\n",
       "      <td>-0.397257</td>\n",
       "      <td>3.058279</td>\n",
       "      <td>-0.859673</td>\n",
       "      <td>...</td>\n",
       "      <td>4.471586</td>\n",
       "      <td>0.327317</td>\n",
       "      <td>4.247582</td>\n",
       "      <td>no</td>\n",
       "      <td>6.103622</td>\n",
       "      <td>0.449423</td>\n",
       "      <td>10.564081</td>\n",
       "      <td>10.757233</td>\n",
       "      <td>0</td>\n",
       "      <td>99.305236</td>\n",
       "    </tr>\n",
       "    <tr>\n",
       "      <th>9</th>\n",
       "      <td>2.539012</td>\n",
       "      <td>21.078729</td>\n",
       "      <td>Saturday</td>\n",
       "      <td>-0.868620</td>\n",
       "      <td>-0.193794</td>\n",
       "      <td>1.244369</td>\n",
       "      <td>-0.0222</td>\n",
       "      <td>-0.334661</td>\n",
       "      <td>1.478947</td>\n",
       "      <td>0.637950</td>\n",
       "      <td>...</td>\n",
       "      <td>2.784435</td>\n",
       "      <td>-3.202012</td>\n",
       "      <td>2.336352</td>\n",
       "      <td>no</td>\n",
       "      <td>5.288189</td>\n",
       "      <td>0.036814</td>\n",
       "      <td>10.258891</td>\n",
       "      <td>8.016081</td>\n",
       "      <td>0</td>\n",
       "      <td>99.593899</td>\n",
       "    </tr>\n",
       "  </tbody>\n",
       "</table>\n",
       "<p>10 rows × 98 columns</p>\n",
       "</div>"
      ],
      "text/plain": [
       "         x1         x2         x3        x4        x5        x6      x7  \\\n",
       "0  4.747627  20.509439  Wednesday  2.299105 -1.815777 -0.752166  0.0098   \n",
       "1  1.148654  19.301465        Fri  1.862200 -0.773707 -1.461276  0.0076   \n",
       "2  4.986860  18.769675   Saturday  1.040845 -1.548690  2.632948 -0.0005   \n",
       "3  3.709183  18.374375    Tuesday -0.169882 -2.396549 -0.784673 -0.0160   \n",
       "4  3.801616  20.205541     Monday  2.092652 -0.732784 -0.703101  0.0186   \n",
       "5  1.449185  17.237848        Sun  0.998924  0.882350 -1.700730  0.0076   \n",
       "6  0.979035  18.056038     Monday  0.105417 -1.782850 -1.390759 -0.0045   \n",
       "7  0.910023  17.057286        Mon -0.903745  0.118699 -2.110974 -0.0079   \n",
       "8  3.616287  17.740881       Thur  2.193121  4.222402  0.206030 -0.0201   \n",
       "9  2.539012  21.078729   Saturday -0.868620 -0.193794  1.244369 -0.0222   \n",
       "\n",
       "         x8        x9       x10  ...       x90       x91        x92  x93  \\\n",
       "0 -3.240309  0.587948 -0.260721  ...  5.904644 -0.003896  12.542333   no   \n",
       "1  0.443209  0.522113 -1.090886  ...  4.876645 -0.848567   7.213829  yes   \n",
       "2 -1.167885  5.739275  0.222975  ...  4.455432  1.143388  10.483928   no   \n",
       "3 -2.662226  1.548050  0.210141  ...  3.947223  0.693646   3.862867   no   \n",
       "4  0.056422  2.878167 -0.457618  ...  1.637334 -0.834763   3.632039  yes   \n",
       "5 -0.371594  1.269817 -1.433127  ...  4.913132  0.636832   2.990617   no   \n",
       "6 -1.886515  2.905928  0.222237  ...  3.239272  0.622201   4.563410   no   \n",
       "7 -0.613028  2.109169  1.140936  ...  4.587466 -3.446000   5.910630   no   \n",
       "8 -0.397257  3.058279 -0.859673  ...  4.471586  0.327317   4.247582   no   \n",
       "9 -0.334661  1.478947  0.637950  ...  2.784435 -3.202012   2.336352   no   \n",
       "\n",
       "        x94       x95        x96        x97  x98        x100  \n",
       "0  3.107683  0.533904  12.438759   7.298306    0   93.567120  \n",
       "1  4.276078  0.036814  10.386987  12.527094    1   98.607486  \n",
       "2  2.090868 -1.780474  11.328177  11.628247    0   94.578246  \n",
       "3  2.643847  1.662240  10.064961  10.550014    1  100.346261  \n",
       "4  4.074434  0.036814   9.255766  12.716137    1  102.578918  \n",
       "5  3.476341  0.036814  10.226547   8.795927    0  107.472726  \n",
       "6  4.311061 -1.757497  10.894402  11.669336    1   97.736258  \n",
       "7  4.615327  0.036814  12.956667   9.710828    0  103.143976  \n",
       "8  6.103622  0.449423  10.564081  10.757233    0   99.305236  \n",
       "9  5.288189  0.036814  10.258891   8.016081    0   99.593899  \n",
       "\n",
       "[10 rows x 98 columns]"
      ]
     },
     "execution_count": 127,
     "metadata": {},
     "output_type": "execute_result"
    }
   ],
   "source": [
    "df.head(10)"
   ]
  },
  {
   "cell_type": "markdown",
   "metadata": {},
   "source": [
    "Let's encode categorical features that we use: significant_categorical_feat  = ['x31', 'x33', 'x93']"
   ]
  },
  {
   "cell_type": "code",
   "execution_count": 128,
   "metadata": {},
   "outputs": [
    {
     "name": "stdout",
     "output_type": "stream",
     "text": [
      "Counter({'no': 8500, 'yes': 1500})\n",
      "Counter({0: 8500, 1: 1500})\n"
     ]
    }
   ],
   "source": [
    "print(unique(df['x31'] )) # Before encoding \n",
    "df['x31'] = df['x31'].map({'no':0 ,'yes' : 1})\n",
    "print(unique(df['x31'] )) # after encoding:"
   ]
  },
  {
   "cell_type": "code",
   "execution_count": 129,
   "metadata": {},
   "outputs": [
    {
     "name": "stdout",
     "output_type": "stream",
     "text": [
      "Counter({'California': 2611, 'Texas': 593, 'Florida': 475, 'New York': 462, 'Pennsylvania': 321, 'Illinois': 306, 'Ohio': 278, 'Michigan': 245, 'North Carolina': 238, 'Georgia': 236, 'New Jersey': 204, 'Washington': 189, 'Virginia': 188, 'Massachusetts': 178, 'Indiana': 162, 'Colorado': 160, 'Tennessee': 157, 'Oklahoma': 153, 'Missouri': 153, 'Alabama': 149, 'Minnesota': 148, 'Wisconsin': 145, 'Maryland': 139, 'South Carolina': 132, 'Arizona': 124, 'Louisiana': 119, 'Kentucky': 114, 'Arkansas': 113, 'Utah': 109, 'Oregon': 102, 'Connecticut': 100, 'Iowa': 89, 'Nevada': 88, 'Kansas': 87, 'Mississippi': 85, 'Nebraska': 77, 'New Hampshire': 73, 'Idaho': 67, 'West Virginia': 65, 'New Mexico': 62, 'Rhode Island': 57, 'Maine': 54, 'South Dakota': 50, 'North Dakota': 48, 'Hawaii': 46, 'Alaska': 45, 'DC': 44, 'Wyoming': 41, 'Vermont': 41, 'Montana': 40, 'Delaware': 38})\n",
      "  \n",
      "Counter({2: 2611, 5: 593, 0: 475, 17: 462, 23: 321, 12: 306, 7: 278, 19: 245, 1: 238, 4: 236, 26: 204, 18: 189, 11: 188, 20: 178, 8: 162, 25: 160, 31: 157, 21: 153, 34: 153, 15: 149, 28: 148, 24: 145, 9: 139, 27: 132, 38: 124, 16: 119, 10: 114, 32: 113, 22: 109, 41: 102, 44: 100, 29: 89, 33: 88, 13: 87, 3: 85, 48: 77, 39: 73, 35: 67, 6: 65, 47: 62, 36: 57, 14: 54, 42: 50, 43: 48, 40: 46, 50: 45, 46: 44, 30: 41, 49: 41, 37: 40, 45: 38})\n"
     ]
    }
   ],
   "source": [
    "print(unique(df['x33'] )) # Before encoding \n",
    "dic = unique(df['x33'])\n",
    "states = list(dic.keys())\n",
    "newdic = {x:i  for i,x in enumerate(states)   }\n",
    "df['x33'] = df['x33'].map(newdic)\n",
    "print(\"  \")\n",
    "print(unique(df['x33'] )) # after encoding:"
   ]
  },
  {
   "cell_type": "code",
   "execution_count": 130,
   "metadata": {},
   "outputs": [
    {
     "name": "stdout",
     "output_type": "stream",
     "text": [
      "Counter({0: 8848, 1: 1152})\n"
     ]
    }
   ],
   "source": [
    "df['x93'].nunique()\n",
    "ans_dict = unique(df['x93'])\n",
    "ans =  list(ans_dict.keys())\n",
    "newdic = {x:i  for i,x in enumerate(ans)   }\n",
    "df['x93'] = df['x93'].map(newdic)\n",
    "\n",
    "\n",
    "print(unique(df['x93'] )) # after encoding:"
   ]
  },
  {
   "cell_type": "code",
   "execution_count": 131,
   "metadata": {},
   "outputs": [],
   "source": [
    "# encode the indicator variables:\n",
    "for feat in indicator_df.columns:\n",
    "    indicator_df[feat] = indicator_df[feat].map({False:0 ,True : 1})\n",
    "    \n",
    "\n",
    "for feat in indicator_df.columns:\n",
    "    df[feat] = indicator_df[feat]"
   ]
  },
  {
   "cell_type": "code",
   "execution_count": 132,
   "metadata": {},
   "outputs": [
    {
     "data": {
      "text/plain": [
       "48"
      ]
     },
     "execution_count": 132,
     "metadata": {},
     "output_type": "execute_result"
    }
   ],
   "source": [
    "len(significant_feat)"
   ]
  },
  {
   "cell_type": "markdown",
   "metadata": {},
   "source": [
    "See the significant feature labels as significant_feat:"
   ]
  },
  {
   "cell_type": "markdown",
   "metadata": {},
   "source": [
    "Imputing the data:"
   ]
  },
  {
   "cell_type": "code",
   "execution_count": 133,
   "metadata": {},
   "outputs": [],
   "source": [
    "for feat in extereme_high_outlier:\n",
    "    df[feat].clip(upper=df[feat].quantile(.99), inplace = True)\n",
    "\n",
    "for feat in both_end_extreme_outlier:\n",
    "    df[feat].clip(upper=df[feat].quantile(.99), lower =df[feat].quantile(.1), inplace = True)\n",
    "    "
   ]
  },
  {
   "cell_type": "markdown",
   "metadata": {},
   "source": [
    "Let's look at the test data:"
   ]
  },
  {
   "cell_type": "code",
   "execution_count": 134,
   "metadata": {},
   "outputs": [
    {
     "data": {
      "text/html": [
       "<div>\n",
       "<style scoped>\n",
       "    .dataframe tbody tr th:only-of-type {\n",
       "        vertical-align: middle;\n",
       "    }\n",
       "\n",
       "    .dataframe tbody tr th {\n",
       "        vertical-align: top;\n",
       "    }\n",
       "\n",
       "    .dataframe thead th {\n",
       "        text-align: right;\n",
       "    }\n",
       "</style>\n",
       "<table border=\"1\" class=\"dataframe\">\n",
       "  <thead>\n",
       "    <tr style=\"text-align: right;\">\n",
       "      <th></th>\n",
       "      <th>x1</th>\n",
       "      <th>x5</th>\n",
       "      <th>x7</th>\n",
       "      <th>x8</th>\n",
       "      <th>x11</th>\n",
       "      <th>x16</th>\n",
       "      <th>x18</th>\n",
       "      <th>x19</th>\n",
       "      <th>x21</th>\n",
       "      <th>x26</th>\n",
       "      <th>...</th>\n",
       "      <th>x89</th>\n",
       "      <th>x90</th>\n",
       "      <th>x95</th>\n",
       "      <th>x96</th>\n",
       "      <th>x31</th>\n",
       "      <th>x33</th>\n",
       "      <th>x93</th>\n",
       "      <th>x16_indicator</th>\n",
       "      <th>x89_indicator</th>\n",
       "      <th>x96_indicator</th>\n",
       "    </tr>\n",
       "  </thead>\n",
       "  <tbody>\n",
       "    <tr>\n",
       "      <th>0</th>\n",
       "      <td>4.747627</td>\n",
       "      <td>-1.815777</td>\n",
       "      <td>0.0098</td>\n",
       "      <td>-3.240309</td>\n",
       "      <td>101.113628</td>\n",
       "      <td>102.193597</td>\n",
       "      <td>75.256714</td>\n",
       "      <td>120.216190</td>\n",
       "      <td>4.794438</td>\n",
       "      <td>-3.152540</td>\n",
       "      <td>...</td>\n",
       "      <td>11.553023</td>\n",
       "      <td>5.904644</td>\n",
       "      <td>0.533904</td>\n",
       "      <td>12.438759</td>\n",
       "      <td>0</td>\n",
       "      <td>0</td>\n",
       "      <td>0</td>\n",
       "      <td>0</td>\n",
       "      <td>0</td>\n",
       "      <td>0</td>\n",
       "    </tr>\n",
       "    <tr>\n",
       "      <th>1</th>\n",
       "      <td>1.148654</td>\n",
       "      <td>-0.773707</td>\n",
       "      <td>0.0076</td>\n",
       "      <td>0.443209</td>\n",
       "      <td>104.791999</td>\n",
       "      <td>99.356609</td>\n",
       "      <td>79.061540</td>\n",
       "      <td>-267.562586</td>\n",
       "      <td>12.377178</td>\n",
       "      <td>-0.442525</td>\n",
       "      <td>...</td>\n",
       "      <td>6.212811</td>\n",
       "      <td>4.876645</td>\n",
       "      <td>0.036814</td>\n",
       "      <td>10.386987</td>\n",
       "      <td>1</td>\n",
       "      <td>1</td>\n",
       "      <td>1</td>\n",
       "      <td>0</td>\n",
       "      <td>0</td>\n",
       "      <td>0</td>\n",
       "    </tr>\n",
       "    <tr>\n",
       "      <th>2</th>\n",
       "      <td>4.986860</td>\n",
       "      <td>-1.548690</td>\n",
       "      <td>-0.0005</td>\n",
       "      <td>-1.167885</td>\n",
       "      <td>102.109546</td>\n",
       "      <td>100.727360</td>\n",
       "      <td>87.567827</td>\n",
       "      <td>-311.292903</td>\n",
       "      <td>31.135956</td>\n",
       "      <td>-0.303259</td>\n",
       "      <td>...</td>\n",
       "      <td>10.847434</td>\n",
       "      <td>4.455432</td>\n",
       "      <td>-1.780474</td>\n",
       "      <td>11.328177</td>\n",
       "      <td>0</td>\n",
       "      <td>2</td>\n",
       "      <td>0</td>\n",
       "      <td>1</td>\n",
       "      <td>1</td>\n",
       "      <td>0</td>\n",
       "    </tr>\n",
       "    <tr>\n",
       "      <th>3</th>\n",
       "      <td>3.709183</td>\n",
       "      <td>-2.396549</td>\n",
       "      <td>-0.0160</td>\n",
       "      <td>-2.662226</td>\n",
       "      <td>84.256726</td>\n",
       "      <td>102.410965</td>\n",
       "      <td>71.825782</td>\n",
       "      <td>2229.149400</td>\n",
       "      <td>1.822459</td>\n",
       "      <td>0.641209</td>\n",
       "      <td>...</td>\n",
       "      <td>18.198978</td>\n",
       "      <td>3.947223</td>\n",
       "      <td>1.662240</td>\n",
       "      <td>10.064961</td>\n",
       "      <td>0</td>\n",
       "      <td>3</td>\n",
       "      <td>0</td>\n",
       "      <td>0</td>\n",
       "      <td>0</td>\n",
       "      <td>0</td>\n",
       "    </tr>\n",
       "    <tr>\n",
       "      <th>4</th>\n",
       "      <td>3.801616</td>\n",
       "      <td>-0.732784</td>\n",
       "      <td>0.0186</td>\n",
       "      <td>0.056422</td>\n",
       "      <td>84.256726</td>\n",
       "      <td>101.513490</td>\n",
       "      <td>74.602441</td>\n",
       "      <td>-469.049530</td>\n",
       "      <td>0.904920</td>\n",
       "      <td>1.841905</td>\n",
       "      <td>...</td>\n",
       "      <td>10.014853</td>\n",
       "      <td>1.637334</td>\n",
       "      <td>0.036814</td>\n",
       "      <td>9.255766</td>\n",
       "      <td>1</td>\n",
       "      <td>4</td>\n",
       "      <td>1</td>\n",
       "      <td>0</td>\n",
       "      <td>0</td>\n",
       "      <td>0</td>\n",
       "    </tr>\n",
       "  </tbody>\n",
       "</table>\n",
       "<p>5 rows × 48 columns</p>\n",
       "</div>"
      ],
      "text/plain": [
       "         x1        x5      x7        x8         x11         x16        x18  \\\n",
       "0  4.747627 -1.815777  0.0098 -3.240309  101.113628  102.193597  75.256714   \n",
       "1  1.148654 -0.773707  0.0076  0.443209  104.791999   99.356609  79.061540   \n",
       "2  4.986860 -1.548690 -0.0005 -1.167885  102.109546  100.727360  87.567827   \n",
       "3  3.709183 -2.396549 -0.0160 -2.662226   84.256726  102.410965  71.825782   \n",
       "4  3.801616 -0.732784  0.0186  0.056422   84.256726  101.513490  74.602441   \n",
       "\n",
       "           x19        x21       x26  ...        x89       x90       x95  \\\n",
       "0   120.216190   4.794438 -3.152540  ...  11.553023  5.904644  0.533904   \n",
       "1  -267.562586  12.377178 -0.442525  ...   6.212811  4.876645  0.036814   \n",
       "2  -311.292903  31.135956 -0.303259  ...  10.847434  4.455432 -1.780474   \n",
       "3  2229.149400   1.822459  0.641209  ...  18.198978  3.947223  1.662240   \n",
       "4  -469.049530   0.904920  1.841905  ...  10.014853  1.637334  0.036814   \n",
       "\n",
       "         x96  x31  x33  x93  x16_indicator  x89_indicator  x96_indicator  \n",
       "0  12.438759    0    0    0              0              0              0  \n",
       "1  10.386987    1    1    1              0              0              0  \n",
       "2  11.328177    0    2    0              1              1              0  \n",
       "3  10.064961    0    3    0              0              0              0  \n",
       "4   9.255766    1    4    1              0              0              0  \n",
       "\n",
       "[5 rows x 48 columns]"
      ]
     },
     "execution_count": 134,
     "metadata": {},
     "output_type": "execute_result"
    }
   ],
   "source": [
    "df = df[significant_feat]\n",
    "df.head()"
   ]
  },
  {
   "cell_type": "code",
   "execution_count": 135,
   "metadata": {},
   "outputs": [
    {
     "data": {
      "text/plain": [
       "StandardScaler()"
      ]
     },
     "execution_count": 135,
     "metadata": {},
     "output_type": "execute_result"
    }
   ],
   "source": [
    "# Fit the scaler on the training data\n",
    "scaler.fit(df)"
   ]
  },
  {
   "cell_type": "markdown",
   "metadata": {},
   "source": [
    "# Final Prediction"
   ]
  },
  {
   "cell_type": "code",
   "execution_count": 136,
   "metadata": {},
   "outputs": [
    {
     "name": "stdout",
     "output_type": "stream",
     "text": [
      "[1 1 0 ... 0 0 1]\n"
     ]
    }
   ],
   "source": [
    "test_preds = gb.predict(X_test)\n",
    "print(test_preds)"
   ]
  },
  {
   "cell_type": "code",
   "execution_count": 137,
   "metadata": {},
   "outputs": [],
   "source": [
    "preds_df = pd.DataFrame(test_preds, columns = ['predictions'])\n",
    "preds_df.to_excel(\"gb_test_predictions.xlsx\") "
   ]
  },
  {
   "cell_type": "markdown",
   "metadata": {},
   "source": [
    "Column of probabilities for classification on the test set:"
   ]
  },
  {
   "cell_type": "code",
   "execution_count": 138,
   "metadata": {},
   "outputs": [
    {
     "data": {
      "text/plain": [
       "array([[0.11419279, 0.88580721],\n",
       "       [0.27910464, 0.72089536],\n",
       "       [0.75333181, 0.24666819],\n",
       "       ...,\n",
       "       [0.56698306, 0.43301694],\n",
       "       [0.51129794, 0.48870206],\n",
       "       [0.09429095, 0.90570905]])"
      ]
     },
     "execution_count": 138,
     "metadata": {},
     "output_type": "execute_result"
    }
   ],
   "source": [
    "gb.predict_proba(X_test)"
   ]
  },
  {
   "cell_type": "markdown",
   "metadata": {},
   "source": [
    "Export the result of predictions to xlsx file. The left column is the probabilities of belonging to negative class and the right column is the probablitites of belonging to the positive class. "
   ]
  },
  {
   "cell_type": "code",
   "execution_count": 139,
   "metadata": {},
   "outputs": [],
   "source": [
    "probs_df = pd.DataFrame(gb.predict_proba(X_test), columns = ['prob_0','prob_1'])\n",
    "probs_df.to_excel(\"gb_test_probabilities.xlsx\") "
   ]
  }
 ],
 "metadata": {
  "kernelspec": {
   "display_name": "Python 3",
   "language": "python",
   "name": "python3"
  },
  "language_info": {
   "codemirror_mode": {
    "name": "ipython",
    "version": 3
   },
   "file_extension": ".py",
   "mimetype": "text/x-python",
   "name": "python",
   "nbconvert_exporter": "python",
   "pygments_lexer": "ipython3",
   "version": "3.8.3"
  }
 },
 "nbformat": 4,
 "nbformat_minor": 4
}
